{
  "nbformat": 4,
  "nbformat_minor": 0,
  "metadata": {
    "colab": {
      "name": "toxic_comment_recognition.ipynb",
      "provenance": [],
      "collapsed_sections": []
    },
    "kernelspec": {
      "name": "python3",
      "display_name": "Python 3"
    },
    "language_info": {
      "name": "python"
    }
  },
  "cells": [
    {
      "cell_type": "code",
      "execution_count": 1,
      "metadata": {
        "id": "UUW8dDBxNdPg"
      },
      "outputs": [],
      "source": [
        "import pandas as pd"
      ]
    },
    {
      "cell_type": "code",
      "source": [
        "df = pd.read_csv('/content/toxic_comms.csv')"
      ],
      "metadata": {
        "id": "QhMUDwI8QHL1"
      },
      "execution_count": 3,
      "outputs": []
    },
    {
      "cell_type": "code",
      "source": [
        "df.head()"
      ],
      "metadata": {
        "colab": {
          "base_uri": "https://localhost:8080/",
          "height": 206
        },
        "id": "FkF74XgfQLha",
        "outputId": "80c414de-84b6-4bdb-c4ec-0bbfba1faf30"
      },
      "execution_count": null,
      "outputs": [
        {
          "output_type": "execute_result",
          "data": {
            "text/plain": [
              "                                             comment  toxic\n",
              "0               Верблюдов-то за что? Дебилы, бл...\\n    1.0\n",
              "1  Хохлы, это отдушина затюканого россиянина, мол...    1.0\n",
              "2                          Собаке - собачья смерть\\n    1.0\n",
              "3  Страницу обнови, дебил. Это тоже не оскорблени...    1.0\n",
              "4  тебя не убедил 6-страничный пдф в том, что Скр...    1.0"
            ],
            "text/html": [
              "\n",
              "  <div id=\"df-f994d6ed-b455-4115-b970-941f28b96171\">\n",
              "    <div class=\"colab-df-container\">\n",
              "      <div>\n",
              "<style scoped>\n",
              "    .dataframe tbody tr th:only-of-type {\n",
              "        vertical-align: middle;\n",
              "    }\n",
              "\n",
              "    .dataframe tbody tr th {\n",
              "        vertical-align: top;\n",
              "    }\n",
              "\n",
              "    .dataframe thead th {\n",
              "        text-align: right;\n",
              "    }\n",
              "</style>\n",
              "<table border=\"1\" class=\"dataframe\">\n",
              "  <thead>\n",
              "    <tr style=\"text-align: right;\">\n",
              "      <th></th>\n",
              "      <th>comment</th>\n",
              "      <th>toxic</th>\n",
              "    </tr>\n",
              "  </thead>\n",
              "  <tbody>\n",
              "    <tr>\n",
              "      <th>0</th>\n",
              "      <td>Верблюдов-то за что? Дебилы, бл...\\n</td>\n",
              "      <td>1.0</td>\n",
              "    </tr>\n",
              "    <tr>\n",
              "      <th>1</th>\n",
              "      <td>Хохлы, это отдушина затюканого россиянина, мол...</td>\n",
              "      <td>1.0</td>\n",
              "    </tr>\n",
              "    <tr>\n",
              "      <th>2</th>\n",
              "      <td>Собаке - собачья смерть\\n</td>\n",
              "      <td>1.0</td>\n",
              "    </tr>\n",
              "    <tr>\n",
              "      <th>3</th>\n",
              "      <td>Страницу обнови, дебил. Это тоже не оскорблени...</td>\n",
              "      <td>1.0</td>\n",
              "    </tr>\n",
              "    <tr>\n",
              "      <th>4</th>\n",
              "      <td>тебя не убедил 6-страничный пдф в том, что Скр...</td>\n",
              "      <td>1.0</td>\n",
              "    </tr>\n",
              "  </tbody>\n",
              "</table>\n",
              "</div>\n",
              "      <button class=\"colab-df-convert\" onclick=\"convertToInteractive('df-f994d6ed-b455-4115-b970-941f28b96171')\"\n",
              "              title=\"Convert this dataframe to an interactive table.\"\n",
              "              style=\"display:none;\">\n",
              "        \n",
              "  <svg xmlns=\"http://www.w3.org/2000/svg\" height=\"24px\"viewBox=\"0 0 24 24\"\n",
              "       width=\"24px\">\n",
              "    <path d=\"M0 0h24v24H0V0z\" fill=\"none\"/>\n",
              "    <path d=\"M18.56 5.44l.94 2.06.94-2.06 2.06-.94-2.06-.94-.94-2.06-.94 2.06-2.06.94zm-11 1L8.5 8.5l.94-2.06 2.06-.94-2.06-.94L8.5 2.5l-.94 2.06-2.06.94zm10 10l.94 2.06.94-2.06 2.06-.94-2.06-.94-.94-2.06-.94 2.06-2.06.94z\"/><path d=\"M17.41 7.96l-1.37-1.37c-.4-.4-.92-.59-1.43-.59-.52 0-1.04.2-1.43.59L10.3 9.45l-7.72 7.72c-.78.78-.78 2.05 0 2.83L4 21.41c.39.39.9.59 1.41.59.51 0 1.02-.2 1.41-.59l7.78-7.78 2.81-2.81c.8-.78.8-2.07 0-2.86zM5.41 20L4 18.59l7.72-7.72 1.47 1.35L5.41 20z\"/>\n",
              "  </svg>\n",
              "      </button>\n",
              "      \n",
              "  <style>\n",
              "    .colab-df-container {\n",
              "      display:flex;\n",
              "      flex-wrap:wrap;\n",
              "      gap: 12px;\n",
              "    }\n",
              "\n",
              "    .colab-df-convert {\n",
              "      background-color: #E8F0FE;\n",
              "      border: none;\n",
              "      border-radius: 50%;\n",
              "      cursor: pointer;\n",
              "      display: none;\n",
              "      fill: #1967D2;\n",
              "      height: 32px;\n",
              "      padding: 0 0 0 0;\n",
              "      width: 32px;\n",
              "    }\n",
              "\n",
              "    .colab-df-convert:hover {\n",
              "      background-color: #E2EBFA;\n",
              "      box-shadow: 0px 1px 2px rgba(60, 64, 67, 0.3), 0px 1px 3px 1px rgba(60, 64, 67, 0.15);\n",
              "      fill: #174EA6;\n",
              "    }\n",
              "\n",
              "    [theme=dark] .colab-df-convert {\n",
              "      background-color: #3B4455;\n",
              "      fill: #D2E3FC;\n",
              "    }\n",
              "\n",
              "    [theme=dark] .colab-df-convert:hover {\n",
              "      background-color: #434B5C;\n",
              "      box-shadow: 0px 1px 3px 1px rgba(0, 0, 0, 0.15);\n",
              "      filter: drop-shadow(0px 1px 2px rgba(0, 0, 0, 0.3));\n",
              "      fill: #FFFFFF;\n",
              "    }\n",
              "  </style>\n",
              "\n",
              "      <script>\n",
              "        const buttonEl =\n",
              "          document.querySelector('#df-f994d6ed-b455-4115-b970-941f28b96171 button.colab-df-convert');\n",
              "        buttonEl.style.display =\n",
              "          google.colab.kernel.accessAllowed ? 'block' : 'none';\n",
              "\n",
              "        async function convertToInteractive(key) {\n",
              "          const element = document.querySelector('#df-f994d6ed-b455-4115-b970-941f28b96171');\n",
              "          const dataTable =\n",
              "            await google.colab.kernel.invokeFunction('convertToInteractive',\n",
              "                                                     [key], {});\n",
              "          if (!dataTable) return;\n",
              "\n",
              "          const docLinkHtml = 'Like what you see? Visit the ' +\n",
              "            '<a target=\"_blank\" href=https://colab.research.google.com/notebooks/data_table.ipynb>data table notebook</a>'\n",
              "            + ' to learn more about interactive tables.';\n",
              "          element.innerHTML = '';\n",
              "          dataTable['output_type'] = 'display_data';\n",
              "          await google.colab.output.renderOutput(dataTable, element);\n",
              "          const docLink = document.createElement('div');\n",
              "          docLink.innerHTML = docLinkHtml;\n",
              "          element.appendChild(docLink);\n",
              "        }\n",
              "      </script>\n",
              "    </div>\n",
              "  </div>\n",
              "  "
            ]
          },
          "metadata": {},
          "execution_count": 50
        }
      ]
    },
    {
      "cell_type": "code",
      "source": [
        "df.shape"
      ],
      "metadata": {
        "colab": {
          "base_uri": "https://localhost:8080/"
        },
        "id": "HMAWuxPgQP7-",
        "outputId": "08cd0304-25d9-4471-c2ac-90698f137115"
      },
      "execution_count": null,
      "outputs": [
        {
          "output_type": "execute_result",
          "data": {
            "text/plain": [
              "(14412, 2)"
            ]
          },
          "metadata": {},
          "execution_count": 6
        }
      ]
    },
    {
      "cell_type": "code",
      "source": [
        "import nltk"
      ],
      "metadata": {
        "id": "EEGkqKFaQj9m"
      },
      "execution_count": 5,
      "outputs": []
    },
    {
      "cell_type": "code",
      "source": [
        "from sklearn.model_selection import train_test_split"
      ],
      "metadata": {
        "id": "A61-GXMaQt13"
      },
      "execution_count": 4,
      "outputs": []
    },
    {
      "cell_type": "code",
      "source": [
        "df_train, df_test = train_test_split(df, test_size=0.3, random_state=0)"
      ],
      "metadata": {
        "id": "p5r3-54LRHB2"
      },
      "execution_count": 6,
      "outputs": []
    },
    {
      "cell_type": "code",
      "source": [
        "sentence = df.iloc[1][\"comment\"]"
      ],
      "metadata": {
        "id": "Sxa0GJAJRa0F"
      },
      "execution_count": 21,
      "outputs": []
    },
    {
      "cell_type": "code",
      "source": [
        "sentence"
      ],
      "metadata": {
        "colab": {
          "base_uri": "https://localhost:8080/",
          "height": 53
        },
        "id": "ww3oDyPETX44",
        "outputId": "338aa546-86e9-4af1-9fef-4b3469519e73"
      },
      "execution_count": 22,
      "outputs": [
        {
          "output_type": "execute_result",
          "data": {
            "text/plain": [
              "'Хохлы, это отдушина затюканого россиянина, мол, вон, а у хохлов еще хуже. Если бы хохлов не было, кисель их бы придумал.\\n'"
            ],
            "application/vnd.google.colaboratory.intrinsic+json": {
              "type": "string"
            }
          },
          "metadata": {},
          "execution_count": 22
        }
      ]
    },
    {
      "cell_type": "code",
      "source": [
        "from nltk.tokenize import word_tokenize"
      ],
      "metadata": {
        "id": "Zh4R6t77Tzzn"
      },
      "execution_count": 23,
      "outputs": []
    },
    {
      "cell_type": "code",
      "source": [
        "nltk.download('punkt')"
      ],
      "metadata": {
        "colab": {
          "base_uri": "https://localhost:8080/"
        },
        "id": "7pdXTd0hUZvL",
        "outputId": "bc62fbeb-6d46-45db-b87f-d07b5fff7066"
      },
      "execution_count": 7,
      "outputs": [
        {
          "output_type": "stream",
          "name": "stderr",
          "text": [
            "[nltk_data] Downloading package punkt to /root/nltk_data...\n",
            "[nltk_data]   Unzipping tokenizers/punkt.zip.\n"
          ]
        },
        {
          "output_type": "execute_result",
          "data": {
            "text/plain": [
              "True"
            ]
          },
          "metadata": {},
          "execution_count": 7
        }
      ]
    },
    {
      "cell_type": "code",
      "source": [
        "sentence_tokenized = word_tokenize(sentence,language='russian')"
      ],
      "metadata": {
        "id": "SXr7RR_TUMo-"
      },
      "execution_count": 24,
      "outputs": []
    },
    {
      "cell_type": "code",
      "source": [
        "sentence_tokenized"
      ],
      "metadata": {
        "colab": {
          "base_uri": "https://localhost:8080/"
        },
        "id": "oF4pQw6pUb_W",
        "outputId": "5fee9fed-9208-431c-f592-7f27ed962fb8"
      },
      "execution_count": null,
      "outputs": [
        {
          "output_type": "execute_result",
          "data": {
            "text/plain": [
              "['Хохлы',\n",
              " ',',\n",
              " 'это',\n",
              " 'отдушина',\n",
              " 'затюканого',\n",
              " 'россиянина',\n",
              " ',',\n",
              " 'мол',\n",
              " ',',\n",
              " 'вон',\n",
              " ',',\n",
              " 'а',\n",
              " 'у',\n",
              " 'хохлов',\n",
              " 'еще',\n",
              " 'хуже',\n",
              " '.',\n",
              " 'Если',\n",
              " 'бы',\n",
              " 'хохлов',\n",
              " 'не',\n",
              " 'было',\n",
              " ',',\n",
              " 'кисель',\n",
              " 'их',\n",
              " 'бы',\n",
              " 'придумал',\n",
              " '.']"
            ]
          },
          "metadata": {},
          "execution_count": 15
        }
      ]
    },
    {
      "cell_type": "code",
      "source": [
        "from nltk.corpus import stopwords"
      ],
      "metadata": {
        "id": "XA3Uj-HmWlOZ"
      },
      "execution_count": 8,
      "outputs": []
    },
    {
      "cell_type": "code",
      "source": [
        "nltk.download('stopwords')"
      ],
      "metadata": {
        "colab": {
          "base_uri": "https://localhost:8080/"
        },
        "id": "nwzm9eTjXHOp",
        "outputId": "5eb71b2a-97bd-4156-ae3d-abbe6ded6b2d"
      },
      "execution_count": 17,
      "outputs": [
        {
          "output_type": "stream",
          "name": "stderr",
          "text": [
            "[nltk_data] Downloading package stopwords to /root/nltk_data...\n",
            "[nltk_data]   Unzipping corpora/stopwords.zip.\n"
          ]
        },
        {
          "output_type": "execute_result",
          "data": {
            "text/plain": [
              "True"
            ]
          },
          "metadata": {},
          "execution_count": 17
        }
      ]
    },
    {
      "cell_type": "code",
      "source": [
        "sentence_stopword = [word for word in sentence_tokenized if not word in stopwords.words('russian')]"
      ],
      "metadata": {
        "id": "RcopiFlyWp2W"
      },
      "execution_count": 25,
      "outputs": []
    },
    {
      "cell_type": "code",
      "source": [
        "sentence_stopword"
      ],
      "metadata": {
        "colab": {
          "base_uri": "https://localhost:8080/"
        },
        "id": "yDF4vUr-XNdY",
        "outputId": "45988c8f-bfcf-453a-f1d8-5f09ff93c8de"
      },
      "execution_count": 26,
      "outputs": [
        {
          "output_type": "execute_result",
          "data": {
            "text/plain": [
              "['Хохлы',\n",
              " ',',\n",
              " 'это',\n",
              " 'отдушина',\n",
              " 'затюканого',\n",
              " 'россиянина',\n",
              " ',',\n",
              " 'мол',\n",
              " ',',\n",
              " 'вон',\n",
              " ',',\n",
              " 'хохлов',\n",
              " 'хуже',\n",
              " '.',\n",
              " 'Если',\n",
              " 'хохлов',\n",
              " ',',\n",
              " 'кисель',\n",
              " 'придумал',\n",
              " '.']"
            ]
          },
          "metadata": {},
          "execution_count": 26
        }
      ]
    },
    {
      "cell_type": "code",
      "source": [
        "from nltk.stem import PorterStemmer "
      ],
      "metadata": {
        "id": "hq9CEsmUXvDS"
      },
      "execution_count": 9,
      "outputs": []
    },
    {
      "cell_type": "code",
      "source": [
        "ps = PorterStemmer()"
      ],
      "metadata": {
        "id": "2tzszssMXwQz"
      },
      "execution_count": 10,
      "outputs": []
    },
    {
      "cell_type": "code",
      "source": [
        "sentence_lower = [word.lower() for word in sentence_stopword]"
      ],
      "metadata": {
        "id": "8Po7x_4pXzcF"
      },
      "execution_count": 27,
      "outputs": []
    },
    {
      "cell_type": "code",
      "source": [
        "sentences = []\n",
        "for i in sentence_lower:\n",
        "  if i == ',' or i =='.':\n",
        "    pass\n",
        "  else:\n",
        "    sentences.append(i)"
      ],
      "metadata": {
        "id": "VervmkttZcbb"
      },
      "execution_count": 28,
      "outputs": []
    },
    {
      "cell_type": "code",
      "source": [
        "sentences"
      ],
      "metadata": {
        "colab": {
          "base_uri": "https://localhost:8080/"
        },
        "id": "oZXsoDXRZwI3",
        "outputId": "327966d5-822b-4d5a-92b0-223200b21adc"
      },
      "execution_count": null,
      "outputs": [
        {
          "output_type": "execute_result",
          "data": {
            "text/plain": [
              "['хохлы',\n",
              " 'это',\n",
              " 'отдушина',\n",
              " 'затюканого',\n",
              " 'россиянина',\n",
              " 'мол',\n",
              " 'вон',\n",
              " 'хохлов',\n",
              " 'хуже',\n",
              " 'если',\n",
              " 'хохлов',\n",
              " 'кисель',\n",
              " 'придумал']"
            ]
          },
          "metadata": {},
          "execution_count": 24
        }
      ]
    },
    {
      "cell_type": "code",
      "source": [
        "from nltk.stem import SnowballStemmer\n",
        "snowball = SnowballStemmer(language=\"russian\")"
      ],
      "metadata": {
        "id": "Do0ElZw4bH8n"
      },
      "execution_count": 11,
      "outputs": []
    },
    {
      "cell_type": "code",
      "source": [
        "sentences_stem = [snowball.stem(i) for i in sentences]"
      ],
      "metadata": {
        "id": "aKMMOlu1cCre"
      },
      "execution_count": 29,
      "outputs": []
    },
    {
      "cell_type": "code",
      "source": [
        "sentences_stem"
      ],
      "metadata": {
        "colab": {
          "base_uri": "https://localhost:8080/"
        },
        "id": "iFdSLsOgcOPz",
        "outputId": "779fc9e6-6507-48fe-ab0e-940ba4dabc55"
      },
      "execution_count": null,
      "outputs": [
        {
          "output_type": "execute_result",
          "data": {
            "text/plain": [
              "['хохл',\n",
              " 'эт',\n",
              " 'отдушин',\n",
              " 'затюкан',\n",
              " 'россиянин',\n",
              " 'мол',\n",
              " 'вон',\n",
              " 'хохл',\n",
              " 'хуж',\n",
              " 'есл',\n",
              " 'хохл',\n",
              " 'кисел',\n",
              " 'придума']"
            ]
          },
          "metadata": {},
          "execution_count": 27
        }
      ]
    },
    {
      "cell_type": "code",
      "source": [
        "from sklearn.feature_extraction.text import CountVectorizer"
      ],
      "metadata": {
        "id": "JM4ZUgP4c7nD"
      },
      "execution_count": 12,
      "outputs": []
    },
    {
      "cell_type": "code",
      "source": [
        "def tokenize_sentence(sentence):\n",
        "  sentence_tokenized = word_tokenize(sentence,language='russian')\n",
        "  sentence_stopword = [word for word in sentence_tokenized if not word in stopwords.words('russian')]\n",
        "  sentence_lower = [word.lower() for word in sentence_stopword]\n",
        "  sentences = []\n",
        "  for i in sentence_lower:\n",
        "    if i == ',' or i =='.':\n",
        "      pass\n",
        "    else:\n",
        "      sentences.append(i)\n",
        "  token = [snowball.stem(i) for i in sentences]\n",
        "  return token"
      ],
      "metadata": {
        "id": "y_DiTLyOc910"
      },
      "execution_count": 13,
      "outputs": []
    },
    {
      "cell_type": "code",
      "source": [
        "tokenize_sentence(df.iloc[1][\"comment\"])"
      ],
      "metadata": {
        "colab": {
          "base_uri": "https://localhost:8080/"
        },
        "id": "9HZxbpgTePeS",
        "outputId": "ffd6164b-e732-4ed7-87c9-2298290211f5"
      },
      "execution_count": null,
      "outputs": [
        {
          "output_type": "execute_result",
          "data": {
            "text/plain": [
              "['хохл',\n",
              " 'эт',\n",
              " 'отдушин',\n",
              " 'затюкан',\n",
              " 'россиянин',\n",
              " 'мол',\n",
              " 'вон',\n",
              " 'хохл',\n",
              " 'хуж',\n",
              " 'есл',\n",
              " 'хохл',\n",
              " 'кисел',\n",
              " 'придума']"
            ]
          },
          "metadata": {},
          "execution_count": 30
        }
      ]
    },
    {
      "cell_type": "code",
      "source": [
        "cv = CountVectorizer(tokenizer=lambda x: tokenize_sentence(x))"
      ],
      "metadata": {
        "id": "LQcEA0Sjeusk"
      },
      "execution_count": 14,
      "outputs": []
    },
    {
      "cell_type": "code",
      "source": [
        "df_train.iloc[-1]['comment']"
      ],
      "metadata": {
        "colab": {
          "base_uri": "https://localhost:8080/",
          "height": 35
        },
        "id": "rXz_1KyBgAj0",
        "outputId": "5a4418cc-33aa-4461-ae06-fd6e19cc8412"
      },
      "execution_count": 30,
      "outputs": [
        {
          "output_type": "execute_result",
          "data": {
            "text/plain": [
              "'Передайте своему пидарасу понасенко, что он спалился как кремлевский пидар, когда на Шульман наехал. у меня всё\\n'"
            ],
            "application/vnd.google.colaboratory.intrinsic+json": {
              "type": "string"
            }
          },
          "metadata": {},
          "execution_count": 30
        }
      ]
    },
    {
      "cell_type": "code",
      "source": [
        "features = cv.fit_transform(df_train['comment'])"
      ],
      "metadata": {
        "id": "NJS57RrEgc6A"
      },
      "execution_count": 31,
      "outputs": []
    },
    {
      "cell_type": "code",
      "source": [
        "features.toarray()"
      ],
      "metadata": {
        "colab": {
          "base_uri": "https://localhost:8080/"
        },
        "id": "4Or2GVkwg4vx",
        "outputId": "0253d13c-977f-4f51-ee2a-dac5d91faf03"
      },
      "execution_count": 32,
      "outputs": [
        {
          "output_type": "execute_result",
          "data": {
            "text/plain": [
              "array([[2, 0, 0, ..., 0, 0, 0],\n",
              "       [0, 0, 0, ..., 0, 0, 0],\n",
              "       [0, 0, 0, ..., 0, 0, 0],\n",
              "       ...,\n",
              "       [0, 0, 0, ..., 0, 0, 0],\n",
              "       [0, 0, 0, ..., 0, 0, 0],\n",
              "       [0, 0, 0, ..., 0, 0, 0]])"
            ]
          },
          "metadata": {},
          "execution_count": 32
        }
      ]
    },
    {
      "cell_type": "code",
      "source": [
        "from xgboost import XGBClassifier"
      ],
      "metadata": {
        "id": "yDIwy1mvhXJO"
      },
      "execution_count": 33,
      "outputs": []
    },
    {
      "cell_type": "code",
      "source": [
        "from sklearn.pipeline import Pipeline"
      ],
      "metadata": {
        "id": "cap_kwRsiplT"
      },
      "execution_count": 34,
      "outputs": []
    },
    {
      "cell_type": "code",
      "source": [
        "from sklearn.linear_model import LogisticRegression"
      ],
      "metadata": {
        "id": "McqmLt5PklaY"
      },
      "execution_count": null,
      "outputs": []
    },
    {
      "cell_type": "code",
      "source": [
        "model_pipeline = Pipeline([\n",
        "    ('vectorizer', CountVectorizer(tokenizer=lambda x: tokenize_sentence(x))),\n",
        "    ('model', XGBClassifier(random_state=0))\n",
        "])"
      ],
      "metadata": {
        "id": "4kkTZzDajs8q"
      },
      "execution_count": null,
      "outputs": []
    },
    {
      "cell_type": "code",
      "source": [
        "model_pipeline.fit(df_train['comment'], df_train['toxic'])"
      ],
      "metadata": {
        "colab": {
          "base_uri": "https://localhost:8080/"
        },
        "id": "G3V_wlAZkwyu",
        "outputId": "6a56c3ce-13d2-41dc-f949-be31c4dc73b3"
      },
      "execution_count": null,
      "outputs": [
        {
          "output_type": "execute_result",
          "data": {
            "text/plain": [
              "Pipeline(steps=[('vectorizer',\n",
              "                 CountVectorizer(tokenizer=<function <lambda> at 0x7f072bab4680>)),\n",
              "                ('model', XGBClassifier())])"
            ]
          },
          "metadata": {},
          "execution_count": 40
        }
      ]
    },
    {
      "cell_type": "code",
      "source": [
        "from sklearn.metrics import precision_score, recall_score, precision_recall_curve"
      ],
      "metadata": {
        "id": "HTIfhasJYlo7"
      },
      "execution_count": null,
      "outputs": []
    },
    {
      "cell_type": "code",
      "source": [
        "precision_score(y_true=df_test['toxic'], y_pred=model_pipeline.predict(df_test['comment']))"
      ],
      "metadata": {
        "colab": {
          "base_uri": "https://localhost:8080/"
        },
        "id": "pcQnotTKYs62",
        "outputId": "a9afa6b9-45f6-42c8-e6a3-8f48a7c7118f"
      },
      "execution_count": null,
      "outputs": [
        {
          "output_type": "execute_result",
          "data": {
            "text/plain": [
              "0.8795620437956204"
            ]
          },
          "metadata": {},
          "execution_count": 43
        }
      ]
    },
    {
      "cell_type": "code",
      "source": [
        "from sklearn.model_selection import GridSearchCV"
      ],
      "metadata": {
        "id": "0rSyzrUPbo_A"
      },
      "execution_count": 35,
      "outputs": []
    },
    {
      "cell_type": "code",
      "source": [
        "grid_pipeline = Pipeline([\n",
        "    ('vectorizer', CountVectorizer(tokenizer=lambda x: tokenize_sentence(x))),\n",
        "    ('model', GridSearchCV(\n",
        "        estimator=XGBClassifier(random_state=0),\n",
        "        param_grid= {\n",
        "        'min_child_weight': [1, 5, 10],\n",
        "        'gamma': [0.5, 1, 1.5, 2, 5],\n",
        "        'subsample': [0.6, 0.8, 1.0],\n",
        "        'colsample_bytree': [0.6, 0.8, 1.0],\n",
        "        'max_depth': [3, 4, 5]\n",
        "        },\n",
        "        cv=3,\n",
        "        verbose=4\n",
        "        )\n",
        "    )\n",
        "])"
      ],
      "metadata": {
        "id": "OWDFS8cTbtYa"
      },
      "execution_count": null,
      "outputs": []
    },
    {
      "cell_type": "code",
      "source": [
        "grid_pipeline.fit(df_train['comment'], df_train['toxic'])"
      ],
      "metadata": {
        "colab": {
          "base_uri": "https://localhost:8080/"
        },
        "id": "JTgfLWBTedWQ",
        "outputId": "ba34e6d7-adfa-4e15-f75e-8bb8a3dd3995"
      },
      "execution_count": null,
      "outputs": [
        {
          "output_type": "stream",
          "name": "stdout",
          "text": [
            "Fitting 3 folds for each of 405 candidates, totalling 1215 fits\n",
            "[CV 1/3] END colsample_bytree=0.6, gamma=0.5, max_depth=3, min_child_weight=1, subsample=0.6;, score=0.755 total time=   2.2s\n",
            "[CV 2/3] END colsample_bytree=0.6, gamma=0.5, max_depth=3, min_child_weight=1, subsample=0.6;, score=0.763 total time=   2.2s\n",
            "[CV 3/3] END colsample_bytree=0.6, gamma=0.5, max_depth=3, min_child_weight=1, subsample=0.6;, score=0.746 total time=   2.3s\n",
            "[CV 1/3] END colsample_bytree=0.6, gamma=0.5, max_depth=3, min_child_weight=1, subsample=0.8;, score=0.755 total time=   2.2s\n",
            "[CV 2/3] END colsample_bytree=0.6, gamma=0.5, max_depth=3, min_child_weight=1, subsample=0.8;, score=0.763 total time=   2.2s\n",
            "[CV 3/3] END colsample_bytree=0.6, gamma=0.5, max_depth=3, min_child_weight=1, subsample=0.8;, score=0.747 total time=   2.2s\n",
            "[CV 1/3] END colsample_bytree=0.6, gamma=0.5, max_depth=3, min_child_weight=1, subsample=1.0;, score=0.751 total time=   2.1s\n",
            "[CV 2/3] END colsample_bytree=0.6, gamma=0.5, max_depth=3, min_child_weight=1, subsample=1.0;, score=0.768 total time=   2.1s\n",
            "[CV 3/3] END colsample_bytree=0.6, gamma=0.5, max_depth=3, min_child_weight=1, subsample=1.0;, score=0.744 total time=   2.1s\n",
            "[CV 1/3] END colsample_bytree=0.6, gamma=0.5, max_depth=3, min_child_weight=5, subsample=0.6;, score=0.746 total time=   2.2s\n",
            "[CV 2/3] END colsample_bytree=0.6, gamma=0.5, max_depth=3, min_child_weight=5, subsample=0.6;, score=0.753 total time=   2.2s\n",
            "[CV 3/3] END colsample_bytree=0.6, gamma=0.5, max_depth=3, min_child_weight=5, subsample=0.6;, score=0.730 total time=   2.3s\n",
            "[CV 1/3] END colsample_bytree=0.6, gamma=0.5, max_depth=3, min_child_weight=5, subsample=0.8;, score=0.753 total time=   2.2s\n",
            "[CV 2/3] END colsample_bytree=0.6, gamma=0.5, max_depth=3, min_child_weight=5, subsample=0.8;, score=0.756 total time=   2.1s\n",
            "[CV 3/3] END colsample_bytree=0.6, gamma=0.5, max_depth=3, min_child_weight=5, subsample=0.8;, score=0.741 total time=   2.2s\n",
            "[CV 1/3] END colsample_bytree=0.6, gamma=0.5, max_depth=3, min_child_weight=5, subsample=1.0;, score=0.750 total time=   2.1s\n",
            "[CV 2/3] END colsample_bytree=0.6, gamma=0.5, max_depth=3, min_child_weight=5, subsample=1.0;, score=0.758 total time=   2.1s\n",
            "[CV 3/3] END colsample_bytree=0.6, gamma=0.5, max_depth=3, min_child_weight=5, subsample=1.0;, score=0.736 total time=   2.1s\n",
            "[CV 1/3] END colsample_bytree=0.6, gamma=0.5, max_depth=3, min_child_weight=10, subsample=0.6;, score=0.724 total time=   2.5s\n",
            "[CV 2/3] END colsample_bytree=0.6, gamma=0.5, max_depth=3, min_child_weight=10, subsample=0.6;, score=0.718 total time=   3.6s\n",
            "[CV 3/3] END colsample_bytree=0.6, gamma=0.5, max_depth=3, min_child_weight=10, subsample=0.6;, score=0.714 total time=   2.2s\n",
            "[CV 1/3] END colsample_bytree=0.6, gamma=0.5, max_depth=3, min_child_weight=10, subsample=0.8;, score=0.729 total time=   2.2s\n",
            "[CV 2/3] END colsample_bytree=0.6, gamma=0.5, max_depth=3, min_child_weight=10, subsample=0.8;, score=0.736 total time=   2.2s\n",
            "[CV 3/3] END colsample_bytree=0.6, gamma=0.5, max_depth=3, min_child_weight=10, subsample=0.8;, score=0.720 total time=   2.2s\n",
            "[CV 1/3] END colsample_bytree=0.6, gamma=0.5, max_depth=3, min_child_weight=10, subsample=1.0;, score=0.736 total time=   2.1s\n",
            "[CV 2/3] END colsample_bytree=0.6, gamma=0.5, max_depth=3, min_child_weight=10, subsample=1.0;, score=0.739 total time=   2.1s\n",
            "[CV 3/3] END colsample_bytree=0.6, gamma=0.5, max_depth=3, min_child_weight=10, subsample=1.0;, score=0.722 total time=   2.1s\n",
            "[CV 1/3] END colsample_bytree=0.6, gamma=0.5, max_depth=4, min_child_weight=1, subsample=0.6;, score=0.763 total time=   2.8s\n",
            "[CV 2/3] END colsample_bytree=0.6, gamma=0.5, max_depth=4, min_child_weight=1, subsample=0.6;, score=0.776 total time=   2.8s\n",
            "[CV 3/3] END colsample_bytree=0.6, gamma=0.5, max_depth=4, min_child_weight=1, subsample=0.6;, score=0.759 total time=   2.9s\n",
            "[CV 1/3] END colsample_bytree=0.6, gamma=0.5, max_depth=4, min_child_weight=1, subsample=0.8;, score=0.766 total time=   3.4s\n",
            "[CV 2/3] END colsample_bytree=0.6, gamma=0.5, max_depth=4, min_child_weight=1, subsample=0.8;, score=0.776 total time=   4.0s\n",
            "[CV 3/3] END colsample_bytree=0.6, gamma=0.5, max_depth=4, min_child_weight=1, subsample=0.8;, score=0.761 total time=   2.8s\n",
            "[CV 1/3] END colsample_bytree=0.6, gamma=0.5, max_depth=4, min_child_weight=1, subsample=1.0;, score=0.765 total time=   2.7s\n",
            "[CV 2/3] END colsample_bytree=0.6, gamma=0.5, max_depth=4, min_child_weight=1, subsample=1.0;, score=0.777 total time=   2.7s\n",
            "[CV 3/3] END colsample_bytree=0.6, gamma=0.5, max_depth=4, min_child_weight=1, subsample=1.0;, score=0.754 total time=   2.7s\n",
            "[CV 1/3] END colsample_bytree=0.6, gamma=0.5, max_depth=4, min_child_weight=5, subsample=0.6;, score=0.753 total time=   2.8s\n",
            "[CV 2/3] END colsample_bytree=0.6, gamma=0.5, max_depth=4, min_child_weight=5, subsample=0.6;, score=0.756 total time=   2.8s\n",
            "[CV 3/3] END colsample_bytree=0.6, gamma=0.5, max_depth=4, min_child_weight=5, subsample=0.6;, score=0.736 total time=   2.8s\n",
            "[CV 1/3] END colsample_bytree=0.6, gamma=0.5, max_depth=4, min_child_weight=5, subsample=0.8;, score=0.757 total time=   2.8s\n",
            "[CV 2/3] END colsample_bytree=0.6, gamma=0.5, max_depth=4, min_child_weight=5, subsample=0.8;, score=0.766 total time=   2.8s\n",
            "[CV 3/3] END colsample_bytree=0.6, gamma=0.5, max_depth=4, min_child_weight=5, subsample=0.8;, score=0.744 total time=   2.8s\n",
            "[CV 1/3] END colsample_bytree=0.6, gamma=0.5, max_depth=4, min_child_weight=5, subsample=1.0;, score=0.758 total time=   2.7s\n",
            "[CV 2/3] END colsample_bytree=0.6, gamma=0.5, max_depth=4, min_child_weight=5, subsample=1.0;, score=0.765 total time=   2.7s\n",
            "[CV 3/3] END colsample_bytree=0.6, gamma=0.5, max_depth=4, min_child_weight=5, subsample=1.0;, score=0.746 total time=   2.7s\n",
            "[CV 1/3] END colsample_bytree=0.6, gamma=0.5, max_depth=4, min_child_weight=10, subsample=0.6;, score=0.724 total time=   2.8s\n",
            "[CV 2/3] END colsample_bytree=0.6, gamma=0.5, max_depth=4, min_child_weight=10, subsample=0.6;, score=0.721 total time=   2.8s\n",
            "[CV 3/3] END colsample_bytree=0.6, gamma=0.5, max_depth=4, min_child_weight=10, subsample=0.6;, score=0.715 total time=   2.8s\n",
            "[CV 1/3] END colsample_bytree=0.6, gamma=0.5, max_depth=4, min_child_weight=10, subsample=0.8;, score=0.731 total time=   2.8s\n",
            "[CV 2/3] END colsample_bytree=0.6, gamma=0.5, max_depth=4, min_child_weight=10, subsample=0.8;, score=0.734 total time=   2.8s\n",
            "[CV 3/3] END colsample_bytree=0.6, gamma=0.5, max_depth=4, min_child_weight=10, subsample=0.8;, score=0.723 total time=   2.7s\n",
            "[CV 1/3] END colsample_bytree=0.6, gamma=0.5, max_depth=4, min_child_weight=10, subsample=1.0;, score=0.739 total time=   2.7s\n",
            "[CV 2/3] END colsample_bytree=0.6, gamma=0.5, max_depth=4, min_child_weight=10, subsample=1.0;, score=0.741 total time=   2.7s\n",
            "[CV 3/3] END colsample_bytree=0.6, gamma=0.5, max_depth=4, min_child_weight=10, subsample=1.0;, score=0.724 total time=   2.7s\n",
            "[CV 1/3] END colsample_bytree=0.6, gamma=0.5, max_depth=5, min_child_weight=1, subsample=0.6;, score=0.774 total time=   3.5s\n",
            "[CV 2/3] END colsample_bytree=0.6, gamma=0.5, max_depth=5, min_child_weight=1, subsample=0.6;, score=0.786 total time=   3.6s\n",
            "[CV 3/3] END colsample_bytree=0.6, gamma=0.5, max_depth=5, min_child_weight=1, subsample=0.6;, score=0.764 total time=   3.5s\n",
            "[CV 1/3] END colsample_bytree=0.6, gamma=0.5, max_depth=5, min_child_weight=1, subsample=0.8;, score=0.771 total time=   3.4s\n",
            "[CV 2/3] END colsample_bytree=0.6, gamma=0.5, max_depth=5, min_child_weight=1, subsample=0.8;, score=0.787 total time=   3.5s\n",
            "[CV 3/3] END colsample_bytree=0.6, gamma=0.5, max_depth=5, min_child_weight=1, subsample=0.8;, score=0.768 total time=   3.4s\n",
            "[CV 1/3] END colsample_bytree=0.6, gamma=0.5, max_depth=5, min_child_weight=1, subsample=1.0;, score=0.776 total time=   3.3s\n",
            "[CV 2/3] END colsample_bytree=0.6, gamma=0.5, max_depth=5, min_child_weight=1, subsample=1.0;, score=0.783 total time=   3.3s\n",
            "[CV 3/3] END colsample_bytree=0.6, gamma=0.5, max_depth=5, min_child_weight=1, subsample=1.0;, score=0.761 total time=   3.3s\n",
            "[CV 1/3] END colsample_bytree=0.6, gamma=0.5, max_depth=5, min_child_weight=5, subsample=0.6;, score=0.759 total time=   3.4s\n",
            "[CV 2/3] END colsample_bytree=0.6, gamma=0.5, max_depth=5, min_child_weight=5, subsample=0.6;, score=0.760 total time=   3.4s\n",
            "[CV 3/3] END colsample_bytree=0.6, gamma=0.5, max_depth=5, min_child_weight=5, subsample=0.6;, score=0.745 total time=   4.0s\n",
            "[CV 1/3] END colsample_bytree=0.6, gamma=0.5, max_depth=5, min_child_weight=5, subsample=0.8;, score=0.763 total time=   3.3s\n",
            "[CV 2/3] END colsample_bytree=0.6, gamma=0.5, max_depth=5, min_child_weight=5, subsample=0.8;, score=0.766 total time=   3.4s\n",
            "[CV 3/3] END colsample_bytree=0.6, gamma=0.5, max_depth=5, min_child_weight=5, subsample=0.8;, score=0.756 total time=   3.4s\n",
            "[CV 1/3] END colsample_bytree=0.6, gamma=0.5, max_depth=5, min_child_weight=5, subsample=1.0;, score=0.765 total time=   3.3s\n",
            "[CV 2/3] END colsample_bytree=0.6, gamma=0.5, max_depth=5, min_child_weight=5, subsample=1.0;, score=0.769 total time=   3.3s\n",
            "[CV 3/3] END colsample_bytree=0.6, gamma=0.5, max_depth=5, min_child_weight=5, subsample=1.0;, score=0.757 total time=   3.3s\n",
            "[CV 1/3] END colsample_bytree=0.6, gamma=0.5, max_depth=5, min_child_weight=10, subsample=0.6;, score=0.720 total time=   3.4s\n",
            "[CV 2/3] END colsample_bytree=0.6, gamma=0.5, max_depth=5, min_child_weight=10, subsample=0.6;, score=0.720 total time=   3.4s\n",
            "[CV 3/3] END colsample_bytree=0.6, gamma=0.5, max_depth=5, min_child_weight=10, subsample=0.6;, score=0.717 total time=   3.4s\n",
            "[CV 1/3] END colsample_bytree=0.6, gamma=0.5, max_depth=5, min_child_weight=10, subsample=0.8;, score=0.737 total time=   3.4s\n",
            "[CV 2/3] END colsample_bytree=0.6, gamma=0.5, max_depth=5, min_child_weight=10, subsample=0.8;, score=0.737 total time=   3.4s\n",
            "[CV 3/3] END colsample_bytree=0.6, gamma=0.5, max_depth=5, min_child_weight=10, subsample=0.8;, score=0.727 total time=   4.5s\n",
            "[CV 1/3] END colsample_bytree=0.6, gamma=0.5, max_depth=5, min_child_weight=10, subsample=1.0;, score=0.741 total time=   3.3s\n",
            "[CV 2/3] END colsample_bytree=0.6, gamma=0.5, max_depth=5, min_child_weight=10, subsample=1.0;, score=0.744 total time=   3.3s\n",
            "[CV 3/3] END colsample_bytree=0.6, gamma=0.5, max_depth=5, min_child_weight=10, subsample=1.0;, score=0.730 total time=   3.3s\n",
            "[CV 1/3] END colsample_bytree=0.6, gamma=1, max_depth=3, min_child_weight=1, subsample=0.6;, score=0.757 total time=   2.2s\n",
            "[CV 2/3] END colsample_bytree=0.6, gamma=1, max_depth=3, min_child_weight=1, subsample=0.6;, score=0.763 total time=   2.7s\n",
            "[CV 3/3] END colsample_bytree=0.6, gamma=1, max_depth=3, min_child_weight=1, subsample=0.6;, score=0.748 total time=   2.2s\n",
            "[CV 1/3] END colsample_bytree=0.6, gamma=1, max_depth=3, min_child_weight=1, subsample=0.8;, score=0.756 total time=   2.2s\n",
            "[CV 2/3] END colsample_bytree=0.6, gamma=1, max_depth=3, min_child_weight=1, subsample=0.8;, score=0.765 total time=   2.2s\n",
            "[CV 3/3] END colsample_bytree=0.6, gamma=1, max_depth=3, min_child_weight=1, subsample=0.8;, score=0.745 total time=   2.2s\n",
            "[CV 1/3] END colsample_bytree=0.6, gamma=1, max_depth=3, min_child_weight=1, subsample=1.0;, score=0.754 total time=   2.1s\n",
            "[CV 2/3] END colsample_bytree=0.6, gamma=1, max_depth=3, min_child_weight=1, subsample=1.0;, score=0.767 total time=   2.2s\n",
            "[CV 3/3] END colsample_bytree=0.6, gamma=1, max_depth=3, min_child_weight=1, subsample=1.0;, score=0.745 total time=   2.1s\n",
            "[CV 1/3] END colsample_bytree=0.6, gamma=1, max_depth=3, min_child_weight=5, subsample=0.6;, score=0.748 total time=   2.2s\n",
            "[CV 2/3] END colsample_bytree=0.6, gamma=1, max_depth=3, min_child_weight=5, subsample=0.6;, score=0.754 total time=   2.2s\n",
            "[CV 3/3] END colsample_bytree=0.6, gamma=1, max_depth=3, min_child_weight=5, subsample=0.6;, score=0.735 total time=   2.2s\n",
            "[CV 1/3] END colsample_bytree=0.6, gamma=1, max_depth=3, min_child_weight=5, subsample=0.8;, score=0.751 total time=   2.2s\n",
            "[CV 2/3] END colsample_bytree=0.6, gamma=1, max_depth=3, min_child_weight=5, subsample=0.8;, score=0.756 total time=   2.2s\n",
            "[CV 3/3] END colsample_bytree=0.6, gamma=1, max_depth=3, min_child_weight=5, subsample=0.8;, score=0.739 total time=   2.2s\n",
            "[CV 1/3] END colsample_bytree=0.6, gamma=1, max_depth=3, min_child_weight=5, subsample=1.0;, score=0.750 total time=   2.1s\n",
            "[CV 2/3] END colsample_bytree=0.6, gamma=1, max_depth=3, min_child_weight=5, subsample=1.0;, score=0.760 total time=   2.1s\n",
            "[CV 3/3] END colsample_bytree=0.6, gamma=1, max_depth=3, min_child_weight=5, subsample=1.0;, score=0.734 total time=   2.1s\n",
            "[CV 1/3] END colsample_bytree=0.6, gamma=1, max_depth=3, min_child_weight=10, subsample=0.6;, score=0.725 total time=   2.2s\n",
            "[CV 2/3] END colsample_bytree=0.6, gamma=1, max_depth=3, min_child_weight=10, subsample=0.6;, score=0.718 total time=   2.2s\n",
            "[CV 3/3] END colsample_bytree=0.6, gamma=1, max_depth=3, min_child_weight=10, subsample=0.6;, score=0.715 total time=   2.2s\n",
            "[CV 1/3] END colsample_bytree=0.6, gamma=1, max_depth=3, min_child_weight=10, subsample=0.8;, score=0.727 total time=   2.2s\n",
            "[CV 2/3] END colsample_bytree=0.6, gamma=1, max_depth=3, min_child_weight=10, subsample=0.8;, score=0.734 total time=   2.1s\n",
            "[CV 3/3] END colsample_bytree=0.6, gamma=1, max_depth=3, min_child_weight=10, subsample=0.8;, score=0.719 total time=   2.1s\n",
            "[CV 1/3] END colsample_bytree=0.6, gamma=1, max_depth=3, min_child_weight=10, subsample=1.0;, score=0.736 total time=   2.1s\n",
            "[CV 2/3] END colsample_bytree=0.6, gamma=1, max_depth=3, min_child_weight=10, subsample=1.0;, score=0.741 total time=   2.1s\n",
            "[CV 3/3] END colsample_bytree=0.6, gamma=1, max_depth=3, min_child_weight=10, subsample=1.0;, score=0.722 total time=   2.1s\n",
            "[CV 1/3] END colsample_bytree=0.6, gamma=1, max_depth=4, min_child_weight=1, subsample=0.6;, score=0.763 total time=   2.8s\n",
            "[CV 2/3] END colsample_bytree=0.6, gamma=1, max_depth=4, min_child_weight=1, subsample=0.6;, score=0.775 total time=   2.8s\n",
            "[CV 3/3] END colsample_bytree=0.6, gamma=1, max_depth=4, min_child_weight=1, subsample=0.6;, score=0.756 total time=   2.9s\n",
            "[CV 1/3] END colsample_bytree=0.6, gamma=1, max_depth=4, min_child_weight=1, subsample=0.8;, score=0.762 total time=   2.8s\n",
            "[CV 2/3] END colsample_bytree=0.6, gamma=1, max_depth=4, min_child_weight=1, subsample=0.8;, score=0.777 total time=   2.8s\n",
            "[CV 3/3] END colsample_bytree=0.6, gamma=1, max_depth=4, min_child_weight=1, subsample=0.8;, score=0.759 total time=   2.8s\n",
            "[CV 1/3] END colsample_bytree=0.6, gamma=1, max_depth=4, min_child_weight=1, subsample=1.0;, score=0.766 total time=   2.7s\n",
            "[CV 2/3] END colsample_bytree=0.6, gamma=1, max_depth=4, min_child_weight=1, subsample=1.0;, score=0.779 total time=   2.7s\n",
            "[CV 3/3] END colsample_bytree=0.6, gamma=1, max_depth=4, min_child_weight=1, subsample=1.0;, score=0.753 total time=   2.7s\n",
            "[CV 1/3] END colsample_bytree=0.6, gamma=1, max_depth=4, min_child_weight=5, subsample=0.6;, score=0.753 total time=   2.8s\n",
            "[CV 2/3] END colsample_bytree=0.6, gamma=1, max_depth=4, min_child_weight=5, subsample=0.6;, score=0.759 total time=   2.8s\n",
            "[CV 3/3] END colsample_bytree=0.6, gamma=1, max_depth=4, min_child_weight=5, subsample=0.6;, score=0.739 total time=   2.8s\n",
            "[CV 1/3] END colsample_bytree=0.6, gamma=1, max_depth=4, min_child_weight=5, subsample=0.8;, score=0.757 total time=   2.8s\n",
            "[CV 2/3] END colsample_bytree=0.6, gamma=1, max_depth=4, min_child_weight=5, subsample=0.8;, score=0.765 total time=   2.7s\n",
            "[CV 3/3] END colsample_bytree=0.6, gamma=1, max_depth=4, min_child_weight=5, subsample=0.8;, score=0.744 total time=   2.7s\n",
            "[CV 1/3] END colsample_bytree=0.6, gamma=1, max_depth=4, min_child_weight=5, subsample=1.0;, score=0.757 total time=   2.7s\n",
            "[CV 2/3] END colsample_bytree=0.6, gamma=1, max_depth=4, min_child_weight=5, subsample=1.0;, score=0.766 total time=   2.7s\n",
            "[CV 3/3] END colsample_bytree=0.6, gamma=1, max_depth=4, min_child_weight=5, subsample=1.0;, score=0.744 total time=   2.6s\n",
            "[CV 1/3] END colsample_bytree=0.6, gamma=1, max_depth=4, min_child_weight=10, subsample=0.6;, score=0.725 total time=   2.8s\n",
            "[CV 2/3] END colsample_bytree=0.6, gamma=1, max_depth=4, min_child_weight=10, subsample=0.6;, score=0.721 total time=   2.8s\n",
            "[CV 3/3] END colsample_bytree=0.6, gamma=1, max_depth=4, min_child_weight=10, subsample=0.6;, score=0.717 total time=   2.8s\n",
            "[CV 1/3] END colsample_bytree=0.6, gamma=1, max_depth=4, min_child_weight=10, subsample=0.8;, score=0.731 total time=   2.8s\n",
            "[CV 2/3] END colsample_bytree=0.6, gamma=1, max_depth=4, min_child_weight=10, subsample=0.8;, score=0.734 total time=   2.8s\n",
            "[CV 3/3] END colsample_bytree=0.6, gamma=1, max_depth=4, min_child_weight=10, subsample=0.8;, score=0.721 total time=   2.7s\n",
            "[CV 1/3] END colsample_bytree=0.6, gamma=1, max_depth=4, min_child_weight=10, subsample=1.0;, score=0.739 total time=   2.6s\n",
            "[CV 2/3] END colsample_bytree=0.6, gamma=1, max_depth=4, min_child_weight=10, subsample=1.0;, score=0.744 total time=   2.7s\n",
            "[CV 3/3] END colsample_bytree=0.6, gamma=1, max_depth=4, min_child_weight=10, subsample=1.0;, score=0.726 total time=   2.9s\n",
            "[CV 1/3] END colsample_bytree=0.6, gamma=1, max_depth=5, min_child_weight=1, subsample=0.6;, score=0.771 total time=   4.4s\n",
            "[CV 2/3] END colsample_bytree=0.6, gamma=1, max_depth=5, min_child_weight=1, subsample=0.6;, score=0.784 total time=   3.5s\n",
            "[CV 3/3] END colsample_bytree=0.6, gamma=1, max_depth=5, min_child_weight=1, subsample=0.6;, score=0.766 total time=   3.4s\n",
            "[CV 1/3] END colsample_bytree=0.6, gamma=1, max_depth=5, min_child_weight=1, subsample=0.8;, score=0.773 total time=   3.4s\n",
            "[CV 2/3] END colsample_bytree=0.6, gamma=1, max_depth=5, min_child_weight=1, subsample=0.8;, score=0.785 total time=   3.4s\n",
            "[CV 3/3] END colsample_bytree=0.6, gamma=1, max_depth=5, min_child_weight=1, subsample=0.8;, score=0.769 total time=   3.4s\n",
            "[CV 1/3] END colsample_bytree=0.6, gamma=1, max_depth=5, min_child_weight=1, subsample=1.0;, score=0.774 total time=   3.3s\n",
            "[CV 2/3] END colsample_bytree=0.6, gamma=1, max_depth=5, min_child_weight=1, subsample=1.0;, score=0.784 total time=   3.3s\n",
            "[CV 3/3] END colsample_bytree=0.6, gamma=1, max_depth=5, min_child_weight=1, subsample=1.0;, score=0.758 total time=   3.3s\n",
            "[CV 1/3] END colsample_bytree=0.6, gamma=1, max_depth=5, min_child_weight=5, subsample=0.6;, score=0.759 total time=   3.4s\n",
            "[CV 2/3] END colsample_bytree=0.6, gamma=1, max_depth=5, min_child_weight=5, subsample=0.6;, score=0.761 total time=   3.4s\n",
            "[CV 3/3] END colsample_bytree=0.6, gamma=1, max_depth=5, min_child_weight=5, subsample=0.6;, score=0.745 total time=   3.4s\n",
            "[CV 1/3] END colsample_bytree=0.6, gamma=1, max_depth=5, min_child_weight=5, subsample=0.8;, score=0.766 total time=   3.4s\n",
            "[CV 2/3] END colsample_bytree=0.6, gamma=1, max_depth=5, min_child_weight=5, subsample=0.8;, score=0.765 total time=   3.3s\n",
            "[CV 3/3] END colsample_bytree=0.6, gamma=1, max_depth=5, min_child_weight=5, subsample=0.8;, score=0.755 total time=   3.4s\n",
            "[CV 1/3] END colsample_bytree=0.6, gamma=1, max_depth=5, min_child_weight=5, subsample=1.0;, score=0.763 total time=   3.3s\n",
            "[CV 2/3] END colsample_bytree=0.6, gamma=1, max_depth=5, min_child_weight=5, subsample=1.0;, score=0.770 total time=   3.2s\n",
            "[CV 3/3] END colsample_bytree=0.6, gamma=1, max_depth=5, min_child_weight=5, subsample=1.0;, score=0.756 total time=   3.3s\n",
            "[CV 1/3] END colsample_bytree=0.6, gamma=1, max_depth=5, min_child_weight=10, subsample=0.6;, score=0.724 total time=   3.4s\n",
            "[CV 2/3] END colsample_bytree=0.6, gamma=1, max_depth=5, min_child_weight=10, subsample=0.6;, score=0.721 total time=   3.4s\n",
            "[CV 3/3] END colsample_bytree=0.6, gamma=1, max_depth=5, min_child_weight=10, subsample=0.6;, score=0.717 total time=   3.4s\n",
            "[CV 1/3] END colsample_bytree=0.6, gamma=1, max_depth=5, min_child_weight=10, subsample=0.8;, score=0.734 total time=   3.4s\n",
            "[CV 2/3] END colsample_bytree=0.6, gamma=1, max_depth=5, min_child_weight=10, subsample=0.8;, score=0.734 total time=   3.3s\n",
            "[CV 3/3] END colsample_bytree=0.6, gamma=1, max_depth=5, min_child_weight=10, subsample=0.8;, score=0.727 total time=   3.4s\n",
            "[CV 1/3] END colsample_bytree=0.6, gamma=1, max_depth=5, min_child_weight=10, subsample=1.0;, score=0.743 total time=   3.3s\n",
            "[CV 2/3] END colsample_bytree=0.6, gamma=1, max_depth=5, min_child_weight=10, subsample=1.0;, score=0.742 total time=   3.3s\n",
            "[CV 3/3] END colsample_bytree=0.6, gamma=1, max_depth=5, min_child_weight=10, subsample=1.0;, score=0.730 total time=   3.2s\n",
            "[CV 1/3] END colsample_bytree=0.6, gamma=1.5, max_depth=3, min_child_weight=1, subsample=0.6;, score=0.755 total time=   2.2s\n",
            "[CV 2/3] END colsample_bytree=0.6, gamma=1.5, max_depth=3, min_child_weight=1, subsample=0.6;, score=0.765 total time=   2.2s\n",
            "[CV 3/3] END colsample_bytree=0.6, gamma=1.5, max_depth=3, min_child_weight=1, subsample=0.6;, score=0.748 total time=   2.3s\n",
            "[CV 1/3] END colsample_bytree=0.6, gamma=1.5, max_depth=3, min_child_weight=1, subsample=0.8;, score=0.755 total time=   2.2s\n",
            "[CV 2/3] END colsample_bytree=0.6, gamma=1.5, max_depth=3, min_child_weight=1, subsample=0.8;, score=0.766 total time=   2.2s\n",
            "[CV 3/3] END colsample_bytree=0.6, gamma=1.5, max_depth=3, min_child_weight=1, subsample=0.8;, score=0.748 total time=   2.2s\n",
            "[CV 1/3] END colsample_bytree=0.6, gamma=1.5, max_depth=3, min_child_weight=1, subsample=1.0;, score=0.753 total time=   2.1s\n",
            "[CV 2/3] END colsample_bytree=0.6, gamma=1.5, max_depth=3, min_child_weight=1, subsample=1.0;, score=0.766 total time=   2.1s\n",
            "[CV 3/3] END colsample_bytree=0.6, gamma=1.5, max_depth=3, min_child_weight=1, subsample=1.0;, score=0.745 total time=   2.1s\n",
            "[CV 1/3] END colsample_bytree=0.6, gamma=1.5, max_depth=3, min_child_weight=5, subsample=0.6;, score=0.748 total time=   2.2s\n",
            "[CV 2/3] END colsample_bytree=0.6, gamma=1.5, max_depth=3, min_child_weight=5, subsample=0.6;, score=0.754 total time=   2.2s\n",
            "[CV 3/3] END colsample_bytree=0.6, gamma=1.5, max_depth=3, min_child_weight=5, subsample=0.6;, score=0.735 total time=   2.2s\n",
            "[CV 1/3] END colsample_bytree=0.6, gamma=1.5, max_depth=3, min_child_weight=5, subsample=0.8;, score=0.751 total time=   2.2s\n",
            "[CV 2/3] END colsample_bytree=0.6, gamma=1.5, max_depth=3, min_child_weight=5, subsample=0.8;, score=0.756 total time=   2.2s\n",
            "[CV 3/3] END colsample_bytree=0.6, gamma=1.5, max_depth=3, min_child_weight=5, subsample=0.8;, score=0.740 total time=   2.1s\n",
            "[CV 1/3] END colsample_bytree=0.6, gamma=1.5, max_depth=3, min_child_weight=5, subsample=1.0;, score=0.753 total time=   2.1s\n",
            "[CV 2/3] END colsample_bytree=0.6, gamma=1.5, max_depth=3, min_child_weight=5, subsample=1.0;, score=0.760 total time=   2.1s\n",
            "[CV 3/3] END colsample_bytree=0.6, gamma=1.5, max_depth=3, min_child_weight=5, subsample=1.0;, score=0.736 total time=   2.1s\n",
            "[CV 1/3] END colsample_bytree=0.6, gamma=1.5, max_depth=3, min_child_weight=10, subsample=0.6;, score=0.725 total time=   2.2s\n",
            "[CV 2/3] END colsample_bytree=0.6, gamma=1.5, max_depth=3, min_child_weight=10, subsample=0.6;, score=0.717 total time=   2.2s\n",
            "[CV 3/3] END colsample_bytree=0.6, gamma=1.5, max_depth=3, min_child_weight=10, subsample=0.6;, score=0.714 total time=   2.2s\n",
            "[CV 1/3] END colsample_bytree=0.6, gamma=1.5, max_depth=3, min_child_weight=10, subsample=0.8;, score=0.732 total time=   2.1s\n",
            "[CV 2/3] END colsample_bytree=0.6, gamma=1.5, max_depth=3, min_child_weight=10, subsample=0.8;, score=0.735 total time=   2.1s\n",
            "[CV 3/3] END colsample_bytree=0.6, gamma=1.5, max_depth=3, min_child_weight=10, subsample=0.8;, score=0.719 total time=   2.1s\n",
            "[CV 1/3] END colsample_bytree=0.6, gamma=1.5, max_depth=3, min_child_weight=10, subsample=1.0;, score=0.737 total time=   2.1s\n",
            "[CV 2/3] END colsample_bytree=0.6, gamma=1.5, max_depth=3, min_child_weight=10, subsample=1.0;, score=0.741 total time=   2.9s\n",
            "[CV 3/3] END colsample_bytree=0.6, gamma=1.5, max_depth=3, min_child_weight=10, subsample=1.0;, score=0.723 total time=   2.5s\n",
            "[CV 1/3] END colsample_bytree=0.6, gamma=1.5, max_depth=4, min_child_weight=1, subsample=0.6;, score=0.764 total time=   2.8s\n",
            "[CV 2/3] END colsample_bytree=0.6, gamma=1.5, max_depth=4, min_child_weight=1, subsample=0.6;, score=0.775 total time=   2.9s\n",
            "[CV 3/3] END colsample_bytree=0.6, gamma=1.5, max_depth=4, min_child_weight=1, subsample=0.6;, score=0.759 total time=   2.8s\n",
            "[CV 1/3] END colsample_bytree=0.6, gamma=1.5, max_depth=4, min_child_weight=1, subsample=0.8;, score=0.764 total time=   2.8s\n",
            "[CV 2/3] END colsample_bytree=0.6, gamma=1.5, max_depth=4, min_child_weight=1, subsample=0.8;, score=0.779 total time=   2.8s\n",
            "[CV 3/3] END colsample_bytree=0.6, gamma=1.5, max_depth=4, min_child_weight=1, subsample=0.8;, score=0.756 total time=   2.7s\n",
            "[CV 1/3] END colsample_bytree=0.6, gamma=1.5, max_depth=4, min_child_weight=1, subsample=1.0;, score=0.764 total time=   2.7s\n",
            "[CV 2/3] END colsample_bytree=0.6, gamma=1.5, max_depth=4, min_child_weight=1, subsample=1.0;, score=0.775 total time=   2.7s\n",
            "[CV 3/3] END colsample_bytree=0.6, gamma=1.5, max_depth=4, min_child_weight=1, subsample=1.0;, score=0.752 total time=   2.7s\n",
            "[CV 1/3] END colsample_bytree=0.6, gamma=1.5, max_depth=4, min_child_weight=5, subsample=0.6;, score=0.753 total time=   2.8s\n",
            "[CV 2/3] END colsample_bytree=0.6, gamma=1.5, max_depth=4, min_child_weight=5, subsample=0.6;, score=0.758 total time=   2.8s\n",
            "[CV 3/3] END colsample_bytree=0.6, gamma=1.5, max_depth=4, min_child_weight=5, subsample=0.6;, score=0.738 total time=   2.8s\n",
            "[CV 1/3] END colsample_bytree=0.6, gamma=1.5, max_depth=4, min_child_weight=5, subsample=0.8;, score=0.757 total time=   2.7s\n",
            "[CV 2/3] END colsample_bytree=0.6, gamma=1.5, max_depth=4, min_child_weight=5, subsample=0.8;, score=0.765 total time=   2.8s\n",
            "[CV 3/3] END colsample_bytree=0.6, gamma=1.5, max_depth=4, min_child_weight=5, subsample=0.8;, score=0.749 total time=   2.7s\n",
            "[CV 1/3] END colsample_bytree=0.6, gamma=1.5, max_depth=4, min_child_weight=5, subsample=1.0;, score=0.757 total time=   2.7s\n",
            "[CV 2/3] END colsample_bytree=0.6, gamma=1.5, max_depth=4, min_child_weight=5, subsample=1.0;, score=0.765 total time=   2.7s\n",
            "[CV 3/3] END colsample_bytree=0.6, gamma=1.5, max_depth=4, min_child_weight=5, subsample=1.0;, score=0.747 total time=   2.7s\n",
            "[CV 1/3] END colsample_bytree=0.6, gamma=1.5, max_depth=4, min_child_weight=10, subsample=0.6;, score=0.725 total time=   2.8s\n",
            "[CV 2/3] END colsample_bytree=0.6, gamma=1.5, max_depth=4, min_child_weight=10, subsample=0.6;, score=0.721 total time=   2.8s\n",
            "[CV 3/3] END colsample_bytree=0.6, gamma=1.5, max_depth=4, min_child_weight=10, subsample=0.6;, score=0.717 total time=   2.8s\n",
            "[CV 1/3] END colsample_bytree=0.6, gamma=1.5, max_depth=4, min_child_weight=10, subsample=0.8;, score=0.731 total time=   2.7s\n",
            "[CV 2/3] END colsample_bytree=0.6, gamma=1.5, max_depth=4, min_child_weight=10, subsample=0.8;, score=0.735 total time=   2.7s\n",
            "[CV 3/3] END colsample_bytree=0.6, gamma=1.5, max_depth=4, min_child_weight=10, subsample=0.8;, score=0.723 total time=   2.8s\n",
            "[CV 1/3] END colsample_bytree=0.6, gamma=1.5, max_depth=4, min_child_weight=10, subsample=1.0;, score=0.739 total time=   2.7s\n",
            "[CV 2/3] END colsample_bytree=0.6, gamma=1.5, max_depth=4, min_child_weight=10, subsample=1.0;, score=0.742 total time=   2.6s\n",
            "[CV 3/3] END colsample_bytree=0.6, gamma=1.5, max_depth=4, min_child_weight=10, subsample=1.0;, score=0.726 total time=   2.6s\n",
            "[CV 1/3] END colsample_bytree=0.6, gamma=1.5, max_depth=5, min_child_weight=1, subsample=0.6;, score=0.773 total time=   3.4s\n",
            "[CV 2/3] END colsample_bytree=0.6, gamma=1.5, max_depth=5, min_child_weight=1, subsample=0.6;, score=0.785 total time=   3.4s\n",
            "[CV 3/3] END colsample_bytree=0.6, gamma=1.5, max_depth=5, min_child_weight=1, subsample=0.6;, score=0.765 total time=   3.5s\n",
            "[CV 1/3] END colsample_bytree=0.6, gamma=1.5, max_depth=5, min_child_weight=1, subsample=0.8;, score=0.770 total time=   3.4s\n",
            "[CV 2/3] END colsample_bytree=0.6, gamma=1.5, max_depth=5, min_child_weight=1, subsample=0.8;, score=0.786 total time=   3.5s\n",
            "[CV 3/3] END colsample_bytree=0.6, gamma=1.5, max_depth=5, min_child_weight=1, subsample=0.8;, score=0.770 total time=   3.4s\n",
            "[CV 1/3] END colsample_bytree=0.6, gamma=1.5, max_depth=5, min_child_weight=1, subsample=1.0;, score=0.774 total time=   3.3s\n",
            "[CV 2/3] END colsample_bytree=0.6, gamma=1.5, max_depth=5, min_child_weight=1, subsample=1.0;, score=0.782 total time=   3.3s\n",
            "[CV 3/3] END colsample_bytree=0.6, gamma=1.5, max_depth=5, min_child_weight=1, subsample=1.0;, score=0.759 total time=   3.3s\n",
            "[CV 1/3] END colsample_bytree=0.6, gamma=1.5, max_depth=5, min_child_weight=5, subsample=0.6;, score=0.758 total time=   3.4s\n",
            "[CV 2/3] END colsample_bytree=0.6, gamma=1.5, max_depth=5, min_child_weight=5, subsample=0.6;, score=0.762 total time=   3.4s\n",
            "[CV 3/3] END colsample_bytree=0.6, gamma=1.5, max_depth=5, min_child_weight=5, subsample=0.6;, score=0.744 total time=   3.4s\n",
            "[CV 1/3] END colsample_bytree=0.6, gamma=1.5, max_depth=5, min_child_weight=5, subsample=0.8;, score=0.766 total time=   3.3s\n",
            "[CV 2/3] END colsample_bytree=0.6, gamma=1.5, max_depth=5, min_child_weight=5, subsample=0.8;, score=0.766 total time=   3.3s\n",
            "[CV 3/3] END colsample_bytree=0.6, gamma=1.5, max_depth=5, min_child_weight=5, subsample=0.8;, score=0.755 total time=   3.3s\n",
            "[CV 1/3] END colsample_bytree=0.6, gamma=1.5, max_depth=5, min_child_weight=5, subsample=1.0;, score=0.761 total time=   3.2s\n",
            "[CV 2/3] END colsample_bytree=0.6, gamma=1.5, max_depth=5, min_child_weight=5, subsample=1.0;, score=0.772 total time=   3.2s\n",
            "[CV 3/3] END colsample_bytree=0.6, gamma=1.5, max_depth=5, min_child_weight=5, subsample=1.0;, score=0.759 total time=   3.2s\n",
            "[CV 1/3] END colsample_bytree=0.6, gamma=1.5, max_depth=5, min_child_weight=10, subsample=0.6;, score=0.725 total time=   3.3s\n",
            "[CV 2/3] END colsample_bytree=0.6, gamma=1.5, max_depth=5, min_child_weight=10, subsample=0.6;, score=0.722 total time=   3.4s\n",
            "[CV 3/3] END colsample_bytree=0.6, gamma=1.5, max_depth=5, min_child_weight=10, subsample=0.6;, score=0.719 total time=   3.5s\n",
            "[CV 1/3] END colsample_bytree=0.6, gamma=1.5, max_depth=5, min_child_weight=10, subsample=0.8;, score=0.738 total time=   4.4s\n",
            "[CV 2/3] END colsample_bytree=0.6, gamma=1.5, max_depth=5, min_child_weight=10, subsample=0.8;, score=0.735 total time=   3.4s\n",
            "[CV 3/3] END colsample_bytree=0.6, gamma=1.5, max_depth=5, min_child_weight=10, subsample=0.8;, score=0.726 total time=   3.4s\n",
            "[CV 1/3] END colsample_bytree=0.6, gamma=1.5, max_depth=5, min_child_weight=10, subsample=1.0;, score=0.741 total time=   3.3s\n",
            "[CV 2/3] END colsample_bytree=0.6, gamma=1.5, max_depth=5, min_child_weight=10, subsample=1.0;, score=0.741 total time=   3.2s\n",
            "[CV 3/3] END colsample_bytree=0.6, gamma=1.5, max_depth=5, min_child_weight=10, subsample=1.0;, score=0.729 total time=   3.2s\n",
            "[CV 1/3] END colsample_bytree=0.6, gamma=2, max_depth=3, min_child_weight=1, subsample=0.6;, score=0.755 total time=   2.2s\n",
            "[CV 2/3] END colsample_bytree=0.6, gamma=2, max_depth=3, min_child_weight=1, subsample=0.6;, score=0.764 total time=   2.2s\n",
            "[CV 3/3] END colsample_bytree=0.6, gamma=2, max_depth=3, min_child_weight=1, subsample=0.6;, score=0.747 total time=   2.2s\n",
            "[CV 1/3] END colsample_bytree=0.6, gamma=2, max_depth=3, min_child_weight=1, subsample=0.8;, score=0.756 total time=   2.2s\n",
            "[CV 2/3] END colsample_bytree=0.6, gamma=2, max_depth=3, min_child_weight=1, subsample=0.8;, score=0.764 total time=   2.2s\n",
            "[CV 3/3] END colsample_bytree=0.6, gamma=2, max_depth=3, min_child_weight=1, subsample=0.8;, score=0.749 total time=   2.2s\n",
            "[CV 1/3] END colsample_bytree=0.6, gamma=2, max_depth=3, min_child_weight=1, subsample=1.0;, score=0.751 total time=   2.1s\n",
            "[CV 2/3] END colsample_bytree=0.6, gamma=2, max_depth=3, min_child_weight=1, subsample=1.0;, score=0.766 total time=   2.1s\n",
            "[CV 3/3] END colsample_bytree=0.6, gamma=2, max_depth=3, min_child_weight=1, subsample=1.0;, score=0.743 total time=   2.1s\n",
            "[CV 1/3] END colsample_bytree=0.6, gamma=2, max_depth=3, min_child_weight=5, subsample=0.6;, score=0.748 total time=   2.2s\n",
            "[CV 2/3] END colsample_bytree=0.6, gamma=2, max_depth=3, min_child_weight=5, subsample=0.6;, score=0.753 total time=   2.2s\n",
            "[CV 3/3] END colsample_bytree=0.6, gamma=2, max_depth=3, min_child_weight=5, subsample=0.6;, score=0.735 total time=   2.2s\n",
            "[CV 1/3] END colsample_bytree=0.6, gamma=2, max_depth=3, min_child_weight=5, subsample=0.8;, score=0.749 total time=   2.1s\n",
            "[CV 2/3] END colsample_bytree=0.6, gamma=2, max_depth=3, min_child_weight=5, subsample=0.8;, score=0.756 total time=   2.1s\n",
            "[CV 3/3] END colsample_bytree=0.6, gamma=2, max_depth=3, min_child_weight=5, subsample=0.8;, score=0.739 total time=   2.1s\n",
            "[CV 1/3] END colsample_bytree=0.6, gamma=2, max_depth=3, min_child_weight=5, subsample=1.0;, score=0.750 total time=   2.1s\n",
            "[CV 2/3] END colsample_bytree=0.6, gamma=2, max_depth=3, min_child_weight=5, subsample=1.0;, score=0.759 total time=   2.1s\n",
            "[CV 3/3] END colsample_bytree=0.6, gamma=2, max_depth=3, min_child_weight=5, subsample=1.0;, score=0.736 total time=   2.1s\n",
            "[CV 1/3] END colsample_bytree=0.6, gamma=2, max_depth=3, min_child_weight=10, subsample=0.6;, score=0.725 total time=   2.2s\n",
            "[CV 2/3] END colsample_bytree=0.6, gamma=2, max_depth=3, min_child_weight=10, subsample=0.6;, score=0.719 total time=   2.2s\n",
            "[CV 3/3] END colsample_bytree=0.6, gamma=2, max_depth=3, min_child_weight=10, subsample=0.6;, score=0.713 total time=   2.2s\n",
            "[CV 1/3] END colsample_bytree=0.6, gamma=2, max_depth=3, min_child_weight=10, subsample=0.8;, score=0.731 total time=   2.1s\n",
            "[CV 2/3] END colsample_bytree=0.6, gamma=2, max_depth=3, min_child_weight=10, subsample=0.8;, score=0.735 total time=   2.2s\n",
            "[CV 3/3] END colsample_bytree=0.6, gamma=2, max_depth=3, min_child_weight=10, subsample=0.8;, score=0.720 total time=   2.1s\n",
            "[CV 1/3] END colsample_bytree=0.6, gamma=2, max_depth=3, min_child_weight=10, subsample=1.0;, score=0.739 total time=   2.0s\n",
            "[CV 2/3] END colsample_bytree=0.6, gamma=2, max_depth=3, min_child_weight=10, subsample=1.0;, score=0.740 total time=   2.1s\n",
            "[CV 3/3] END colsample_bytree=0.6, gamma=2, max_depth=3, min_child_weight=10, subsample=1.0;, score=0.723 total time=   2.1s\n",
            "[CV 1/3] END colsample_bytree=0.6, gamma=2, max_depth=4, min_child_weight=1, subsample=0.6;, score=0.765 total time=   2.8s\n",
            "[CV 2/3] END colsample_bytree=0.6, gamma=2, max_depth=4, min_child_weight=1, subsample=0.6;, score=0.776 total time=   2.8s\n",
            "[CV 3/3] END colsample_bytree=0.6, gamma=2, max_depth=4, min_child_weight=1, subsample=0.6;, score=0.756 total time=   2.8s\n",
            "[CV 1/3] END colsample_bytree=0.6, gamma=2, max_depth=4, min_child_weight=1, subsample=0.8;, score=0.766 total time=   2.8s\n",
            "[CV 2/3] END colsample_bytree=0.6, gamma=2, max_depth=4, min_child_weight=1, subsample=0.8;, score=0.778 total time=   2.8s\n",
            "[CV 3/3] END colsample_bytree=0.6, gamma=2, max_depth=4, min_child_weight=1, subsample=0.8;, score=0.761 total time=   2.8s\n",
            "[CV 1/3] END colsample_bytree=0.6, gamma=2, max_depth=4, min_child_weight=1, subsample=1.0;, score=0.764 total time=   2.7s\n",
            "[CV 2/3] END colsample_bytree=0.6, gamma=2, max_depth=4, min_child_weight=1, subsample=1.0;, score=0.780 total time=   2.7s\n",
            "[CV 3/3] END colsample_bytree=0.6, gamma=2, max_depth=4, min_child_weight=1, subsample=1.0;, score=0.755 total time=   2.7s\n",
            "[CV 1/3] END colsample_bytree=0.6, gamma=2, max_depth=4, min_child_weight=5, subsample=0.6;, score=0.752 total time=   2.8s\n",
            "[CV 2/3] END colsample_bytree=0.6, gamma=2, max_depth=4, min_child_weight=5, subsample=0.6;, score=0.760 total time=   2.8s\n",
            "[CV 3/3] END colsample_bytree=0.6, gamma=2, max_depth=4, min_child_weight=5, subsample=0.6;, score=0.736 total time=   2.8s\n",
            "[CV 1/3] END colsample_bytree=0.6, gamma=2, max_depth=4, min_child_weight=5, subsample=0.8;, score=0.757 total time=   2.7s\n",
            "[CV 2/3] END colsample_bytree=0.6, gamma=2, max_depth=4, min_child_weight=5, subsample=0.8;, score=0.764 total time=   2.7s\n",
            "[CV 3/3] END colsample_bytree=0.6, gamma=2, max_depth=4, min_child_weight=5, subsample=0.8;, score=0.746 total time=   2.7s\n",
            "[CV 1/3] END colsample_bytree=0.6, gamma=2, max_depth=4, min_child_weight=5, subsample=1.0;, score=0.759 total time=   2.7s\n",
            "[CV 2/3] END colsample_bytree=0.6, gamma=2, max_depth=4, min_child_weight=5, subsample=1.0;, score=0.763 total time=   2.7s\n",
            "[CV 3/3] END colsample_bytree=0.6, gamma=2, max_depth=4, min_child_weight=5, subsample=1.0;, score=0.748 total time=   2.7s\n",
            "[CV 1/3] END colsample_bytree=0.6, gamma=2, max_depth=4, min_child_weight=10, subsample=0.6;, score=0.724 total time=   2.8s\n",
            "[CV 2/3] END colsample_bytree=0.6, gamma=2, max_depth=4, min_child_weight=10, subsample=0.6;, score=0.722 total time=   2.8s\n",
            "[CV 3/3] END colsample_bytree=0.6, gamma=2, max_depth=4, min_child_weight=10, subsample=0.6;, score=0.715 total time=   2.8s\n",
            "[CV 1/3] END colsample_bytree=0.6, gamma=2, max_depth=4, min_child_weight=10, subsample=0.8;, score=0.731 total time=   2.8s\n",
            "[CV 2/3] END colsample_bytree=0.6, gamma=2, max_depth=4, min_child_weight=10, subsample=0.8;, score=0.733 total time=   2.8s\n",
            "[CV 3/3] END colsample_bytree=0.6, gamma=2, max_depth=4, min_child_weight=10, subsample=0.8;, score=0.722 total time=   2.7s\n",
            "[CV 1/3] END colsample_bytree=0.6, gamma=2, max_depth=4, min_child_weight=10, subsample=1.0;, score=0.738 total time=   2.6s\n",
            "[CV 2/3] END colsample_bytree=0.6, gamma=2, max_depth=4, min_child_weight=10, subsample=1.0;, score=0.742 total time=   2.7s\n",
            "[CV 3/3] END colsample_bytree=0.6, gamma=2, max_depth=4, min_child_weight=10, subsample=1.0;, score=0.725 total time=   3.8s\n",
            "[CV 1/3] END colsample_bytree=0.6, gamma=2, max_depth=5, min_child_weight=1, subsample=0.6;, score=0.774 total time=   3.4s\n",
            "[CV 2/3] END colsample_bytree=0.6, gamma=2, max_depth=5, min_child_weight=1, subsample=0.6;, score=0.784 total time=   3.4s\n",
            "[CV 3/3] END colsample_bytree=0.6, gamma=2, max_depth=5, min_child_weight=1, subsample=0.6;, score=0.762 total time=   3.4s\n",
            "[CV 1/3] END colsample_bytree=0.6, gamma=2, max_depth=5, min_child_weight=1, subsample=0.8;, score=0.772 total time=   3.4s\n",
            "[CV 2/3] END colsample_bytree=0.6, gamma=2, max_depth=5, min_child_weight=1, subsample=0.8;, score=0.787 total time=   3.4s\n",
            "[CV 3/3] END colsample_bytree=0.6, gamma=2, max_depth=5, min_child_weight=1, subsample=0.8;, score=0.765 total time=   3.4s\n",
            "[CV 1/3] END colsample_bytree=0.6, gamma=2, max_depth=5, min_child_weight=1, subsample=1.0;, score=0.773 total time=   3.3s\n",
            "[CV 2/3] END colsample_bytree=0.6, gamma=2, max_depth=5, min_child_weight=1, subsample=1.0;, score=0.785 total time=   3.3s\n",
            "[CV 3/3] END colsample_bytree=0.6, gamma=2, max_depth=5, min_child_weight=1, subsample=1.0;, score=0.756 total time=   3.3s\n",
            "[CV 1/3] END colsample_bytree=0.6, gamma=2, max_depth=5, min_child_weight=5, subsample=0.6;, score=0.759 total time=   3.4s\n",
            "[CV 2/3] END colsample_bytree=0.6, gamma=2, max_depth=5, min_child_weight=5, subsample=0.6;, score=0.761 total time=   3.4s\n",
            "[CV 3/3] END colsample_bytree=0.6, gamma=2, max_depth=5, min_child_weight=5, subsample=0.6;, score=0.741 total time=   3.4s\n",
            "[CV 1/3] END colsample_bytree=0.6, gamma=2, max_depth=5, min_child_weight=5, subsample=0.8;, score=0.763 total time=   3.4s\n",
            "[CV 2/3] END colsample_bytree=0.6, gamma=2, max_depth=5, min_child_weight=5, subsample=0.8;, score=0.764 total time=   3.4s\n",
            "[CV 3/3] END colsample_bytree=0.6, gamma=2, max_depth=5, min_child_weight=5, subsample=0.8;, score=0.754 total time=   3.3s\n",
            "[CV 1/3] END colsample_bytree=0.6, gamma=2, max_depth=5, min_child_weight=5, subsample=1.0;, score=0.761 total time=   3.3s\n",
            "[CV 2/3] END colsample_bytree=0.6, gamma=2, max_depth=5, min_child_weight=5, subsample=1.0;, score=0.770 total time=   3.2s\n",
            "[CV 3/3] END colsample_bytree=0.6, gamma=2, max_depth=5, min_child_weight=5, subsample=1.0;, score=0.757 total time=   3.2s\n",
            "[CV 1/3] END colsample_bytree=0.6, gamma=2, max_depth=5, min_child_weight=10, subsample=0.6;, score=0.725 total time=   3.4s\n",
            "[CV 2/3] END colsample_bytree=0.6, gamma=2, max_depth=5, min_child_weight=10, subsample=0.6;, score=0.721 total time=   3.4s\n",
            "[CV 3/3] END colsample_bytree=0.6, gamma=2, max_depth=5, min_child_weight=10, subsample=0.6;, score=0.719 total time=   3.4s\n",
            "[CV 1/3] END colsample_bytree=0.6, gamma=2, max_depth=5, min_child_weight=10, subsample=0.8;, score=0.733 total time=   3.3s\n",
            "[CV 2/3] END colsample_bytree=0.6, gamma=2, max_depth=5, min_child_weight=10, subsample=0.8;, score=0.736 total time=   3.3s\n",
            "[CV 3/3] END colsample_bytree=0.6, gamma=2, max_depth=5, min_child_weight=10, subsample=0.8;, score=0.726 total time=   3.3s\n",
            "[CV 1/3] END colsample_bytree=0.6, gamma=2, max_depth=5, min_child_weight=10, subsample=1.0;, score=0.743 total time=   3.2s\n",
            "[CV 2/3] END colsample_bytree=0.6, gamma=2, max_depth=5, min_child_weight=10, subsample=1.0;, score=0.742 total time=   3.2s\n",
            "[CV 3/3] END colsample_bytree=0.6, gamma=2, max_depth=5, min_child_weight=10, subsample=1.0;, score=0.727 total time=   3.3s\n",
            "[CV 1/3] END colsample_bytree=0.6, gamma=5, max_depth=3, min_child_weight=1, subsample=0.6;, score=0.755 total time=   2.2s\n",
            "[CV 2/3] END colsample_bytree=0.6, gamma=5, max_depth=3, min_child_weight=1, subsample=0.6;, score=0.762 total time=   2.2s\n",
            "[CV 3/3] END colsample_bytree=0.6, gamma=5, max_depth=3, min_child_weight=1, subsample=0.6;, score=0.747 total time=   2.2s\n",
            "[CV 1/3] END colsample_bytree=0.6, gamma=5, max_depth=3, min_child_weight=1, subsample=0.8;, score=0.751 total time=   2.1s\n",
            "[CV 2/3] END colsample_bytree=0.6, gamma=5, max_depth=3, min_child_weight=1, subsample=0.8;, score=0.761 total time=   2.1s\n",
            "[CV 3/3] END colsample_bytree=0.6, gamma=5, max_depth=3, min_child_weight=1, subsample=0.8;, score=0.745 total time=   2.2s\n",
            "[CV 1/3] END colsample_bytree=0.6, gamma=5, max_depth=3, min_child_weight=1, subsample=1.0;, score=0.754 total time=   2.1s\n",
            "[CV 2/3] END colsample_bytree=0.6, gamma=5, max_depth=3, min_child_weight=1, subsample=1.0;, score=0.765 total time=   2.1s\n",
            "[CV 3/3] END colsample_bytree=0.6, gamma=5, max_depth=3, min_child_weight=1, subsample=1.0;, score=0.745 total time=   2.1s\n",
            "[CV 1/3] END colsample_bytree=0.6, gamma=5, max_depth=3, min_child_weight=5, subsample=0.6;, score=0.747 total time=   2.2s\n",
            "[CV 2/3] END colsample_bytree=0.6, gamma=5, max_depth=3, min_child_weight=5, subsample=0.6;, score=0.755 total time=   2.2s\n",
            "[CV 3/3] END colsample_bytree=0.6, gamma=5, max_depth=3, min_child_weight=5, subsample=0.6;, score=0.733 total time=   2.2s\n",
            "[CV 1/3] END colsample_bytree=0.6, gamma=5, max_depth=3, min_child_weight=5, subsample=0.8;, score=0.750 total time=   2.1s\n",
            "[CV 2/3] END colsample_bytree=0.6, gamma=5, max_depth=3, min_child_weight=5, subsample=0.8;, score=0.754 total time=   2.1s\n",
            "[CV 3/3] END colsample_bytree=0.6, gamma=5, max_depth=3, min_child_weight=5, subsample=0.8;, score=0.740 total time=   2.1s\n",
            "[CV 1/3] END colsample_bytree=0.6, gamma=5, max_depth=3, min_child_weight=5, subsample=1.0;, score=0.748 total time=   2.1s\n",
            "[CV 2/3] END colsample_bytree=0.6, gamma=5, max_depth=3, min_child_weight=5, subsample=1.0;, score=0.761 total time=   2.1s\n",
            "[CV 3/3] END colsample_bytree=0.6, gamma=5, max_depth=3, min_child_weight=5, subsample=1.0;, score=0.739 total time=   2.1s\n",
            "[CV 1/3] END colsample_bytree=0.6, gamma=5, max_depth=3, min_child_weight=10, subsample=0.6;, score=0.723 total time=   2.2s\n",
            "[CV 2/3] END colsample_bytree=0.6, gamma=5, max_depth=3, min_child_weight=10, subsample=0.6;, score=0.717 total time=   2.2s\n",
            "[CV 3/3] END colsample_bytree=0.6, gamma=5, max_depth=3, min_child_weight=10, subsample=0.6;, score=0.715 total time=   2.2s\n",
            "[CV 1/3] END colsample_bytree=0.6, gamma=5, max_depth=3, min_child_weight=10, subsample=0.8;, score=0.731 total time=   2.1s\n",
            "[CV 2/3] END colsample_bytree=0.6, gamma=5, max_depth=3, min_child_weight=10, subsample=0.8;, score=0.734 total time=   2.1s\n",
            "[CV 3/3] END colsample_bytree=0.6, gamma=5, max_depth=3, min_child_weight=10, subsample=0.8;, score=0.720 total time=   2.1s\n",
            "[CV 1/3] END colsample_bytree=0.6, gamma=5, max_depth=3, min_child_weight=10, subsample=1.0;, score=0.739 total time=   2.1s\n",
            "[CV 2/3] END colsample_bytree=0.6, gamma=5, max_depth=3, min_child_weight=10, subsample=1.0;, score=0.742 total time=   2.1s\n",
            "[CV 3/3] END colsample_bytree=0.6, gamma=5, max_depth=3, min_child_weight=10, subsample=1.0;, score=0.724 total time=   2.1s\n",
            "[CV 1/3] END colsample_bytree=0.6, gamma=5, max_depth=4, min_child_weight=1, subsample=0.6;, score=0.763 total time=   3.9s\n",
            "[CV 2/3] END colsample_bytree=0.6, gamma=5, max_depth=4, min_child_weight=1, subsample=0.6;, score=0.777 total time=   2.8s\n",
            "[CV 3/3] END colsample_bytree=0.6, gamma=5, max_depth=4, min_child_weight=1, subsample=0.6;, score=0.756 total time=   2.9s\n",
            "[CV 1/3] END colsample_bytree=0.6, gamma=5, max_depth=4, min_child_weight=1, subsample=0.8;, score=0.762 total time=   2.8s\n",
            "[CV 2/3] END colsample_bytree=0.6, gamma=5, max_depth=4, min_child_weight=1, subsample=0.8;, score=0.776 total time=   2.8s\n",
            "[CV 3/3] END colsample_bytree=0.6, gamma=5, max_depth=4, min_child_weight=1, subsample=0.8;, score=0.755 total time=   2.8s\n",
            "[CV 1/3] END colsample_bytree=0.6, gamma=5, max_depth=4, min_child_weight=1, subsample=1.0;, score=0.762 total time=   2.7s\n",
            "[CV 2/3] END colsample_bytree=0.6, gamma=5, max_depth=4, min_child_weight=1, subsample=1.0;, score=0.778 total time=   2.7s\n",
            "[CV 3/3] END colsample_bytree=0.6, gamma=5, max_depth=4, min_child_weight=1, subsample=1.0;, score=0.754 total time=   2.7s\n",
            "[CV 1/3] END colsample_bytree=0.6, gamma=5, max_depth=4, min_child_weight=5, subsample=0.6;, score=0.752 total time=   2.8s\n",
            "[CV 2/3] END colsample_bytree=0.6, gamma=5, max_depth=4, min_child_weight=5, subsample=0.6;, score=0.760 total time=   2.8s\n",
            "[CV 3/3] END colsample_bytree=0.6, gamma=5, max_depth=4, min_child_weight=5, subsample=0.6;, score=0.740 total time=   2.8s\n",
            "[CV 1/3] END colsample_bytree=0.6, gamma=5, max_depth=4, min_child_weight=5, subsample=0.8;, score=0.758 total time=   2.7s\n",
            "[CV 2/3] END colsample_bytree=0.6, gamma=5, max_depth=4, min_child_weight=5, subsample=0.8;, score=0.763 total time=   2.8s\n",
            "[CV 3/3] END colsample_bytree=0.6, gamma=5, max_depth=4, min_child_weight=5, subsample=0.8;, score=0.745 total time=   2.7s\n",
            "[CV 1/3] END colsample_bytree=0.6, gamma=5, max_depth=4, min_child_weight=5, subsample=1.0;, score=0.757 total time=   2.6s\n",
            "[CV 2/3] END colsample_bytree=0.6, gamma=5, max_depth=4, min_child_weight=5, subsample=1.0;, score=0.764 total time=   2.7s\n",
            "[CV 3/3] END colsample_bytree=0.6, gamma=5, max_depth=4, min_child_weight=5, subsample=1.0;, score=0.745 total time=   2.7s\n",
            "[CV 1/3] END colsample_bytree=0.6, gamma=5, max_depth=4, min_child_weight=10, subsample=0.6;, score=0.721 total time=   2.8s\n",
            "[CV 2/3] END colsample_bytree=0.6, gamma=5, max_depth=4, min_child_weight=10, subsample=0.6;, score=0.717 total time=   2.8s\n",
            "[CV 3/3] END colsample_bytree=0.6, gamma=5, max_depth=4, min_child_weight=10, subsample=0.6;, score=0.713 total time=   2.8s\n",
            "[CV 1/3] END colsample_bytree=0.6, gamma=5, max_depth=4, min_child_weight=10, subsample=0.8;, score=0.729 total time=   2.7s\n",
            "[CV 2/3] END colsample_bytree=0.6, gamma=5, max_depth=4, min_child_weight=10, subsample=0.8;, score=0.734 total time=   2.7s\n",
            "[CV 3/3] END colsample_bytree=0.6, gamma=5, max_depth=4, min_child_weight=10, subsample=0.8;, score=0.720 total time=   2.7s\n",
            "[CV 1/3] END colsample_bytree=0.6, gamma=5, max_depth=4, min_child_weight=10, subsample=1.0;, score=0.738 total time=   2.7s\n",
            "[CV 2/3] END colsample_bytree=0.6, gamma=5, max_depth=4, min_child_weight=10, subsample=1.0;, score=0.742 total time=   2.7s\n",
            "[CV 3/3] END colsample_bytree=0.6, gamma=5, max_depth=4, min_child_weight=10, subsample=1.0;, score=0.726 total time=   2.6s\n",
            "[CV 1/3] END colsample_bytree=0.6, gamma=5, max_depth=5, min_child_weight=1, subsample=0.6;, score=0.769 total time=   3.4s\n",
            "[CV 2/3] END colsample_bytree=0.6, gamma=5, max_depth=5, min_child_weight=1, subsample=0.6;, score=0.781 total time=   3.4s\n",
            "[CV 3/3] END colsample_bytree=0.6, gamma=5, max_depth=5, min_child_weight=1, subsample=0.6;, score=0.763 total time=   3.4s\n",
            "[CV 1/3] END colsample_bytree=0.6, gamma=5, max_depth=5, min_child_weight=1, subsample=0.8;, score=0.772 total time=   3.4s\n",
            "[CV 2/3] END colsample_bytree=0.6, gamma=5, max_depth=5, min_child_weight=1, subsample=0.8;, score=0.785 total time=   3.4s\n",
            "[CV 3/3] END colsample_bytree=0.6, gamma=5, max_depth=5, min_child_weight=1, subsample=0.8;, score=0.767 total time=   3.3s\n",
            "[CV 1/3] END colsample_bytree=0.6, gamma=5, max_depth=5, min_child_weight=1, subsample=1.0;, score=0.773 total time=   3.2s\n",
            "[CV 2/3] END colsample_bytree=0.6, gamma=5, max_depth=5, min_child_weight=1, subsample=1.0;, score=0.779 total time=   3.3s\n",
            "[CV 3/3] END colsample_bytree=0.6, gamma=5, max_depth=5, min_child_weight=1, subsample=1.0;, score=0.761 total time=   3.3s\n",
            "[CV 1/3] END colsample_bytree=0.6, gamma=5, max_depth=5, min_child_weight=5, subsample=0.6;, score=0.755 total time=   3.4s\n",
            "[CV 2/3] END colsample_bytree=0.6, gamma=5, max_depth=5, min_child_weight=5, subsample=0.6;, score=0.759 total time=   3.4s\n",
            "[CV 3/3] END colsample_bytree=0.6, gamma=5, max_depth=5, min_child_weight=5, subsample=0.6;, score=0.743 total time=   3.4s\n",
            "[CV 1/3] END colsample_bytree=0.6, gamma=5, max_depth=5, min_child_weight=5, subsample=0.8;, score=0.761 total time=   3.3s\n",
            "[CV 2/3] END colsample_bytree=0.6, gamma=5, max_depth=5, min_child_weight=5, subsample=0.8;, score=0.766 total time=   3.4s\n",
            "[CV 3/3] END colsample_bytree=0.6, gamma=5, max_depth=5, min_child_weight=5, subsample=0.8;, score=0.754 total time=   3.4s\n",
            "[CV 1/3] END colsample_bytree=0.6, gamma=5, max_depth=5, min_child_weight=5, subsample=1.0;, score=0.764 total time=   3.2s\n",
            "[CV 2/3] END colsample_bytree=0.6, gamma=5, max_depth=5, min_child_weight=5, subsample=1.0;, score=0.769 total time=   3.3s\n",
            "[CV 3/3] END colsample_bytree=0.6, gamma=5, max_depth=5, min_child_weight=5, subsample=1.0;, score=0.756 total time=   3.2s\n",
            "[CV 1/3] END colsample_bytree=0.6, gamma=5, max_depth=5, min_child_weight=10, subsample=0.6;, score=0.726 total time=   3.4s\n",
            "[CV 2/3] END colsample_bytree=0.6, gamma=5, max_depth=5, min_child_weight=10, subsample=0.6;, score=0.718 total time=   3.4s\n",
            "[CV 3/3] END colsample_bytree=0.6, gamma=5, max_depth=5, min_child_weight=10, subsample=0.6;, score=0.716 total time=   3.4s\n",
            "[CV 1/3] END colsample_bytree=0.6, gamma=5, max_depth=5, min_child_weight=10, subsample=0.8;, score=0.730 total time=   3.3s\n",
            "[CV 2/3] END colsample_bytree=0.6, gamma=5, max_depth=5, min_child_weight=10, subsample=0.8;, score=0.736 total time=   3.3s\n",
            "[CV 3/3] END colsample_bytree=0.6, gamma=5, max_depth=5, min_child_weight=10, subsample=0.8;, score=0.723 total time=   3.7s\n",
            "[CV 1/3] END colsample_bytree=0.6, gamma=5, max_depth=5, min_child_weight=10, subsample=1.0;, score=0.739 total time=   4.1s\n",
            "[CV 2/3] END colsample_bytree=0.6, gamma=5, max_depth=5, min_child_weight=10, subsample=1.0;, score=0.741 total time=   3.3s\n",
            "[CV 3/3] END colsample_bytree=0.6, gamma=5, max_depth=5, min_child_weight=10, subsample=1.0;, score=0.728 total time=   3.3s\n",
            "[CV 1/3] END colsample_bytree=0.8, gamma=0.5, max_depth=3, min_child_weight=1, subsample=0.6;, score=0.756 total time=   2.8s\n",
            "[CV 2/3] END colsample_bytree=0.8, gamma=0.5, max_depth=3, min_child_weight=1, subsample=0.6;, score=0.768 total time=   2.8s\n",
            "[CV 3/3] END colsample_bytree=0.8, gamma=0.5, max_depth=3, min_child_weight=1, subsample=0.6;, score=0.745 total time=   2.8s\n",
            "[CV 1/3] END colsample_bytree=0.8, gamma=0.5, max_depth=3, min_child_weight=1, subsample=0.8;, score=0.754 total time=   2.8s\n",
            "[CV 2/3] END colsample_bytree=0.8, gamma=0.5, max_depth=3, min_child_weight=1, subsample=0.8;, score=0.766 total time=   2.8s\n",
            "[CV 3/3] END colsample_bytree=0.8, gamma=0.5, max_depth=3, min_child_weight=1, subsample=0.8;, score=0.744 total time=   2.8s\n",
            "[CV 1/3] END colsample_bytree=0.8, gamma=0.5, max_depth=3, min_child_weight=1, subsample=1.0;, score=0.754 total time=   2.7s\n",
            "[CV 2/3] END colsample_bytree=0.8, gamma=0.5, max_depth=3, min_child_weight=1, subsample=1.0;, score=0.769 total time=   2.7s\n",
            "[CV 3/3] END colsample_bytree=0.8, gamma=0.5, max_depth=3, min_child_weight=1, subsample=1.0;, score=0.743 total time=   2.7s\n",
            "[CV 1/3] END colsample_bytree=0.8, gamma=0.5, max_depth=3, min_child_weight=5, subsample=0.6;, score=0.752 total time=   2.8s\n",
            "[CV 2/3] END colsample_bytree=0.8, gamma=0.5, max_depth=3, min_child_weight=5, subsample=0.6;, score=0.755 total time=   2.8s\n",
            "[CV 3/3] END colsample_bytree=0.8, gamma=0.5, max_depth=3, min_child_weight=5, subsample=0.6;, score=0.733 total time=   2.8s\n",
            "[CV 1/3] END colsample_bytree=0.8, gamma=0.5, max_depth=3, min_child_weight=5, subsample=0.8;, score=0.753 total time=   2.7s\n",
            "[CV 2/3] END colsample_bytree=0.8, gamma=0.5, max_depth=3, min_child_weight=5, subsample=0.8;, score=0.756 total time=   2.8s\n",
            "[CV 3/3] END colsample_bytree=0.8, gamma=0.5, max_depth=3, min_child_weight=5, subsample=0.8;, score=0.737 total time=   2.7s\n",
            "[CV 1/3] END colsample_bytree=0.8, gamma=0.5, max_depth=3, min_child_weight=5, subsample=1.0;, score=0.747 total time=   2.7s\n",
            "[CV 2/3] END colsample_bytree=0.8, gamma=0.5, max_depth=3, min_child_weight=5, subsample=1.0;, score=0.759 total time=   2.6s\n",
            "[CV 3/3] END colsample_bytree=0.8, gamma=0.5, max_depth=3, min_child_weight=5, subsample=1.0;, score=0.737 total time=   2.7s\n",
            "[CV 1/3] END colsample_bytree=0.8, gamma=0.5, max_depth=3, min_child_weight=10, subsample=0.6;, score=0.722 total time=   2.8s\n",
            "[CV 2/3] END colsample_bytree=0.8, gamma=0.5, max_depth=3, min_child_weight=10, subsample=0.6;, score=0.719 total time=   2.8s\n",
            "[CV 3/3] END colsample_bytree=0.8, gamma=0.5, max_depth=3, min_child_weight=10, subsample=0.6;, score=0.715 total time=   2.8s\n",
            "[CV 1/3] END colsample_bytree=0.8, gamma=0.5, max_depth=3, min_child_weight=10, subsample=0.8;, score=0.727 total time=   2.7s\n",
            "[CV 2/3] END colsample_bytree=0.8, gamma=0.5, max_depth=3, min_child_weight=10, subsample=0.8;, score=0.736 total time=   2.7s\n",
            "[CV 3/3] END colsample_bytree=0.8, gamma=0.5, max_depth=3, min_child_weight=10, subsample=0.8;, score=0.722 total time=   2.7s\n",
            "[CV 1/3] END colsample_bytree=0.8, gamma=0.5, max_depth=3, min_child_weight=10, subsample=1.0;, score=0.735 total time=   2.7s\n",
            "[CV 2/3] END colsample_bytree=0.8, gamma=0.5, max_depth=3, min_child_weight=10, subsample=1.0;, score=0.741 total time=   2.7s\n",
            "[CV 3/3] END colsample_bytree=0.8, gamma=0.5, max_depth=3, min_child_weight=10, subsample=1.0;, score=0.724 total time=   2.7s\n",
            "[CV 1/3] END colsample_bytree=0.8, gamma=0.5, max_depth=4, min_child_weight=1, subsample=0.6;, score=0.764 total time=   3.6s\n",
            "[CV 2/3] END colsample_bytree=0.8, gamma=0.5, max_depth=4, min_child_weight=1, subsample=0.6;, score=0.777 total time=   3.7s\n",
            "[CV 3/3] END colsample_bytree=0.8, gamma=0.5, max_depth=4, min_child_weight=1, subsample=0.6;, score=0.757 total time=   3.6s\n",
            "[CV 1/3] END colsample_bytree=0.8, gamma=0.5, max_depth=4, min_child_weight=1, subsample=0.8;, score=0.764 total time=   3.6s\n",
            "[CV 2/3] END colsample_bytree=0.8, gamma=0.5, max_depth=4, min_child_weight=1, subsample=0.8;, score=0.779 total time=   3.6s\n",
            "[CV 3/3] END colsample_bytree=0.8, gamma=0.5, max_depth=4, min_child_weight=1, subsample=0.8;, score=0.759 total time=   3.6s\n",
            "[CV 1/3] END colsample_bytree=0.8, gamma=0.5, max_depth=4, min_child_weight=1, subsample=1.0;, score=0.766 total time=   3.5s\n",
            "[CV 2/3] END colsample_bytree=0.8, gamma=0.5, max_depth=4, min_child_weight=1, subsample=1.0;, score=0.776 total time=   3.5s\n",
            "[CV 3/3] END colsample_bytree=0.8, gamma=0.5, max_depth=4, min_child_weight=1, subsample=1.0;, score=0.753 total time=   3.5s\n",
            "[CV 1/3] END colsample_bytree=0.8, gamma=0.5, max_depth=4, min_child_weight=5, subsample=0.6;, score=0.757 total time=   3.6s\n",
            "[CV 2/3] END colsample_bytree=0.8, gamma=0.5, max_depth=4, min_child_weight=5, subsample=0.6;, score=0.761 total time=   3.6s\n",
            "[CV 3/3] END colsample_bytree=0.8, gamma=0.5, max_depth=4, min_child_weight=5, subsample=0.6;, score=0.740 total time=   3.6s\n",
            "[CV 1/3] END colsample_bytree=0.8, gamma=0.5, max_depth=4, min_child_weight=5, subsample=0.8;, score=0.759 total time=   3.5s\n",
            "[CV 2/3] END colsample_bytree=0.8, gamma=0.5, max_depth=4, min_child_weight=5, subsample=0.8;, score=0.763 total time=   3.6s\n",
            "[CV 3/3] END colsample_bytree=0.8, gamma=0.5, max_depth=4, min_child_weight=5, subsample=0.8;, score=0.744 total time=   3.5s\n",
            "[CV 1/3] END colsample_bytree=0.8, gamma=0.5, max_depth=4, min_child_weight=5, subsample=1.0;, score=0.756 total time=   3.5s\n",
            "[CV 2/3] END colsample_bytree=0.8, gamma=0.5, max_depth=4, min_child_weight=5, subsample=1.0;, score=0.768 total time=   3.4s\n",
            "[CV 3/3] END colsample_bytree=0.8, gamma=0.5, max_depth=4, min_child_weight=5, subsample=1.0;, score=0.744 total time=   3.4s\n",
            "[CV 1/3] END colsample_bytree=0.8, gamma=0.5, max_depth=4, min_child_weight=10, subsample=0.6;, score=0.724 total time=   3.6s\n",
            "[CV 2/3] END colsample_bytree=0.8, gamma=0.5, max_depth=4, min_child_weight=10, subsample=0.6;, score=0.719 total time=   3.7s\n",
            "[CV 3/3] END colsample_bytree=0.8, gamma=0.5, max_depth=4, min_child_weight=10, subsample=0.6;, score=0.718 total time=   4.7s\n",
            "[CV 1/3] END colsample_bytree=0.8, gamma=0.5, max_depth=4, min_child_weight=10, subsample=0.8;, score=0.726 total time=   3.6s\n",
            "[CV 2/3] END colsample_bytree=0.8, gamma=0.5, max_depth=4, min_child_weight=10, subsample=0.8;, score=0.734 total time=   3.5s\n",
            "[CV 3/3] END colsample_bytree=0.8, gamma=0.5, max_depth=4, min_child_weight=10, subsample=0.8;, score=0.723 total time=   3.5s\n",
            "[CV 1/3] END colsample_bytree=0.8, gamma=0.5, max_depth=4, min_child_weight=10, subsample=1.0;, score=0.739 total time=   3.5s\n",
            "[CV 2/3] END colsample_bytree=0.8, gamma=0.5, max_depth=4, min_child_weight=10, subsample=1.0;, score=0.744 total time=   3.5s\n",
            "[CV 3/3] END colsample_bytree=0.8, gamma=0.5, max_depth=4, min_child_weight=10, subsample=1.0;, score=0.727 total time=   3.4s\n",
            "[CV 1/3] END colsample_bytree=0.8, gamma=0.5, max_depth=5, min_child_weight=1, subsample=0.6;, score=0.777 total time=   4.4s\n",
            "[CV 2/3] END colsample_bytree=0.8, gamma=0.5, max_depth=5, min_child_weight=1, subsample=0.6;, score=0.784 total time=   4.5s\n",
            "[CV 3/3] END colsample_bytree=0.8, gamma=0.5, max_depth=5, min_child_weight=1, subsample=0.6;, score=0.769 total time=   4.4s\n",
            "[CV 1/3] END colsample_bytree=0.8, gamma=0.5, max_depth=5, min_child_weight=1, subsample=0.8;, score=0.771 total time=   4.4s\n",
            "[CV 2/3] END colsample_bytree=0.8, gamma=0.5, max_depth=5, min_child_weight=1, subsample=0.8;, score=0.787 total time=   4.4s\n",
            "[CV 3/3] END colsample_bytree=0.8, gamma=0.5, max_depth=5, min_child_weight=1, subsample=0.8;, score=0.767 total time=   4.4s\n",
            "[CV 1/3] END colsample_bytree=0.8, gamma=0.5, max_depth=5, min_child_weight=1, subsample=1.0;, score=0.774 total time=   4.3s\n",
            "[CV 2/3] END colsample_bytree=0.8, gamma=0.5, max_depth=5, min_child_weight=1, subsample=1.0;, score=0.782 total time=   4.3s\n",
            "[CV 3/3] END colsample_bytree=0.8, gamma=0.5, max_depth=5, min_child_weight=1, subsample=1.0;, score=0.758 total time=   4.3s\n",
            "[CV 1/3] END colsample_bytree=0.8, gamma=0.5, max_depth=5, min_child_weight=5, subsample=0.6;, score=0.756 total time=   4.4s\n",
            "[CV 2/3] END colsample_bytree=0.8, gamma=0.5, max_depth=5, min_child_weight=5, subsample=0.6;, score=0.762 total time=   4.5s\n",
            "[CV 3/3] END colsample_bytree=0.8, gamma=0.5, max_depth=5, min_child_weight=5, subsample=0.6;, score=0.746 total time=   4.4s\n",
            "[CV 1/3] END colsample_bytree=0.8, gamma=0.5, max_depth=5, min_child_weight=5, subsample=0.8;, score=0.761 total time=   4.3s\n",
            "[CV 2/3] END colsample_bytree=0.8, gamma=0.5, max_depth=5, min_child_weight=5, subsample=0.8;, score=0.765 total time=   4.3s\n",
            "[CV 3/3] END colsample_bytree=0.8, gamma=0.5, max_depth=5, min_child_weight=5, subsample=0.8;, score=0.752 total time=   4.4s\n",
            "[CV 1/3] END colsample_bytree=0.8, gamma=0.5, max_depth=5, min_child_weight=5, subsample=1.0;, score=0.761 total time=   4.2s\n",
            "[CV 2/3] END colsample_bytree=0.8, gamma=0.5, max_depth=5, min_child_weight=5, subsample=1.0;, score=0.770 total time=   4.2s\n",
            "[CV 3/3] END colsample_bytree=0.8, gamma=0.5, max_depth=5, min_child_weight=5, subsample=1.0;, score=0.755 total time=   4.2s\n",
            "[CV 1/3] END colsample_bytree=0.8, gamma=0.5, max_depth=5, min_child_weight=10, subsample=0.6;, score=0.723 total time=   4.4s\n",
            "[CV 2/3] END colsample_bytree=0.8, gamma=0.5, max_depth=5, min_child_weight=10, subsample=0.6;, score=0.718 total time=   4.4s\n",
            "[CV 3/3] END colsample_bytree=0.8, gamma=0.5, max_depth=5, min_child_weight=10, subsample=0.6;, score=0.716 total time=   4.4s\n",
            "[CV 1/3] END colsample_bytree=0.8, gamma=0.5, max_depth=5, min_child_weight=10, subsample=0.8;, score=0.736 total time=   4.3s\n",
            "[CV 2/3] END colsample_bytree=0.8, gamma=0.5, max_depth=5, min_child_weight=10, subsample=0.8;, score=0.736 total time=   4.3s\n",
            "[CV 3/3] END colsample_bytree=0.8, gamma=0.5, max_depth=5, min_child_weight=10, subsample=0.8;, score=0.729 total time=   4.3s\n",
            "[CV 1/3] END colsample_bytree=0.8, gamma=0.5, max_depth=5, min_child_weight=10, subsample=1.0;, score=0.741 total time=   4.2s\n",
            "[CV 2/3] END colsample_bytree=0.8, gamma=0.5, max_depth=5, min_child_weight=10, subsample=1.0;, score=0.743 total time=   4.2s\n",
            "[CV 3/3] END colsample_bytree=0.8, gamma=0.5, max_depth=5, min_child_weight=10, subsample=1.0;, score=0.729 total time=   4.2s\n",
            "[CV 1/3] END colsample_bytree=0.8, gamma=1, max_depth=3, min_child_weight=1, subsample=0.6;, score=0.756 total time=   2.8s\n",
            "[CV 2/3] END colsample_bytree=0.8, gamma=1, max_depth=3, min_child_weight=1, subsample=0.6;, score=0.765 total time=   2.8s\n",
            "[CV 3/3] END colsample_bytree=0.8, gamma=1, max_depth=3, min_child_weight=1, subsample=0.6;, score=0.745 total time=   2.8s\n",
            "[CV 1/3] END colsample_bytree=0.8, gamma=1, max_depth=3, min_child_weight=1, subsample=0.8;, score=0.756 total time=   2.8s\n",
            "[CV 2/3] END colsample_bytree=0.8, gamma=1, max_depth=3, min_child_weight=1, subsample=0.8;, score=0.766 total time=   2.8s\n",
            "[CV 3/3] END colsample_bytree=0.8, gamma=1, max_depth=3, min_child_weight=1, subsample=0.8;, score=0.746 total time=   3.9s\n",
            "[CV 1/3] END colsample_bytree=0.8, gamma=1, max_depth=3, min_child_weight=1, subsample=1.0;, score=0.749 total time=   2.8s\n",
            "[CV 2/3] END colsample_bytree=0.8, gamma=1, max_depth=3, min_child_weight=1, subsample=1.0;, score=0.768 total time=   2.7s\n",
            "[CV 3/3] END colsample_bytree=0.8, gamma=1, max_depth=3, min_child_weight=1, subsample=1.0;, score=0.742 total time=   2.7s\n",
            "[CV 1/3] END colsample_bytree=0.8, gamma=1, max_depth=3, min_child_weight=5, subsample=0.6;, score=0.754 total time=   2.8s\n",
            "[CV 2/3] END colsample_bytree=0.8, gamma=1, max_depth=3, min_child_weight=5, subsample=0.6;, score=0.755 total time=   2.8s\n",
            "[CV 3/3] END colsample_bytree=0.8, gamma=1, max_depth=3, min_child_weight=5, subsample=0.6;, score=0.732 total time=   2.8s\n",
            "[CV 1/3] END colsample_bytree=0.8, gamma=1, max_depth=3, min_child_weight=5, subsample=0.8;, score=0.751 total time=   2.8s\n",
            "[CV 2/3] END colsample_bytree=0.8, gamma=1, max_depth=3, min_child_weight=5, subsample=0.8;, score=0.758 total time=   2.8s\n",
            "[CV 3/3] END colsample_bytree=0.8, gamma=1, max_depth=3, min_child_weight=5, subsample=0.8;, score=0.739 total time=   2.8s\n",
            "[CV 1/3] END colsample_bytree=0.8, gamma=1, max_depth=3, min_child_weight=5, subsample=1.0;, score=0.750 total time=   2.7s\n",
            "[CV 2/3] END colsample_bytree=0.8, gamma=1, max_depth=3, min_child_weight=5, subsample=1.0;, score=0.759 total time=   2.7s\n",
            "[CV 3/3] END colsample_bytree=0.8, gamma=1, max_depth=3, min_child_weight=5, subsample=1.0;, score=0.738 total time=   2.7s\n",
            "[CV 1/3] END colsample_bytree=0.8, gamma=1, max_depth=3, min_child_weight=10, subsample=0.6;, score=0.724 total time=   2.8s\n",
            "[CV 2/3] END colsample_bytree=0.8, gamma=1, max_depth=3, min_child_weight=10, subsample=0.6;, score=0.716 total time=   2.8s\n",
            "[CV 3/3] END colsample_bytree=0.8, gamma=1, max_depth=3, min_child_weight=10, subsample=0.6;, score=0.716 total time=   2.8s\n",
            "[CV 1/3] END colsample_bytree=0.8, gamma=1, max_depth=3, min_child_weight=10, subsample=0.8;, score=0.729 total time=   2.8s\n",
            "[CV 2/3] END colsample_bytree=0.8, gamma=1, max_depth=3, min_child_weight=10, subsample=0.8;, score=0.737 total time=   2.7s\n",
            "[CV 3/3] END colsample_bytree=0.8, gamma=1, max_depth=3, min_child_weight=10, subsample=0.8;, score=0.719 total time=   2.7s\n",
            "[CV 1/3] END colsample_bytree=0.8, gamma=1, max_depth=3, min_child_weight=10, subsample=1.0;, score=0.736 total time=   2.6s\n",
            "[CV 2/3] END colsample_bytree=0.8, gamma=1, max_depth=3, min_child_weight=10, subsample=1.0;, score=0.742 total time=   2.7s\n",
            "[CV 3/3] END colsample_bytree=0.8, gamma=1, max_depth=3, min_child_weight=10, subsample=1.0;, score=0.723 total time=   2.7s\n",
            "[CV 1/3] END colsample_bytree=0.8, gamma=1, max_depth=4, min_child_weight=1, subsample=0.6;, score=0.768 total time=   3.6s\n",
            "[CV 2/3] END colsample_bytree=0.8, gamma=1, max_depth=4, min_child_weight=1, subsample=0.6;, score=0.774 total time=   3.7s\n",
            "[CV 3/3] END colsample_bytree=0.8, gamma=1, max_depth=4, min_child_weight=1, subsample=0.6;, score=0.756 total time=   3.7s\n",
            "[CV 1/3] END colsample_bytree=0.8, gamma=1, max_depth=4, min_child_weight=1, subsample=0.8;, score=0.764 total time=   3.6s\n",
            "[CV 2/3] END colsample_bytree=0.8, gamma=1, max_depth=4, min_child_weight=1, subsample=0.8;, score=0.775 total time=   3.6s\n",
            "[CV 3/3] END colsample_bytree=0.8, gamma=1, max_depth=4, min_child_weight=1, subsample=0.8;, score=0.756 total time=   3.6s\n",
            "[CV 1/3] END colsample_bytree=0.8, gamma=1, max_depth=4, min_child_weight=1, subsample=1.0;, score=0.766 total time=   3.5s\n",
            "[CV 2/3] END colsample_bytree=0.8, gamma=1, max_depth=4, min_child_weight=1, subsample=1.0;, score=0.776 total time=   3.5s\n",
            "[CV 3/3] END colsample_bytree=0.8, gamma=1, max_depth=4, min_child_weight=1, subsample=1.0;, score=0.751 total time=   3.5s\n",
            "[CV 1/3] END colsample_bytree=0.8, gamma=1, max_depth=4, min_child_weight=5, subsample=0.6;, score=0.755 total time=   3.6s\n",
            "[CV 2/3] END colsample_bytree=0.8, gamma=1, max_depth=4, min_child_weight=5, subsample=0.6;, score=0.762 total time=   3.6s\n",
            "[CV 3/3] END colsample_bytree=0.8, gamma=1, max_depth=4, min_child_weight=5, subsample=0.6;, score=0.741 total time=   3.6s\n",
            "[CV 1/3] END colsample_bytree=0.8, gamma=1, max_depth=4, min_child_weight=5, subsample=0.8;, score=0.758 total time=   3.5s\n",
            "[CV 2/3] END colsample_bytree=0.8, gamma=1, max_depth=4, min_child_weight=5, subsample=0.8;, score=0.764 total time=   3.6s\n",
            "[CV 3/3] END colsample_bytree=0.8, gamma=1, max_depth=4, min_child_weight=5, subsample=0.8;, score=0.743 total time=   3.6s\n",
            "[CV 1/3] END colsample_bytree=0.8, gamma=1, max_depth=4, min_child_weight=5, subsample=1.0;, score=0.756 total time=   3.5s\n",
            "[CV 2/3] END colsample_bytree=0.8, gamma=1, max_depth=4, min_child_weight=5, subsample=1.0;, score=0.768 total time=   3.5s\n",
            "[CV 3/3] END colsample_bytree=0.8, gamma=1, max_depth=4, min_child_weight=5, subsample=1.0;, score=0.747 total time=   3.4s\n",
            "[CV 1/3] END colsample_bytree=0.8, gamma=1, max_depth=4, min_child_weight=10, subsample=0.6;, score=0.724 total time=   3.6s\n",
            "[CV 2/3] END colsample_bytree=0.8, gamma=1, max_depth=4, min_child_weight=10, subsample=0.6;, score=0.719 total time=   3.6s\n",
            "[CV 3/3] END colsample_bytree=0.8, gamma=1, max_depth=4, min_child_weight=10, subsample=0.6;, score=0.718 total time=   3.6s\n",
            "[CV 1/3] END colsample_bytree=0.8, gamma=1, max_depth=4, min_child_weight=10, subsample=0.8;, score=0.728 total time=   3.6s\n",
            "[CV 2/3] END colsample_bytree=0.8, gamma=1, max_depth=4, min_child_weight=10, subsample=0.8;, score=0.733 total time=   3.5s\n",
            "[CV 3/3] END colsample_bytree=0.8, gamma=1, max_depth=4, min_child_weight=10, subsample=0.8;, score=0.721 total time=   3.5s\n",
            "[CV 1/3] END colsample_bytree=0.8, gamma=1, max_depth=4, min_child_weight=10, subsample=1.0;, score=0.738 total time=   3.5s\n",
            "[CV 2/3] END colsample_bytree=0.8, gamma=1, max_depth=4, min_child_weight=10, subsample=1.0;, score=0.745 total time=   3.5s\n",
            "[CV 3/3] END colsample_bytree=0.8, gamma=1, max_depth=4, min_child_weight=10, subsample=1.0;, score=0.726 total time=   3.5s\n",
            "[CV 1/3] END colsample_bytree=0.8, gamma=1, max_depth=5, min_child_weight=1, subsample=0.6;, score=0.774 total time=   5.6s\n",
            "[CV 2/3] END colsample_bytree=0.8, gamma=1, max_depth=5, min_child_weight=1, subsample=0.6;, score=0.783 total time=   4.5s\n",
            "[CV 3/3] END colsample_bytree=0.8, gamma=1, max_depth=5, min_child_weight=1, subsample=0.6;, score=0.766 total time=   4.5s\n",
            "[CV 1/3] END colsample_bytree=0.8, gamma=1, max_depth=5, min_child_weight=1, subsample=0.8;, score=0.773 total time=   4.4s\n",
            "[CV 2/3] END colsample_bytree=0.8, gamma=1, max_depth=5, min_child_weight=1, subsample=0.8;, score=0.785 total time=   4.4s\n",
            "[CV 3/3] END colsample_bytree=0.8, gamma=1, max_depth=5, min_child_weight=1, subsample=0.8;, score=0.767 total time=   4.4s\n",
            "[CV 1/3] END colsample_bytree=0.8, gamma=1, max_depth=5, min_child_weight=1, subsample=1.0;, score=0.774 total time=   4.2s\n",
            "[CV 2/3] END colsample_bytree=0.8, gamma=1, max_depth=5, min_child_weight=1, subsample=1.0;, score=0.785 total time=   4.3s\n",
            "[CV 3/3] END colsample_bytree=0.8, gamma=1, max_depth=5, min_child_weight=1, subsample=1.0;, score=0.760 total time=   4.2s\n",
            "[CV 1/3] END colsample_bytree=0.8, gamma=1, max_depth=5, min_child_weight=5, subsample=0.6;, score=0.757 total time=   4.4s\n",
            "[CV 2/3] END colsample_bytree=0.8, gamma=1, max_depth=5, min_child_weight=5, subsample=0.6;, score=0.764 total time=   4.4s\n",
            "[CV 3/3] END colsample_bytree=0.8, gamma=1, max_depth=5, min_child_weight=5, subsample=0.6;, score=0.745 total time=   4.4s\n",
            "[CV 1/3] END colsample_bytree=0.8, gamma=1, max_depth=5, min_child_weight=5, subsample=0.8;, score=0.764 total time=   4.4s\n",
            "[CV 2/3] END colsample_bytree=0.8, gamma=1, max_depth=5, min_child_weight=5, subsample=0.8;, score=0.766 total time=   4.3s\n",
            "[CV 3/3] END colsample_bytree=0.8, gamma=1, max_depth=5, min_child_weight=5, subsample=0.8;, score=0.752 total time=   4.3s\n",
            "[CV 1/3] END colsample_bytree=0.8, gamma=1, max_depth=5, min_child_weight=5, subsample=1.0;, score=0.760 total time=   4.2s\n",
            "[CV 2/3] END colsample_bytree=0.8, gamma=1, max_depth=5, min_child_weight=5, subsample=1.0;, score=0.772 total time=   4.2s\n",
            "[CV 3/3] END colsample_bytree=0.8, gamma=1, max_depth=5, min_child_weight=5, subsample=1.0;, score=0.758 total time=   4.2s\n",
            "[CV 1/3] END colsample_bytree=0.8, gamma=1, max_depth=5, min_child_weight=10, subsample=0.6;, score=0.722 total time=   4.4s\n",
            "[CV 2/3] END colsample_bytree=0.8, gamma=1, max_depth=5, min_child_weight=10, subsample=0.6;, score=0.718 total time=   4.4s\n",
            "[CV 3/3] END colsample_bytree=0.8, gamma=1, max_depth=5, min_child_weight=10, subsample=0.6;, score=0.716 total time=   4.4s\n",
            "[CV 1/3] END colsample_bytree=0.8, gamma=1, max_depth=5, min_child_weight=10, subsample=0.8;, score=0.736 total time=   4.5s\n",
            "[CV 2/3] END colsample_bytree=0.8, gamma=1, max_depth=5, min_child_weight=10, subsample=0.8;, score=0.737 total time=   4.4s\n",
            "[CV 3/3] END colsample_bytree=0.8, gamma=1, max_depth=5, min_child_weight=10, subsample=0.8;, score=0.727 total time=   4.3s\n",
            "[CV 1/3] END colsample_bytree=0.8, gamma=1, max_depth=5, min_child_weight=10, subsample=1.0;, score=0.740 total time=   4.2s\n",
            "[CV 2/3] END colsample_bytree=0.8, gamma=1, max_depth=5, min_child_weight=10, subsample=1.0;, score=0.744 total time=   4.2s\n",
            "[CV 3/3] END colsample_bytree=0.8, gamma=1, max_depth=5, min_child_weight=10, subsample=1.0;, score=0.729 total time=   4.2s\n",
            "[CV 1/3] END colsample_bytree=0.8, gamma=1.5, max_depth=3, min_child_weight=1, subsample=0.6;, score=0.754 total time=   2.8s\n",
            "[CV 2/3] END colsample_bytree=0.8, gamma=1.5, max_depth=3, min_child_weight=1, subsample=0.6;, score=0.767 total time=   2.8s\n",
            "[CV 3/3] END colsample_bytree=0.8, gamma=1.5, max_depth=3, min_child_weight=1, subsample=0.6;, score=0.748 total time=   2.8s\n",
            "[CV 1/3] END colsample_bytree=0.8, gamma=1.5, max_depth=3, min_child_weight=1, subsample=0.8;, score=0.755 total time=   2.8s\n",
            "[CV 2/3] END colsample_bytree=0.8, gamma=1.5, max_depth=3, min_child_weight=1, subsample=0.8;, score=0.763 total time=   2.8s\n",
            "[CV 3/3] END colsample_bytree=0.8, gamma=1.5, max_depth=3, min_child_weight=1, subsample=0.8;, score=0.746 total time=   2.8s\n",
            "[CV 1/3] END colsample_bytree=0.8, gamma=1.5, max_depth=3, min_child_weight=1, subsample=1.0;, score=0.753 total time=   2.7s\n",
            "[CV 2/3] END colsample_bytree=0.8, gamma=1.5, max_depth=3, min_child_weight=1, subsample=1.0;, score=0.767 total time=   2.7s\n",
            "[CV 3/3] END colsample_bytree=0.8, gamma=1.5, max_depth=3, min_child_weight=1, subsample=1.0;, score=0.744 total time=   2.7s\n",
            "[CV 1/3] END colsample_bytree=0.8, gamma=1.5, max_depth=3, min_child_weight=5, subsample=0.6;, score=0.750 total time=   2.8s\n",
            "[CV 2/3] END colsample_bytree=0.8, gamma=1.5, max_depth=3, min_child_weight=5, subsample=0.6;, score=0.755 total time=   2.8s\n",
            "[CV 3/3] END colsample_bytree=0.8, gamma=1.5, max_depth=3, min_child_weight=5, subsample=0.6;, score=0.733 total time=   2.8s\n",
            "[CV 1/3] END colsample_bytree=0.8, gamma=1.5, max_depth=3, min_child_weight=5, subsample=0.8;, score=0.747 total time=   2.8s\n",
            "[CV 2/3] END colsample_bytree=0.8, gamma=1.5, max_depth=3, min_child_weight=5, subsample=0.8;, score=0.758 total time=   2.8s\n",
            "[CV 3/3] END colsample_bytree=0.8, gamma=1.5, max_depth=3, min_child_weight=5, subsample=0.8;, score=0.743 total time=   2.8s\n",
            "[CV 1/3] END colsample_bytree=0.8, gamma=1.5, max_depth=3, min_child_weight=5, subsample=1.0;, score=0.749 total time=   2.7s\n",
            "[CV 2/3] END colsample_bytree=0.8, gamma=1.5, max_depth=3, min_child_weight=5, subsample=1.0;, score=0.760 total time=   3.8s\n",
            "[CV 3/3] END colsample_bytree=0.8, gamma=1.5, max_depth=3, min_child_weight=5, subsample=1.0;, score=0.737 total time=   2.7s\n",
            "[CV 1/3] END colsample_bytree=0.8, gamma=1.5, max_depth=3, min_child_weight=10, subsample=0.6;, score=0.724 total time=   2.8s\n",
            "[CV 2/3] END colsample_bytree=0.8, gamma=1.5, max_depth=3, min_child_weight=10, subsample=0.6;, score=0.718 total time=   2.9s\n",
            "[CV 3/3] END colsample_bytree=0.8, gamma=1.5, max_depth=3, min_child_weight=10, subsample=0.6;, score=0.715 total time=   2.8s\n",
            "[CV 1/3] END colsample_bytree=0.8, gamma=1.5, max_depth=3, min_child_weight=10, subsample=0.8;, score=0.728 total time=   2.8s\n",
            "[CV 2/3] END colsample_bytree=0.8, gamma=1.5, max_depth=3, min_child_weight=10, subsample=0.8;, score=0.735 total time=   2.7s\n",
            "[CV 3/3] END colsample_bytree=0.8, gamma=1.5, max_depth=3, min_child_weight=10, subsample=0.8;, score=0.719 total time=   2.7s\n",
            "[CV 1/3] END colsample_bytree=0.8, gamma=1.5, max_depth=3, min_child_weight=10, subsample=1.0;, score=0.736 total time=   2.7s\n",
            "[CV 2/3] END colsample_bytree=0.8, gamma=1.5, max_depth=3, min_child_weight=10, subsample=1.0;, score=0.741 total time=   2.7s\n",
            "[CV 3/3] END colsample_bytree=0.8, gamma=1.5, max_depth=3, min_child_weight=10, subsample=1.0;, score=0.722 total time=   2.7s\n",
            "[CV 1/3] END colsample_bytree=0.8, gamma=1.5, max_depth=4, min_child_weight=1, subsample=0.6;, score=0.763 total time=   3.6s\n",
            "[CV 2/3] END colsample_bytree=0.8, gamma=1.5, max_depth=4, min_child_weight=1, subsample=0.6;, score=0.778 total time=   3.7s\n",
            "[CV 3/3] END colsample_bytree=0.8, gamma=1.5, max_depth=4, min_child_weight=1, subsample=0.6;, score=0.759 total time=   3.6s\n",
            "[CV 1/3] END colsample_bytree=0.8, gamma=1.5, max_depth=4, min_child_weight=1, subsample=0.8;, score=0.764 total time=   3.6s\n",
            "[CV 2/3] END colsample_bytree=0.8, gamma=1.5, max_depth=4, min_child_weight=1, subsample=0.8;, score=0.776 total time=   3.6s\n",
            "[CV 3/3] END colsample_bytree=0.8, gamma=1.5, max_depth=4, min_child_weight=1, subsample=0.8;, score=0.757 total time=   3.6s\n",
            "[CV 1/3] END colsample_bytree=0.8, gamma=1.5, max_depth=4, min_child_weight=1, subsample=1.0;, score=0.768 total time=   3.5s\n",
            "[CV 2/3] END colsample_bytree=0.8, gamma=1.5, max_depth=4, min_child_weight=1, subsample=1.0;, score=0.774 total time=   3.5s\n",
            "[CV 3/3] END colsample_bytree=0.8, gamma=1.5, max_depth=4, min_child_weight=1, subsample=1.0;, score=0.752 total time=   3.5s\n",
            "[CV 1/3] END colsample_bytree=0.8, gamma=1.5, max_depth=4, min_child_weight=5, subsample=0.6;, score=0.757 total time=   3.6s\n",
            "[CV 2/3] END colsample_bytree=0.8, gamma=1.5, max_depth=4, min_child_weight=5, subsample=0.6;, score=0.760 total time=   3.6s\n",
            "[CV 3/3] END colsample_bytree=0.8, gamma=1.5, max_depth=4, min_child_weight=5, subsample=0.6;, score=0.741 total time=   3.6s\n",
            "[CV 1/3] END colsample_bytree=0.8, gamma=1.5, max_depth=4, min_child_weight=5, subsample=0.8;, score=0.757 total time=   3.5s\n",
            "[CV 2/3] END colsample_bytree=0.8, gamma=1.5, max_depth=4, min_child_weight=5, subsample=0.8;, score=0.763 total time=   3.5s\n",
            "[CV 3/3] END colsample_bytree=0.8, gamma=1.5, max_depth=4, min_child_weight=5, subsample=0.8;, score=0.745 total time=   3.5s\n",
            "[CV 1/3] END colsample_bytree=0.8, gamma=1.5, max_depth=4, min_child_weight=5, subsample=1.0;, score=0.757 total time=   3.4s\n",
            "[CV 2/3] END colsample_bytree=0.8, gamma=1.5, max_depth=4, min_child_weight=5, subsample=1.0;, score=0.765 total time=   3.4s\n",
            "[CV 3/3] END colsample_bytree=0.8, gamma=1.5, max_depth=4, min_child_weight=5, subsample=1.0;, score=0.750 total time=   3.4s\n",
            "[CV 1/3] END colsample_bytree=0.8, gamma=1.5, max_depth=4, min_child_weight=10, subsample=0.6;, score=0.721 total time=   3.6s\n",
            "[CV 2/3] END colsample_bytree=0.8, gamma=1.5, max_depth=4, min_child_weight=10, subsample=0.6;, score=0.720 total time=   3.6s\n",
            "[CV 3/3] END colsample_bytree=0.8, gamma=1.5, max_depth=4, min_child_weight=10, subsample=0.6;, score=0.718 total time=   3.6s\n",
            "[CV 1/3] END colsample_bytree=0.8, gamma=1.5, max_depth=4, min_child_weight=10, subsample=0.8;, score=0.727 total time=   3.5s\n",
            "[CV 2/3] END colsample_bytree=0.8, gamma=1.5, max_depth=4, min_child_weight=10, subsample=0.8;, score=0.734 total time=   3.6s\n",
            "[CV 3/3] END colsample_bytree=0.8, gamma=1.5, max_depth=4, min_child_weight=10, subsample=0.8;, score=0.721 total time=   3.6s\n",
            "[CV 1/3] END colsample_bytree=0.8, gamma=1.5, max_depth=4, min_child_weight=10, subsample=1.0;, score=0.739 total time=   3.4s\n",
            "[CV 2/3] END colsample_bytree=0.8, gamma=1.5, max_depth=4, min_child_weight=10, subsample=1.0;, score=0.743 total time=   3.4s\n",
            "[CV 3/3] END colsample_bytree=0.8, gamma=1.5, max_depth=4, min_child_weight=10, subsample=1.0;, score=0.724 total time=   3.4s\n",
            "[CV 1/3] END colsample_bytree=0.8, gamma=1.5, max_depth=5, min_child_weight=1, subsample=0.6;, score=0.771 total time=   4.5s\n",
            "[CV 2/3] END colsample_bytree=0.8, gamma=1.5, max_depth=5, min_child_weight=1, subsample=0.6;, score=0.785 total time=   4.4s\n",
            "[CV 3/3] END colsample_bytree=0.8, gamma=1.5, max_depth=5, min_child_weight=1, subsample=0.6;, score=0.771 total time=   4.4s\n",
            "[CV 1/3] END colsample_bytree=0.8, gamma=1.5, max_depth=5, min_child_weight=1, subsample=0.8;, score=0.773 total time=   4.4s\n",
            "[CV 2/3] END colsample_bytree=0.8, gamma=1.5, max_depth=5, min_child_weight=1, subsample=0.8;, score=0.784 total time=   4.4s\n",
            "[CV 3/3] END colsample_bytree=0.8, gamma=1.5, max_depth=5, min_child_weight=1, subsample=0.8;, score=0.768 total time=   4.4s\n",
            "[CV 1/3] END colsample_bytree=0.8, gamma=1.5, max_depth=5, min_child_weight=1, subsample=1.0;, score=0.776 total time=   4.3s\n",
            "[CV 2/3] END colsample_bytree=0.8, gamma=1.5, max_depth=5, min_child_weight=1, subsample=1.0;, score=0.782 total time=   4.2s\n",
            "[CV 3/3] END colsample_bytree=0.8, gamma=1.5, max_depth=5, min_child_weight=1, subsample=1.0;, score=0.759 total time=   5.4s\n",
            "[CV 1/3] END colsample_bytree=0.8, gamma=1.5, max_depth=5, min_child_weight=5, subsample=0.6;, score=0.756 total time=   4.4s\n",
            "[CV 2/3] END colsample_bytree=0.8, gamma=1.5, max_depth=5, min_child_weight=5, subsample=0.6;, score=0.761 total time=   4.4s\n",
            "[CV 3/3] END colsample_bytree=0.8, gamma=1.5, max_depth=5, min_child_weight=5, subsample=0.6;, score=0.744 total time=   4.4s\n",
            "[CV 1/3] END colsample_bytree=0.8, gamma=1.5, max_depth=5, min_child_weight=5, subsample=0.8;, score=0.760 total time=   4.3s\n",
            "[CV 2/3] END colsample_bytree=0.8, gamma=1.5, max_depth=5, min_child_weight=5, subsample=0.8;, score=0.767 total time=   4.3s\n",
            "[CV 3/3] END colsample_bytree=0.8, gamma=1.5, max_depth=5, min_child_weight=5, subsample=0.8;, score=0.754 total time=   4.4s\n",
            "[CV 1/3] END colsample_bytree=0.8, gamma=1.5, max_depth=5, min_child_weight=5, subsample=1.0;, score=0.764 total time=   4.2s\n",
            "[CV 2/3] END colsample_bytree=0.8, gamma=1.5, max_depth=5, min_child_weight=5, subsample=1.0;, score=0.773 total time=   4.2s\n",
            "[CV 3/3] END colsample_bytree=0.8, gamma=1.5, max_depth=5, min_child_weight=5, subsample=1.0;, score=0.757 total time=   4.2s\n",
            "[CV 1/3] END colsample_bytree=0.8, gamma=1.5, max_depth=5, min_child_weight=10, subsample=0.6;, score=0.723 total time=   4.4s\n",
            "[CV 2/3] END colsample_bytree=0.8, gamma=1.5, max_depth=5, min_child_weight=10, subsample=0.6;, score=0.717 total time=   4.4s\n",
            "[CV 3/3] END colsample_bytree=0.8, gamma=1.5, max_depth=5, min_child_weight=10, subsample=0.6;, score=0.716 total time=   4.4s\n",
            "[CV 1/3] END colsample_bytree=0.8, gamma=1.5, max_depth=5, min_child_weight=10, subsample=0.8;, score=0.734 total time=   4.3s\n",
            "[CV 2/3] END colsample_bytree=0.8, gamma=1.5, max_depth=5, min_child_weight=10, subsample=0.8;, score=0.738 total time=   4.4s\n",
            "[CV 3/3] END colsample_bytree=0.8, gamma=1.5, max_depth=5, min_child_weight=10, subsample=0.8;, score=0.726 total time=   4.3s\n",
            "[CV 1/3] END colsample_bytree=0.8, gamma=1.5, max_depth=5, min_child_weight=10, subsample=1.0;, score=0.742 total time=   4.2s\n",
            "[CV 2/3] END colsample_bytree=0.8, gamma=1.5, max_depth=5, min_child_weight=10, subsample=1.0;, score=0.742 total time=   4.2s\n",
            "[CV 3/3] END colsample_bytree=0.8, gamma=1.5, max_depth=5, min_child_weight=10, subsample=1.0;, score=0.728 total time=   4.2s\n",
            "[CV 1/3] END colsample_bytree=0.8, gamma=2, max_depth=3, min_child_weight=1, subsample=0.6;, score=0.753 total time=   2.8s\n",
            "[CV 2/3] END colsample_bytree=0.8, gamma=2, max_depth=3, min_child_weight=1, subsample=0.6;, score=0.764 total time=   2.8s\n",
            "[CV 3/3] END colsample_bytree=0.8, gamma=2, max_depth=3, min_child_weight=1, subsample=0.6;, score=0.748 total time=   2.8s\n",
            "[CV 1/3] END colsample_bytree=0.8, gamma=2, max_depth=3, min_child_weight=1, subsample=0.8;, score=0.756 total time=   2.8s\n",
            "[CV 2/3] END colsample_bytree=0.8, gamma=2, max_depth=3, min_child_weight=1, subsample=0.8;, score=0.763 total time=   2.8s\n",
            "[CV 3/3] END colsample_bytree=0.8, gamma=2, max_depth=3, min_child_weight=1, subsample=0.8;, score=0.747 total time=   2.8s\n",
            "[CV 1/3] END colsample_bytree=0.8, gamma=2, max_depth=3, min_child_weight=1, subsample=1.0;, score=0.753 total time=   2.7s\n",
            "[CV 2/3] END colsample_bytree=0.8, gamma=2, max_depth=3, min_child_weight=1, subsample=1.0;, score=0.762 total time=   2.6s\n",
            "[CV 3/3] END colsample_bytree=0.8, gamma=2, max_depth=3, min_child_weight=1, subsample=1.0;, score=0.745 total time=   2.7s\n",
            "[CV 1/3] END colsample_bytree=0.8, gamma=2, max_depth=3, min_child_weight=5, subsample=0.6;, score=0.755 total time=   2.8s\n",
            "[CV 2/3] END colsample_bytree=0.8, gamma=2, max_depth=3, min_child_weight=5, subsample=0.6;, score=0.755 total time=   2.8s\n",
            "[CV 3/3] END colsample_bytree=0.8, gamma=2, max_depth=3, min_child_weight=5, subsample=0.6;, score=0.734 total time=   2.8s\n",
            "[CV 1/3] END colsample_bytree=0.8, gamma=2, max_depth=3, min_child_weight=5, subsample=0.8;, score=0.748 total time=   2.7s\n",
            "[CV 2/3] END colsample_bytree=0.8, gamma=2, max_depth=3, min_child_weight=5, subsample=0.8;, score=0.758 total time=   2.8s\n",
            "[CV 3/3] END colsample_bytree=0.8, gamma=2, max_depth=3, min_child_weight=5, subsample=0.8;, score=0.743 total time=   2.8s\n",
            "[CV 1/3] END colsample_bytree=0.8, gamma=2, max_depth=3, min_child_weight=5, subsample=1.0;, score=0.748 total time=   2.7s\n",
            "[CV 2/3] END colsample_bytree=0.8, gamma=2, max_depth=3, min_child_weight=5, subsample=1.0;, score=0.757 total time=   2.7s\n",
            "[CV 3/3] END colsample_bytree=0.8, gamma=2, max_depth=3, min_child_weight=5, subsample=1.0;, score=0.736 total time=   2.7s\n",
            "[CV 1/3] END colsample_bytree=0.8, gamma=2, max_depth=3, min_child_weight=10, subsample=0.6;, score=0.725 total time=   2.8s\n",
            "[CV 2/3] END colsample_bytree=0.8, gamma=2, max_depth=3, min_child_weight=10, subsample=0.6;, score=0.717 total time=   2.8s\n",
            "[CV 3/3] END colsample_bytree=0.8, gamma=2, max_depth=3, min_child_weight=10, subsample=0.6;, score=0.714 total time=   2.8s\n",
            "[CV 1/3] END colsample_bytree=0.8, gamma=2, max_depth=3, min_child_weight=10, subsample=0.8;, score=0.727 total time=   2.7s\n",
            "[CV 2/3] END colsample_bytree=0.8, gamma=2, max_depth=3, min_child_weight=10, subsample=0.8;, score=0.735 total time=   2.7s\n",
            "[CV 3/3] END colsample_bytree=0.8, gamma=2, max_depth=3, min_child_weight=10, subsample=0.8;, score=0.721 total time=   2.7s\n",
            "[CV 1/3] END colsample_bytree=0.8, gamma=2, max_depth=3, min_child_weight=10, subsample=1.0;, score=0.735 total time=   2.7s\n",
            "[CV 2/3] END colsample_bytree=0.8, gamma=2, max_depth=3, min_child_weight=10, subsample=1.0;, score=0.741 total time=   2.7s\n",
            "[CV 3/3] END colsample_bytree=0.8, gamma=2, max_depth=3, min_child_weight=10, subsample=1.0;, score=0.722 total time=   2.7s\n",
            "[CV 1/3] END colsample_bytree=0.8, gamma=2, max_depth=4, min_child_weight=1, subsample=0.6;, score=0.762 total time=   3.6s\n",
            "[CV 2/3] END colsample_bytree=0.8, gamma=2, max_depth=4, min_child_weight=1, subsample=0.6;, score=0.777 total time=   3.7s\n",
            "[CV 3/3] END colsample_bytree=0.8, gamma=2, max_depth=4, min_child_weight=1, subsample=0.6;, score=0.755 total time=   4.8s\n",
            "[CV 1/3] END colsample_bytree=0.8, gamma=2, max_depth=4, min_child_weight=1, subsample=0.8;, score=0.762 total time=   3.6s\n",
            "[CV 2/3] END colsample_bytree=0.8, gamma=2, max_depth=4, min_child_weight=1, subsample=0.8;, score=0.778 total time=   3.6s\n",
            "[CV 3/3] END colsample_bytree=0.8, gamma=2, max_depth=4, min_child_weight=1, subsample=0.8;, score=0.758 total time=   3.6s\n",
            "[CV 1/3] END colsample_bytree=0.8, gamma=2, max_depth=4, min_child_weight=1, subsample=1.0;, score=0.768 total time=   3.5s\n",
            "[CV 2/3] END colsample_bytree=0.8, gamma=2, max_depth=4, min_child_weight=1, subsample=1.0;, score=0.777 total time=   3.5s\n",
            "[CV 3/3] END colsample_bytree=0.8, gamma=2, max_depth=4, min_child_weight=1, subsample=1.0;, score=0.752 total time=   3.4s\n",
            "[CV 1/3] END colsample_bytree=0.8, gamma=2, max_depth=4, min_child_weight=5, subsample=0.6;, score=0.757 total time=   3.6s\n",
            "[CV 2/3] END colsample_bytree=0.8, gamma=2, max_depth=4, min_child_weight=5, subsample=0.6;, score=0.761 total time=   3.6s\n",
            "[CV 3/3] END colsample_bytree=0.8, gamma=2, max_depth=4, min_child_weight=5, subsample=0.6;, score=0.741 total time=   3.6s\n",
            "[CV 1/3] END colsample_bytree=0.8, gamma=2, max_depth=4, min_child_weight=5, subsample=0.8;, score=0.758 total time=   3.5s\n",
            "[CV 2/3] END colsample_bytree=0.8, gamma=2, max_depth=4, min_child_weight=5, subsample=0.8;, score=0.763 total time=   3.5s\n",
            "[CV 3/3] END colsample_bytree=0.8, gamma=2, max_depth=4, min_child_weight=5, subsample=0.8;, score=0.744 total time=   3.5s\n",
            "[CV 1/3] END colsample_bytree=0.8, gamma=2, max_depth=4, min_child_weight=5, subsample=1.0;, score=0.756 total time=   3.4s\n",
            "[CV 2/3] END colsample_bytree=0.8, gamma=2, max_depth=4, min_child_weight=5, subsample=1.0;, score=0.767 total time=   3.4s\n",
            "[CV 3/3] END colsample_bytree=0.8, gamma=2, max_depth=4, min_child_weight=5, subsample=1.0;, score=0.749 total time=   3.4s\n",
            "[CV 1/3] END colsample_bytree=0.8, gamma=2, max_depth=4, min_child_weight=10, subsample=0.6;, score=0.722 total time=   3.6s\n",
            "[CV 2/3] END colsample_bytree=0.8, gamma=2, max_depth=4, min_child_weight=10, subsample=0.6;, score=0.721 total time=   3.6s\n",
            "[CV 3/3] END colsample_bytree=0.8, gamma=2, max_depth=4, min_child_weight=10, subsample=0.6;, score=0.717 total time=   3.6s\n",
            "[CV 1/3] END colsample_bytree=0.8, gamma=2, max_depth=4, min_child_weight=10, subsample=0.8;, score=0.729 total time=   3.5s\n",
            "[CV 2/3] END colsample_bytree=0.8, gamma=2, max_depth=4, min_child_weight=10, subsample=0.8;, score=0.734 total time=   3.5s\n",
            "[CV 3/3] END colsample_bytree=0.8, gamma=2, max_depth=4, min_child_weight=10, subsample=0.8;, score=0.723 total time=   3.5s\n",
            "[CV 1/3] END colsample_bytree=0.8, gamma=2, max_depth=4, min_child_weight=10, subsample=1.0;, score=0.739 total time=   3.4s\n",
            "[CV 2/3] END colsample_bytree=0.8, gamma=2, max_depth=4, min_child_weight=10, subsample=1.0;, score=0.745 total time=   3.4s\n",
            "[CV 3/3] END colsample_bytree=0.8, gamma=2, max_depth=4, min_child_weight=10, subsample=1.0;, score=0.726 total time=   3.4s\n",
            "[CV 1/3] END colsample_bytree=0.8, gamma=2, max_depth=5, min_child_weight=1, subsample=0.6;, score=0.771 total time=   4.5s\n",
            "[CV 2/3] END colsample_bytree=0.8, gamma=2, max_depth=5, min_child_weight=1, subsample=0.6;, score=0.785 total time=   4.4s\n",
            "[CV 3/3] END colsample_bytree=0.8, gamma=2, max_depth=5, min_child_weight=1, subsample=0.6;, score=0.768 total time=   4.4s\n",
            "[CV 1/3] END colsample_bytree=0.8, gamma=2, max_depth=5, min_child_weight=1, subsample=0.8;, score=0.769 total time=   4.4s\n",
            "[CV 2/3] END colsample_bytree=0.8, gamma=2, max_depth=5, min_child_weight=1, subsample=0.8;, score=0.781 total time=   4.4s\n",
            "[CV 3/3] END colsample_bytree=0.8, gamma=2, max_depth=5, min_child_weight=1, subsample=0.8;, score=0.765 total time=   4.4s\n",
            "[CV 1/3] END colsample_bytree=0.8, gamma=2, max_depth=5, min_child_weight=1, subsample=1.0;, score=0.775 total time=   4.3s\n",
            "[CV 2/3] END colsample_bytree=0.8, gamma=2, max_depth=5, min_child_weight=1, subsample=1.0;, score=0.780 total time=   4.3s\n",
            "[CV 3/3] END colsample_bytree=0.8, gamma=2, max_depth=5, min_child_weight=1, subsample=1.0;, score=0.757 total time=   4.3s\n",
            "[CV 1/3] END colsample_bytree=0.8, gamma=2, max_depth=5, min_child_weight=5, subsample=0.6;, score=0.757 total time=   4.4s\n",
            "[CV 2/3] END colsample_bytree=0.8, gamma=2, max_depth=5, min_child_weight=5, subsample=0.6;, score=0.762 total time=   4.4s\n",
            "[CV 3/3] END colsample_bytree=0.8, gamma=2, max_depth=5, min_child_weight=5, subsample=0.6;, score=0.744 total time=   4.4s\n",
            "[CV 1/3] END colsample_bytree=0.8, gamma=2, max_depth=5, min_child_weight=5, subsample=0.8;, score=0.764 total time=   4.3s\n",
            "[CV 2/3] END colsample_bytree=0.8, gamma=2, max_depth=5, min_child_weight=5, subsample=0.8;, score=0.766 total time=   4.3s\n",
            "[CV 3/3] END colsample_bytree=0.8, gamma=2, max_depth=5, min_child_weight=5, subsample=0.8;, score=0.754 total time=   4.3s\n",
            "[CV 1/3] END colsample_bytree=0.8, gamma=2, max_depth=5, min_child_weight=5, subsample=1.0;, score=0.763 total time=   4.2s\n",
            "[CV 2/3] END colsample_bytree=0.8, gamma=2, max_depth=5, min_child_weight=5, subsample=1.0;, score=0.771 total time=   4.2s\n",
            "[CV 3/3] END colsample_bytree=0.8, gamma=2, max_depth=5, min_child_weight=5, subsample=1.0;, score=0.756 total time=   4.2s\n",
            "[CV 1/3] END colsample_bytree=0.8, gamma=2, max_depth=5, min_child_weight=10, subsample=0.6;, score=0.719 total time=   5.5s\n",
            "[CV 2/3] END colsample_bytree=0.8, gamma=2, max_depth=5, min_child_weight=10, subsample=0.6;, score=0.718 total time=   4.4s\n",
            "[CV 3/3] END colsample_bytree=0.8, gamma=2, max_depth=5, min_child_weight=10, subsample=0.6;, score=0.717 total time=   4.4s\n",
            "[CV 1/3] END colsample_bytree=0.8, gamma=2, max_depth=5, min_child_weight=10, subsample=0.8;, score=0.738 total time=   4.3s\n",
            "[CV 2/3] END colsample_bytree=0.8, gamma=2, max_depth=5, min_child_weight=10, subsample=0.8;, score=0.736 total time=   4.3s\n",
            "[CV 3/3] END colsample_bytree=0.8, gamma=2, max_depth=5, min_child_weight=10, subsample=0.8;, score=0.726 total time=   4.4s\n",
            "[CV 1/3] END colsample_bytree=0.8, gamma=2, max_depth=5, min_child_weight=10, subsample=1.0;, score=0.739 total time=   4.2s\n",
            "[CV 2/3] END colsample_bytree=0.8, gamma=2, max_depth=5, min_child_weight=10, subsample=1.0;, score=0.743 total time=   4.2s\n",
            "[CV 3/3] END colsample_bytree=0.8, gamma=2, max_depth=5, min_child_weight=10, subsample=1.0;, score=0.729 total time=   4.2s\n",
            "[CV 1/3] END colsample_bytree=0.8, gamma=5, max_depth=3, min_child_weight=1, subsample=0.6;, score=0.754 total time=   2.8s\n",
            "[CV 2/3] END colsample_bytree=0.8, gamma=5, max_depth=3, min_child_weight=1, subsample=0.6;, score=0.764 total time=   2.8s\n",
            "[CV 3/3] END colsample_bytree=0.8, gamma=5, max_depth=3, min_child_weight=1, subsample=0.6;, score=0.744 total time=   2.9s\n",
            "[CV 1/3] END colsample_bytree=0.8, gamma=5, max_depth=3, min_child_weight=1, subsample=0.8;, score=0.755 total time=   2.8s\n",
            "[CV 2/3] END colsample_bytree=0.8, gamma=5, max_depth=3, min_child_weight=1, subsample=0.8;, score=0.758 total time=   2.8s\n",
            "[CV 3/3] END colsample_bytree=0.8, gamma=5, max_depth=3, min_child_weight=1, subsample=0.8;, score=0.745 total time=   2.8s\n",
            "[CV 1/3] END colsample_bytree=0.8, gamma=5, max_depth=3, min_child_weight=1, subsample=1.0;, score=0.751 total time=   2.7s\n",
            "[CV 2/3] END colsample_bytree=0.8, gamma=5, max_depth=3, min_child_weight=1, subsample=1.0;, score=0.767 total time=   2.7s\n",
            "[CV 3/3] END colsample_bytree=0.8, gamma=5, max_depth=3, min_child_weight=1, subsample=1.0;, score=0.743 total time=   2.7s\n",
            "[CV 1/3] END colsample_bytree=0.8, gamma=5, max_depth=3, min_child_weight=5, subsample=0.6;, score=0.751 total time=   2.8s\n",
            "[CV 2/3] END colsample_bytree=0.8, gamma=5, max_depth=3, min_child_weight=5, subsample=0.6;, score=0.756 total time=   2.8s\n",
            "[CV 3/3] END colsample_bytree=0.8, gamma=5, max_depth=3, min_child_weight=5, subsample=0.6;, score=0.731 total time=   2.8s\n",
            "[CV 1/3] END colsample_bytree=0.8, gamma=5, max_depth=3, min_child_weight=5, subsample=0.8;, score=0.753 total time=   2.7s\n",
            "[CV 2/3] END colsample_bytree=0.8, gamma=5, max_depth=3, min_child_weight=5, subsample=0.8;, score=0.759 total time=   2.7s\n",
            "[CV 3/3] END colsample_bytree=0.8, gamma=5, max_depth=3, min_child_weight=5, subsample=0.8;, score=0.738 total time=   2.8s\n",
            "[CV 1/3] END colsample_bytree=0.8, gamma=5, max_depth=3, min_child_weight=5, subsample=1.0;, score=0.746 total time=   2.7s\n",
            "[CV 2/3] END colsample_bytree=0.8, gamma=5, max_depth=3, min_child_weight=5, subsample=1.0;, score=0.760 total time=   2.7s\n",
            "[CV 3/3] END colsample_bytree=0.8, gamma=5, max_depth=3, min_child_weight=5, subsample=1.0;, score=0.738 total time=   2.7s\n",
            "[CV 1/3] END colsample_bytree=0.8, gamma=5, max_depth=3, min_child_weight=10, subsample=0.6;, score=0.721 total time=   2.8s\n",
            "[CV 2/3] END colsample_bytree=0.8, gamma=5, max_depth=3, min_child_weight=10, subsample=0.6;, score=0.716 total time=   2.8s\n",
            "[CV 3/3] END colsample_bytree=0.8, gamma=5, max_depth=3, min_child_weight=10, subsample=0.6;, score=0.715 total time=   2.8s\n",
            "[CV 1/3] END colsample_bytree=0.8, gamma=5, max_depth=3, min_child_weight=10, subsample=0.8;, score=0.728 total time=   2.7s\n",
            "[CV 2/3] END colsample_bytree=0.8, gamma=5, max_depth=3, min_child_weight=10, subsample=0.8;, score=0.734 total time=   2.7s\n",
            "[CV 3/3] END colsample_bytree=0.8, gamma=5, max_depth=3, min_child_weight=10, subsample=0.8;, score=0.719 total time=   2.8s\n",
            "[CV 1/3] END colsample_bytree=0.8, gamma=5, max_depth=3, min_child_weight=10, subsample=1.0;, score=0.736 total time=   2.7s\n",
            "[CV 2/3] END colsample_bytree=0.8, gamma=5, max_depth=3, min_child_weight=10, subsample=1.0;, score=0.740 total time=   2.7s\n",
            "[CV 3/3] END colsample_bytree=0.8, gamma=5, max_depth=3, min_child_weight=10, subsample=1.0;, score=0.724 total time=   2.6s\n",
            "[CV 1/3] END colsample_bytree=0.8, gamma=5, max_depth=4, min_child_weight=1, subsample=0.6;, score=0.766 total time=   3.6s\n",
            "[CV 2/3] END colsample_bytree=0.8, gamma=5, max_depth=4, min_child_weight=1, subsample=0.6;, score=0.776 total time=   3.6s\n",
            "[CV 3/3] END colsample_bytree=0.8, gamma=5, max_depth=4, min_child_weight=1, subsample=0.6;, score=0.757 total time=   3.7s\n",
            "[CV 1/3] END colsample_bytree=0.8, gamma=5, max_depth=4, min_child_weight=1, subsample=0.8;, score=0.765 total time=   3.6s\n",
            "[CV 2/3] END colsample_bytree=0.8, gamma=5, max_depth=4, min_child_weight=1, subsample=0.8;, score=0.776 total time=   3.6s\n",
            "[CV 3/3] END colsample_bytree=0.8, gamma=5, max_depth=4, min_child_weight=1, subsample=0.8;, score=0.756 total time=   3.6s\n",
            "[CV 1/3] END colsample_bytree=0.8, gamma=5, max_depth=4, min_child_weight=1, subsample=1.0;, score=0.763 total time=   3.5s\n",
            "[CV 2/3] END colsample_bytree=0.8, gamma=5, max_depth=4, min_child_weight=1, subsample=1.0;, score=0.774 total time=   3.5s\n",
            "[CV 3/3] END colsample_bytree=0.8, gamma=5, max_depth=4, min_child_weight=1, subsample=1.0;, score=0.752 total time=   3.5s\n",
            "[CV 1/3] END colsample_bytree=0.8, gamma=5, max_depth=4, min_child_weight=5, subsample=0.6;, score=0.757 total time=   3.6s\n",
            "[CV 2/3] END colsample_bytree=0.8, gamma=5, max_depth=4, min_child_weight=5, subsample=0.6;, score=0.758 total time=   3.6s\n",
            "[CV 3/3] END colsample_bytree=0.8, gamma=5, max_depth=4, min_child_weight=5, subsample=0.6;, score=0.744 total time=   3.6s\n",
            "[CV 1/3] END colsample_bytree=0.8, gamma=5, max_depth=4, min_child_weight=5, subsample=0.8;, score=0.759 total time=   3.5s\n",
            "[CV 2/3] END colsample_bytree=0.8, gamma=5, max_depth=4, min_child_weight=5, subsample=0.8;, score=0.762 total time=   3.6s\n",
            "[CV 3/3] END colsample_bytree=0.8, gamma=5, max_depth=4, min_child_weight=5, subsample=0.8;, score=0.749 total time=   3.5s\n",
            "[CV 1/3] END colsample_bytree=0.8, gamma=5, max_depth=4, min_child_weight=5, subsample=1.0;, score=0.758 total time=   4.5s\n",
            "[CV 2/3] END colsample_bytree=0.8, gamma=5, max_depth=4, min_child_weight=5, subsample=1.0;, score=0.766 total time=   3.5s\n",
            "[CV 3/3] END colsample_bytree=0.8, gamma=5, max_depth=4, min_child_weight=5, subsample=1.0;, score=0.744 total time=   3.4s\n",
            "[CV 1/3] END colsample_bytree=0.8, gamma=5, max_depth=4, min_child_weight=10, subsample=0.6;, score=0.723 total time=   3.6s\n",
            "[CV 2/3] END colsample_bytree=0.8, gamma=5, max_depth=4, min_child_weight=10, subsample=0.6;, score=0.719 total time=   3.6s\n",
            "[CV 3/3] END colsample_bytree=0.8, gamma=5, max_depth=4, min_child_weight=10, subsample=0.6;, score=0.715 total time=   3.6s\n",
            "[CV 1/3] END colsample_bytree=0.8, gamma=5, max_depth=4, min_child_weight=10, subsample=0.8;, score=0.728 total time=   3.5s\n",
            "[CV 2/3] END colsample_bytree=0.8, gamma=5, max_depth=4, min_child_weight=10, subsample=0.8;, score=0.734 total time=   3.5s\n",
            "[CV 3/3] END colsample_bytree=0.8, gamma=5, max_depth=4, min_child_weight=10, subsample=0.8;, score=0.721 total time=   3.5s\n",
            "[CV 1/3] END colsample_bytree=0.8, gamma=5, max_depth=4, min_child_weight=10, subsample=1.0;, score=0.738 total time=   3.4s\n",
            "[CV 2/3] END colsample_bytree=0.8, gamma=5, max_depth=4, min_child_weight=10, subsample=1.0;, score=0.743 total time=   3.4s\n",
            "[CV 3/3] END colsample_bytree=0.8, gamma=5, max_depth=4, min_child_weight=10, subsample=1.0;, score=0.724 total time=   3.4s\n",
            "[CV 1/3] END colsample_bytree=0.8, gamma=5, max_depth=5, min_child_weight=1, subsample=0.6;, score=0.771 total time=   4.5s\n",
            "[CV 2/3] END colsample_bytree=0.8, gamma=5, max_depth=5, min_child_weight=1, subsample=0.6;, score=0.782 total time=   4.4s\n",
            "[CV 3/3] END colsample_bytree=0.8, gamma=5, max_depth=5, min_child_weight=1, subsample=0.6;, score=0.765 total time=   4.5s\n",
            "[CV 1/3] END colsample_bytree=0.8, gamma=5, max_depth=5, min_child_weight=1, subsample=0.8;, score=0.771 total time=   4.4s\n",
            "[CV 2/3] END colsample_bytree=0.8, gamma=5, max_depth=5, min_child_weight=1, subsample=0.8;, score=0.782 total time=   4.4s\n",
            "[CV 3/3] END colsample_bytree=0.8, gamma=5, max_depth=5, min_child_weight=1, subsample=0.8;, score=0.764 total time=   4.3s\n",
            "[CV 1/3] END colsample_bytree=0.8, gamma=5, max_depth=5, min_child_weight=1, subsample=1.0;, score=0.771 total time=   4.2s\n",
            "[CV 2/3] END colsample_bytree=0.8, gamma=5, max_depth=5, min_child_weight=1, subsample=1.0;, score=0.780 total time=   4.3s\n",
            "[CV 3/3] END colsample_bytree=0.8, gamma=5, max_depth=5, min_child_weight=1, subsample=1.0;, score=0.761 total time=   4.3s\n",
            "[CV 1/3] END colsample_bytree=0.8, gamma=5, max_depth=5, min_child_weight=5, subsample=0.6;, score=0.761 total time=   4.4s\n",
            "[CV 2/3] END colsample_bytree=0.8, gamma=5, max_depth=5, min_child_weight=5, subsample=0.6;, score=0.762 total time=   4.4s\n",
            "[CV 3/3] END colsample_bytree=0.8, gamma=5, max_depth=5, min_child_weight=5, subsample=0.6;, score=0.744 total time=   4.4s\n",
            "[CV 1/3] END colsample_bytree=0.8, gamma=5, max_depth=5, min_child_weight=5, subsample=0.8;, score=0.762 total time=   4.3s\n",
            "[CV 2/3] END colsample_bytree=0.8, gamma=5, max_depth=5, min_child_weight=5, subsample=0.8;, score=0.766 total time=   4.4s\n",
            "[CV 3/3] END colsample_bytree=0.8, gamma=5, max_depth=5, min_child_weight=5, subsample=0.8;, score=0.754 total time=   4.3s\n",
            "[CV 1/3] END colsample_bytree=0.8, gamma=5, max_depth=5, min_child_weight=5, subsample=1.0;, score=0.764 total time=   4.3s\n",
            "[CV 2/3] END colsample_bytree=0.8, gamma=5, max_depth=5, min_child_weight=5, subsample=1.0;, score=0.770 total time=   4.2s\n",
            "[CV 3/3] END colsample_bytree=0.8, gamma=5, max_depth=5, min_child_weight=5, subsample=1.0;, score=0.758 total time=   4.2s\n",
            "[CV 1/3] END colsample_bytree=0.8, gamma=5, max_depth=5, min_child_weight=10, subsample=0.6;, score=0.722 total time=   4.4s\n",
            "[CV 2/3] END colsample_bytree=0.8, gamma=5, max_depth=5, min_child_weight=10, subsample=0.6;, score=0.718 total time=   4.4s\n",
            "[CV 3/3] END colsample_bytree=0.8, gamma=5, max_depth=5, min_child_weight=10, subsample=0.6;, score=0.716 total time=   4.4s\n",
            "[CV 1/3] END colsample_bytree=0.8, gamma=5, max_depth=5, min_child_weight=10, subsample=0.8;, score=0.731 total time=   4.4s\n",
            "[CV 2/3] END colsample_bytree=0.8, gamma=5, max_depth=5, min_child_weight=10, subsample=0.8;, score=0.733 total time=   4.3s\n",
            "[CV 3/3] END colsample_bytree=0.8, gamma=5, max_depth=5, min_child_weight=10, subsample=0.8;, score=0.722 total time=   4.3s\n",
            "[CV 1/3] END colsample_bytree=0.8, gamma=5, max_depth=5, min_child_weight=10, subsample=1.0;, score=0.738 total time=   4.2s\n",
            "[CV 2/3] END colsample_bytree=0.8, gamma=5, max_depth=5, min_child_weight=10, subsample=1.0;, score=0.742 total time=   4.2s\n",
            "[CV 3/3] END colsample_bytree=0.8, gamma=5, max_depth=5, min_child_weight=10, subsample=1.0;, score=0.727 total time=   4.2s\n",
            "[CV 1/3] END colsample_bytree=1.0, gamma=0.5, max_depth=3, min_child_weight=1, subsample=0.6;, score=0.757 total time=   3.2s\n",
            "[CV 2/3] END colsample_bytree=1.0, gamma=0.5, max_depth=3, min_child_weight=1, subsample=0.6;, score=0.766 total time=   3.2s\n",
            "[CV 3/3] END colsample_bytree=1.0, gamma=0.5, max_depth=3, min_child_weight=1, subsample=0.6;, score=0.748 total time=   3.2s\n",
            "[CV 1/3] END colsample_bytree=1.0, gamma=0.5, max_depth=3, min_child_weight=1, subsample=0.8;, score=0.756 total time=   3.2s\n",
            "[CV 2/3] END colsample_bytree=1.0, gamma=0.5, max_depth=3, min_child_weight=1, subsample=0.8;, score=0.765 total time=   4.3s\n",
            "[CV 3/3] END colsample_bytree=1.0, gamma=0.5, max_depth=3, min_child_weight=1, subsample=0.8;, score=0.747 total time=   3.2s\n",
            "[CV 1/3] END colsample_bytree=1.0, gamma=0.5, max_depth=3, min_child_weight=1, subsample=1.0;, score=0.754 total time=   3.1s\n",
            "[CV 2/3] END colsample_bytree=1.0, gamma=0.5, max_depth=3, min_child_weight=1, subsample=1.0;, score=0.768 total time=   3.0s\n",
            "[CV 3/3] END colsample_bytree=1.0, gamma=0.5, max_depth=3, min_child_weight=1, subsample=1.0;, score=0.741 total time=   3.1s\n",
            "[CV 1/3] END colsample_bytree=1.0, gamma=0.5, max_depth=3, min_child_weight=5, subsample=0.6;, score=0.750 total time=   3.2s\n",
            "[CV 2/3] END colsample_bytree=1.0, gamma=0.5, max_depth=3, min_child_weight=5, subsample=0.6;, score=0.756 total time=   3.2s\n",
            "[CV 3/3] END colsample_bytree=1.0, gamma=0.5, max_depth=3, min_child_weight=5, subsample=0.6;, score=0.731 total time=   3.2s\n",
            "[CV 1/3] END colsample_bytree=1.0, gamma=0.5, max_depth=3, min_child_weight=5, subsample=0.8;, score=0.751 total time=   3.1s\n",
            "[CV 2/3] END colsample_bytree=1.0, gamma=0.5, max_depth=3, min_child_weight=5, subsample=0.8;, score=0.757 total time=   3.1s\n",
            "[CV 3/3] END colsample_bytree=1.0, gamma=0.5, max_depth=3, min_child_weight=5, subsample=0.8;, score=0.747 total time=   3.1s\n",
            "[CV 1/3] END colsample_bytree=1.0, gamma=0.5, max_depth=3, min_child_weight=5, subsample=1.0;, score=0.749 total time=   3.0s\n",
            "[CV 2/3] END colsample_bytree=1.0, gamma=0.5, max_depth=3, min_child_weight=5, subsample=1.0;, score=0.761 total time=   3.0s\n",
            "[CV 3/3] END colsample_bytree=1.0, gamma=0.5, max_depth=3, min_child_weight=5, subsample=1.0;, score=0.736 total time=   3.0s\n",
            "[CV 1/3] END colsample_bytree=1.0, gamma=0.5, max_depth=3, min_child_weight=10, subsample=0.6;, score=0.719 total time=   3.2s\n",
            "[CV 2/3] END colsample_bytree=1.0, gamma=0.5, max_depth=3, min_child_weight=10, subsample=0.6;, score=0.721 total time=   3.2s\n",
            "[CV 3/3] END colsample_bytree=1.0, gamma=0.5, max_depth=3, min_child_weight=10, subsample=0.6;, score=0.714 total time=   3.2s\n",
            "[CV 1/3] END colsample_bytree=1.0, gamma=0.5, max_depth=3, min_child_weight=10, subsample=0.8;, score=0.729 total time=   3.1s\n",
            "[CV 2/3] END colsample_bytree=1.0, gamma=0.5, max_depth=3, min_child_weight=10, subsample=0.8;, score=0.736 total time=   3.1s\n",
            "[CV 3/3] END colsample_bytree=1.0, gamma=0.5, max_depth=3, min_child_weight=10, subsample=0.8;, score=0.720 total time=   3.1s\n",
            "[CV 1/3] END colsample_bytree=1.0, gamma=0.5, max_depth=3, min_child_weight=10, subsample=1.0;, score=0.736 total time=   3.0s\n",
            "[CV 2/3] END colsample_bytree=1.0, gamma=0.5, max_depth=3, min_child_weight=10, subsample=1.0;, score=0.741 total time=   3.0s\n",
            "[CV 3/3] END colsample_bytree=1.0, gamma=0.5, max_depth=3, min_child_weight=10, subsample=1.0;, score=0.724 total time=   3.0s\n",
            "[CV 1/3] END colsample_bytree=1.0, gamma=0.5, max_depth=4, min_child_weight=1, subsample=0.6;, score=0.763 total time=   4.2s\n",
            "[CV 2/3] END colsample_bytree=1.0, gamma=0.5, max_depth=4, min_child_weight=1, subsample=0.6;, score=0.775 total time=   4.2s\n",
            "[CV 3/3] END colsample_bytree=1.0, gamma=0.5, max_depth=4, min_child_weight=1, subsample=0.6;, score=0.758 total time=   4.2s\n",
            "[CV 1/3] END colsample_bytree=1.0, gamma=0.5, max_depth=4, min_child_weight=1, subsample=0.8;, score=0.765 total time=   4.2s\n",
            "[CV 2/3] END colsample_bytree=1.0, gamma=0.5, max_depth=4, min_child_weight=1, subsample=0.8;, score=0.776 total time=   4.1s\n",
            "[CV 3/3] END colsample_bytree=1.0, gamma=0.5, max_depth=4, min_child_weight=1, subsample=0.8;, score=0.759 total time=   4.2s\n",
            "[CV 1/3] END colsample_bytree=1.0, gamma=0.5, max_depth=4, min_child_weight=1, subsample=1.0;, score=0.761 total time=   4.0s\n",
            "[CV 2/3] END colsample_bytree=1.0, gamma=0.5, max_depth=4, min_child_weight=1, subsample=1.0;, score=0.776 total time=   4.0s\n",
            "[CV 3/3] END colsample_bytree=1.0, gamma=0.5, max_depth=4, min_child_weight=1, subsample=1.0;, score=0.756 total time=   4.0s\n",
            "[CV 1/3] END colsample_bytree=1.0, gamma=0.5, max_depth=4, min_child_weight=5, subsample=0.6;, score=0.756 total time=   4.2s\n",
            "[CV 2/3] END colsample_bytree=1.0, gamma=0.5, max_depth=4, min_child_weight=5, subsample=0.6;, score=0.763 total time=   4.1s\n",
            "[CV 3/3] END colsample_bytree=1.0, gamma=0.5, max_depth=4, min_child_weight=5, subsample=0.6;, score=0.743 total time=   4.2s\n",
            "[CV 1/3] END colsample_bytree=1.0, gamma=0.5, max_depth=4, min_child_weight=5, subsample=0.8;, score=0.759 total time=   4.2s\n",
            "[CV 2/3] END colsample_bytree=1.0, gamma=0.5, max_depth=4, min_child_weight=5, subsample=0.8;, score=0.761 total time=   4.1s\n",
            "[CV 3/3] END colsample_bytree=1.0, gamma=0.5, max_depth=4, min_child_weight=5, subsample=0.8;, score=0.751 total time=   4.1s\n",
            "[CV 1/3] END colsample_bytree=1.0, gamma=0.5, max_depth=4, min_child_weight=5, subsample=1.0;, score=0.759 total time=   4.0s\n",
            "[CV 2/3] END colsample_bytree=1.0, gamma=0.5, max_depth=4, min_child_weight=5, subsample=1.0;, score=0.768 total time=   4.0s\n",
            "[CV 3/3] END colsample_bytree=1.0, gamma=0.5, max_depth=4, min_child_weight=5, subsample=1.0;, score=0.744 total time=   4.0s\n",
            "[CV 1/3] END colsample_bytree=1.0, gamma=0.5, max_depth=4, min_child_weight=10, subsample=0.6;, score=0.722 total time=   4.2s\n",
            "[CV 2/3] END colsample_bytree=1.0, gamma=0.5, max_depth=4, min_child_weight=10, subsample=0.6;, score=0.720 total time=   4.2s\n",
            "[CV 3/3] END colsample_bytree=1.0, gamma=0.5, max_depth=4, min_child_weight=10, subsample=0.6;, score=0.718 total time=   4.2s\n",
            "[CV 1/3] END colsample_bytree=1.0, gamma=0.5, max_depth=4, min_child_weight=10, subsample=0.8;, score=0.730 total time=   4.1s\n",
            "[CV 2/3] END colsample_bytree=1.0, gamma=0.5, max_depth=4, min_child_weight=10, subsample=0.8;, score=0.736 total time=   4.1s\n",
            "[CV 3/3] END colsample_bytree=1.0, gamma=0.5, max_depth=4, min_child_weight=10, subsample=0.8;, score=0.723 total time=   4.1s\n",
            "[CV 1/3] END colsample_bytree=1.0, gamma=0.5, max_depth=4, min_child_weight=10, subsample=1.0;, score=0.738 total time=   5.1s\n",
            "[CV 2/3] END colsample_bytree=1.0, gamma=0.5, max_depth=4, min_child_weight=10, subsample=1.0;, score=0.742 total time=   4.0s\n",
            "[CV 3/3] END colsample_bytree=1.0, gamma=0.5, max_depth=4, min_child_weight=10, subsample=1.0;, score=0.726 total time=   4.0s\n",
            "[CV 1/3] END colsample_bytree=1.0, gamma=0.5, max_depth=5, min_child_weight=1, subsample=0.6;, score=0.771 total time=   5.2s\n",
            "[CV 2/3] END colsample_bytree=1.0, gamma=0.5, max_depth=5, min_child_weight=1, subsample=0.6;, score=0.783 total time=   5.2s\n",
            "[CV 3/3] END colsample_bytree=1.0, gamma=0.5, max_depth=5, min_child_weight=1, subsample=0.6;, score=0.766 total time=   5.2s\n",
            "[CV 1/3] END colsample_bytree=1.0, gamma=0.5, max_depth=5, min_child_weight=1, subsample=0.8;, score=0.774 total time=   5.1s\n",
            "[CV 2/3] END colsample_bytree=1.0, gamma=0.5, max_depth=5, min_child_weight=1, subsample=0.8;, score=0.785 total time=   5.2s\n",
            "[CV 3/3] END colsample_bytree=1.0, gamma=0.5, max_depth=5, min_child_weight=1, subsample=0.8;, score=0.768 total time=   5.2s\n",
            "[CV 1/3] END colsample_bytree=1.0, gamma=0.5, max_depth=5, min_child_weight=1, subsample=1.0;, score=0.772 total time=   5.0s\n",
            "[CV 2/3] END colsample_bytree=1.0, gamma=0.5, max_depth=5, min_child_weight=1, subsample=1.0;, score=0.782 total time=   5.0s\n",
            "[CV 3/3] END colsample_bytree=1.0, gamma=0.5, max_depth=5, min_child_weight=1, subsample=1.0;, score=0.761 total time=   5.0s\n",
            "[CV 1/3] END colsample_bytree=1.0, gamma=0.5, max_depth=5, min_child_weight=5, subsample=0.6;, score=0.753 total time=   5.1s\n",
            "[CV 2/3] END colsample_bytree=1.0, gamma=0.5, max_depth=5, min_child_weight=5, subsample=0.6;, score=0.762 total time=   5.2s\n",
            "[CV 3/3] END colsample_bytree=1.0, gamma=0.5, max_depth=5, min_child_weight=5, subsample=0.6;, score=0.746 total time=   5.1s\n",
            "[CV 1/3] END colsample_bytree=1.0, gamma=0.5, max_depth=5, min_child_weight=5, subsample=0.8;, score=0.763 total time=   5.1s\n",
            "[CV 2/3] END colsample_bytree=1.0, gamma=0.5, max_depth=5, min_child_weight=5, subsample=0.8;, score=0.767 total time=   5.1s\n",
            "[CV 3/3] END colsample_bytree=1.0, gamma=0.5, max_depth=5, min_child_weight=5, subsample=0.8;, score=0.754 total time=   5.1s\n",
            "[CV 1/3] END colsample_bytree=1.0, gamma=0.5, max_depth=5, min_child_weight=5, subsample=1.0;, score=0.766 total time=   4.9s\n",
            "[CV 2/3] END colsample_bytree=1.0, gamma=0.5, max_depth=5, min_child_weight=5, subsample=1.0;, score=0.770 total time=   4.9s\n",
            "[CV 3/3] END colsample_bytree=1.0, gamma=0.5, max_depth=5, min_child_weight=5, subsample=1.0;, score=0.756 total time=   4.9s\n",
            "[CV 1/3] END colsample_bytree=1.0, gamma=0.5, max_depth=5, min_child_weight=10, subsample=0.6;, score=0.719 total time=   5.2s\n",
            "[CV 2/3] END colsample_bytree=1.0, gamma=0.5, max_depth=5, min_child_weight=10, subsample=0.6;, score=0.720 total time=   5.2s\n",
            "[CV 3/3] END colsample_bytree=1.0, gamma=0.5, max_depth=5, min_child_weight=10, subsample=0.6;, score=0.719 total time=   5.1s\n",
            "[CV 1/3] END colsample_bytree=1.0, gamma=0.5, max_depth=5, min_child_weight=10, subsample=0.8;, score=0.737 total time=   5.0s\n",
            "[CV 2/3] END colsample_bytree=1.0, gamma=0.5, max_depth=5, min_child_weight=10, subsample=0.8;, score=0.737 total time=   5.1s\n",
            "[CV 3/3] END colsample_bytree=1.0, gamma=0.5, max_depth=5, min_child_weight=10, subsample=0.8;, score=0.728 total time=   5.1s\n",
            "[CV 1/3] END colsample_bytree=1.0, gamma=0.5, max_depth=5, min_child_weight=10, subsample=1.0;, score=0.741 total time=   4.9s\n",
            "[CV 2/3] END colsample_bytree=1.0, gamma=0.5, max_depth=5, min_child_weight=10, subsample=1.0;, score=0.740 total time=   4.9s\n",
            "[CV 3/3] END colsample_bytree=1.0, gamma=0.5, max_depth=5, min_child_weight=10, subsample=1.0;, score=0.731 total time=   4.9s\n",
            "[CV 1/3] END colsample_bytree=1.0, gamma=1, max_depth=3, min_child_weight=1, subsample=0.6;, score=0.756 total time=   3.2s\n",
            "[CV 2/3] END colsample_bytree=1.0, gamma=1, max_depth=3, min_child_weight=1, subsample=0.6;, score=0.766 total time=   3.2s\n",
            "[CV 3/3] END colsample_bytree=1.0, gamma=1, max_depth=3, min_child_weight=1, subsample=0.6;, score=0.748 total time=   3.2s\n",
            "[CV 1/3] END colsample_bytree=1.0, gamma=1, max_depth=3, min_child_weight=1, subsample=0.8;, score=0.754 total time=   3.1s\n",
            "[CV 2/3] END colsample_bytree=1.0, gamma=1, max_depth=3, min_child_weight=1, subsample=0.8;, score=0.762 total time=   3.1s\n",
            "[CV 3/3] END colsample_bytree=1.0, gamma=1, max_depth=3, min_child_weight=1, subsample=0.8;, score=0.749 total time=   3.2s\n",
            "[CV 1/3] END colsample_bytree=1.0, gamma=1, max_depth=3, min_child_weight=1, subsample=1.0;, score=0.751 total time=   3.0s\n",
            "[CV 2/3] END colsample_bytree=1.0, gamma=1, max_depth=3, min_child_weight=1, subsample=1.0;, score=0.767 total time=   3.6s\n",
            "[CV 3/3] END colsample_bytree=1.0, gamma=1, max_depth=3, min_child_weight=1, subsample=1.0;, score=0.743 total time=   3.7s\n",
            "[CV 1/3] END colsample_bytree=1.0, gamma=1, max_depth=3, min_child_weight=5, subsample=0.6;, score=0.749 total time=   3.2s\n",
            "[CV 2/3] END colsample_bytree=1.0, gamma=1, max_depth=3, min_child_weight=5, subsample=0.6;, score=0.756 total time=   3.1s\n",
            "[CV 3/3] END colsample_bytree=1.0, gamma=1, max_depth=3, min_child_weight=5, subsample=0.6;, score=0.732 total time=   3.2s\n",
            "[CV 1/3] END colsample_bytree=1.0, gamma=1, max_depth=3, min_child_weight=5, subsample=0.8;, score=0.754 total time=   3.1s\n",
            "[CV 2/3] END colsample_bytree=1.0, gamma=1, max_depth=3, min_child_weight=5, subsample=0.8;, score=0.757 total time=   3.2s\n",
            "[CV 3/3] END colsample_bytree=1.0, gamma=1, max_depth=3, min_child_weight=5, subsample=0.8;, score=0.741 total time=   3.1s\n",
            "[CV 1/3] END colsample_bytree=1.0, gamma=1, max_depth=3, min_child_weight=5, subsample=1.0;, score=0.750 total time=   3.0s\n",
            "[CV 2/3] END colsample_bytree=1.0, gamma=1, max_depth=3, min_child_weight=5, subsample=1.0;, score=0.761 total time=   3.0s\n",
            "[CV 3/3] END colsample_bytree=1.0, gamma=1, max_depth=3, min_child_weight=5, subsample=1.0;, score=0.737 total time=   3.0s\n",
            "[CV 1/3] END colsample_bytree=1.0, gamma=1, max_depth=3, min_child_weight=10, subsample=0.6;, score=0.719 total time=   3.2s\n",
            "[CV 2/3] END colsample_bytree=1.0, gamma=1, max_depth=3, min_child_weight=10, subsample=0.6;, score=0.719 total time=   3.2s\n",
            "[CV 3/3] END colsample_bytree=1.0, gamma=1, max_depth=3, min_child_weight=10, subsample=0.6;, score=0.714 total time=   3.2s\n",
            "[CV 1/3] END colsample_bytree=1.0, gamma=1, max_depth=3, min_child_weight=10, subsample=0.8;, score=0.731 total time=   3.1s\n",
            "[CV 2/3] END colsample_bytree=1.0, gamma=1, max_depth=3, min_child_weight=10, subsample=0.8;, score=0.737 total time=   3.1s\n",
            "[CV 3/3] END colsample_bytree=1.0, gamma=1, max_depth=3, min_child_weight=10, subsample=0.8;, score=0.719 total time=   3.1s\n",
            "[CV 1/3] END colsample_bytree=1.0, gamma=1, max_depth=3, min_child_weight=10, subsample=1.0;, score=0.734 total time=   3.0s\n",
            "[CV 2/3] END colsample_bytree=1.0, gamma=1, max_depth=3, min_child_weight=10, subsample=1.0;, score=0.742 total time=   3.0s\n",
            "[CV 3/3] END colsample_bytree=1.0, gamma=1, max_depth=3, min_child_weight=10, subsample=1.0;, score=0.724 total time=   3.0s\n",
            "[CV 1/3] END colsample_bytree=1.0, gamma=1, max_depth=4, min_child_weight=1, subsample=0.6;, score=0.764 total time=   4.2s\n",
            "[CV 2/3] END colsample_bytree=1.0, gamma=1, max_depth=4, min_child_weight=1, subsample=0.6;, score=0.778 total time=   4.2s\n",
            "[CV 3/3] END colsample_bytree=1.0, gamma=1, max_depth=4, min_child_weight=1, subsample=0.6;, score=0.759 total time=   4.2s\n",
            "[CV 1/3] END colsample_bytree=1.0, gamma=1, max_depth=4, min_child_weight=1, subsample=0.8;, score=0.765 total time=   4.1s\n",
            "[CV 2/3] END colsample_bytree=1.0, gamma=1, max_depth=4, min_child_weight=1, subsample=0.8;, score=0.779 total time=   4.1s\n",
            "[CV 3/3] END colsample_bytree=1.0, gamma=1, max_depth=4, min_child_weight=1, subsample=0.8;, score=0.759 total time=   4.1s\n",
            "[CV 1/3] END colsample_bytree=1.0, gamma=1, max_depth=4, min_child_weight=1, subsample=1.0;, score=0.763 total time=   4.0s\n",
            "[CV 2/3] END colsample_bytree=1.0, gamma=1, max_depth=4, min_child_weight=1, subsample=1.0;, score=0.779 total time=   4.0s\n",
            "[CV 3/3] END colsample_bytree=1.0, gamma=1, max_depth=4, min_child_weight=1, subsample=1.0;, score=0.754 total time=   4.0s\n",
            "[CV 1/3] END colsample_bytree=1.0, gamma=1, max_depth=4, min_child_weight=5, subsample=0.6;, score=0.756 total time=   4.1s\n",
            "[CV 2/3] END colsample_bytree=1.0, gamma=1, max_depth=4, min_child_weight=5, subsample=0.6;, score=0.761 total time=   4.2s\n",
            "[CV 3/3] END colsample_bytree=1.0, gamma=1, max_depth=4, min_child_weight=5, subsample=0.6;, score=0.744 total time=   4.2s\n",
            "[CV 1/3] END colsample_bytree=1.0, gamma=1, max_depth=4, min_child_weight=5, subsample=0.8;, score=0.761 total time=   4.1s\n",
            "[CV 2/3] END colsample_bytree=1.0, gamma=1, max_depth=4, min_child_weight=5, subsample=0.8;, score=0.762 total time=   4.1s\n",
            "[CV 3/3] END colsample_bytree=1.0, gamma=1, max_depth=4, min_child_weight=5, subsample=0.8;, score=0.747 total time=   4.1s\n",
            "[CV 1/3] END colsample_bytree=1.0, gamma=1, max_depth=4, min_child_weight=5, subsample=1.0;, score=0.757 total time=   3.9s\n",
            "[CV 2/3] END colsample_bytree=1.0, gamma=1, max_depth=4, min_child_weight=5, subsample=1.0;, score=0.767 total time=   3.9s\n",
            "[CV 3/3] END colsample_bytree=1.0, gamma=1, max_depth=4, min_child_weight=5, subsample=1.0;, score=0.745 total time=   4.0s\n",
            "[CV 1/3] END colsample_bytree=1.0, gamma=1, max_depth=4, min_child_weight=10, subsample=0.6;, score=0.723 total time=   4.2s\n",
            "[CV 2/3] END colsample_bytree=1.0, gamma=1, max_depth=4, min_child_weight=10, subsample=0.6;, score=0.719 total time=   4.2s\n",
            "[CV 3/3] END colsample_bytree=1.0, gamma=1, max_depth=4, min_child_weight=10, subsample=0.6;, score=0.716 total time=   4.1s\n",
            "[CV 1/3] END colsample_bytree=1.0, gamma=1, max_depth=4, min_child_weight=10, subsample=0.8;, score=0.731 total time=   4.1s\n",
            "[CV 2/3] END colsample_bytree=1.0, gamma=1, max_depth=4, min_child_weight=10, subsample=0.8;, score=0.735 total time=   4.1s\n",
            "[CV 3/3] END colsample_bytree=1.0, gamma=1, max_depth=4, min_child_weight=10, subsample=0.8;, score=0.723 total time=   4.0s\n",
            "[CV 1/3] END colsample_bytree=1.0, gamma=1, max_depth=4, min_child_weight=10, subsample=1.0;, score=0.738 total time=   4.0s\n",
            "[CV 2/3] END colsample_bytree=1.0, gamma=1, max_depth=4, min_child_weight=10, subsample=1.0;, score=0.743 total time=   4.0s\n",
            "[CV 3/3] END colsample_bytree=1.0, gamma=1, max_depth=4, min_child_weight=10, subsample=1.0;, score=0.726 total time=   3.9s\n",
            "[CV 1/3] END colsample_bytree=1.0, gamma=1, max_depth=5, min_child_weight=1, subsample=0.6;, score=0.771 total time=   5.2s\n",
            "[CV 2/3] END colsample_bytree=1.0, gamma=1, max_depth=5, min_child_weight=1, subsample=0.6;, score=0.784 total time=   6.4s\n",
            "[CV 3/3] END colsample_bytree=1.0, gamma=1, max_depth=5, min_child_weight=1, subsample=0.6;, score=0.764 total time=   5.2s\n",
            "[CV 1/3] END colsample_bytree=1.0, gamma=1, max_depth=5, min_child_weight=1, subsample=0.8;, score=0.773 total time=   5.2s\n",
            "[CV 2/3] END colsample_bytree=1.0, gamma=1, max_depth=5, min_child_weight=1, subsample=0.8;, score=0.784 total time=   5.1s\n",
            "[CV 3/3] END colsample_bytree=1.0, gamma=1, max_depth=5, min_child_weight=1, subsample=0.8;, score=0.767 total time=   5.2s\n",
            "[CV 1/3] END colsample_bytree=1.0, gamma=1, max_depth=5, min_child_weight=1, subsample=1.0;, score=0.776 total time=   5.0s\n",
            "[CV 2/3] END colsample_bytree=1.0, gamma=1, max_depth=5, min_child_weight=1, subsample=1.0;, score=0.785 total time=   5.0s\n",
            "[CV 3/3] END colsample_bytree=1.0, gamma=1, max_depth=5, min_child_weight=1, subsample=1.0;, score=0.760 total time=   4.9s\n",
            "[CV 1/3] END colsample_bytree=1.0, gamma=1, max_depth=5, min_child_weight=5, subsample=0.6;, score=0.755 total time=   5.1s\n",
            "[CV 2/3] END colsample_bytree=1.0, gamma=1, max_depth=5, min_child_weight=5, subsample=0.6;, score=0.761 total time=   5.1s\n",
            "[CV 3/3] END colsample_bytree=1.0, gamma=1, max_depth=5, min_child_weight=5, subsample=0.6;, score=0.745 total time=   5.2s\n",
            "[CV 1/3] END colsample_bytree=1.0, gamma=1, max_depth=5, min_child_weight=5, subsample=0.8;, score=0.763 total time=   5.0s\n",
            "[CV 2/3] END colsample_bytree=1.0, gamma=1, max_depth=5, min_child_weight=5, subsample=0.8;, score=0.767 total time=   5.1s\n",
            "[CV 3/3] END colsample_bytree=1.0, gamma=1, max_depth=5, min_child_weight=5, subsample=0.8;, score=0.755 total time=   5.1s\n",
            "[CV 1/3] END colsample_bytree=1.0, gamma=1, max_depth=5, min_child_weight=5, subsample=1.0;, score=0.765 total time=   4.9s\n",
            "[CV 2/3] END colsample_bytree=1.0, gamma=1, max_depth=5, min_child_weight=5, subsample=1.0;, score=0.774 total time=   4.9s\n",
            "[CV 3/3] END colsample_bytree=1.0, gamma=1, max_depth=5, min_child_weight=5, subsample=1.0;, score=0.754 total time=   5.0s\n",
            "[CV 1/3] END colsample_bytree=1.0, gamma=1, max_depth=5, min_child_weight=10, subsample=0.6;, score=0.720 total time=   5.1s\n",
            "[CV 2/3] END colsample_bytree=1.0, gamma=1, max_depth=5, min_child_weight=10, subsample=0.6;, score=0.716 total time=   5.2s\n",
            "[CV 3/3] END colsample_bytree=1.0, gamma=1, max_depth=5, min_child_weight=10, subsample=0.6;, score=0.719 total time=   5.2s\n",
            "[CV 1/3] END colsample_bytree=1.0, gamma=1, max_depth=5, min_child_weight=10, subsample=0.8;, score=0.736 total time=   5.1s\n",
            "[CV 2/3] END colsample_bytree=1.0, gamma=1, max_depth=5, min_child_weight=10, subsample=0.8;, score=0.736 total time=   5.1s\n",
            "[CV 3/3] END colsample_bytree=1.0, gamma=1, max_depth=5, min_child_weight=10, subsample=0.8;, score=0.726 total time=   5.0s\n",
            "[CV 1/3] END colsample_bytree=1.0, gamma=1, max_depth=5, min_child_weight=10, subsample=1.0;, score=0.739 total time=   4.9s\n",
            "[CV 2/3] END colsample_bytree=1.0, gamma=1, max_depth=5, min_child_weight=10, subsample=1.0;, score=0.741 total time=   4.9s\n",
            "[CV 3/3] END colsample_bytree=1.0, gamma=1, max_depth=5, min_child_weight=10, subsample=1.0;, score=0.728 total time=   4.9s\n",
            "[CV 1/3] END colsample_bytree=1.0, gamma=1.5, max_depth=3, min_child_weight=1, subsample=0.6;, score=0.755 total time=   3.2s\n",
            "[CV 2/3] END colsample_bytree=1.0, gamma=1.5, max_depth=3, min_child_weight=1, subsample=0.6;, score=0.765 total time=   3.2s\n",
            "[CV 3/3] END colsample_bytree=1.0, gamma=1.5, max_depth=3, min_child_weight=1, subsample=0.6;, score=0.750 total time=   3.2s\n",
            "[CV 1/3] END colsample_bytree=1.0, gamma=1.5, max_depth=3, min_child_weight=1, subsample=0.8;, score=0.754 total time=   3.1s\n",
            "[CV 2/3] END colsample_bytree=1.0, gamma=1.5, max_depth=3, min_child_weight=1, subsample=0.8;, score=0.764 total time=   3.1s\n",
            "[CV 3/3] END colsample_bytree=1.0, gamma=1.5, max_depth=3, min_child_weight=1, subsample=0.8;, score=0.744 total time=   3.1s\n",
            "[CV 1/3] END colsample_bytree=1.0, gamma=1.5, max_depth=3, min_child_weight=1, subsample=1.0;, score=0.751 total time=   3.0s\n",
            "[CV 2/3] END colsample_bytree=1.0, gamma=1.5, max_depth=3, min_child_weight=1, subsample=1.0;, score=0.768 total time=   3.1s\n",
            "[CV 3/3] END colsample_bytree=1.0, gamma=1.5, max_depth=3, min_child_weight=1, subsample=1.0;, score=0.745 total time=   3.0s\n",
            "[CV 1/3] END colsample_bytree=1.0, gamma=1.5, max_depth=3, min_child_weight=5, subsample=0.6;, score=0.749 total time=   3.2s\n",
            "[CV 2/3] END colsample_bytree=1.0, gamma=1.5, max_depth=3, min_child_weight=5, subsample=0.6;, score=0.757 total time=   3.2s\n",
            "[CV 3/3] END colsample_bytree=1.0, gamma=1.5, max_depth=3, min_child_weight=5, subsample=0.6;, score=0.732 total time=   3.2s\n",
            "[CV 1/3] END colsample_bytree=1.0, gamma=1.5, max_depth=3, min_child_weight=5, subsample=0.8;, score=0.754 total time=   3.1s\n",
            "[CV 2/3] END colsample_bytree=1.0, gamma=1.5, max_depth=3, min_child_weight=5, subsample=0.8;, score=0.756 total time=   3.1s\n",
            "[CV 3/3] END colsample_bytree=1.0, gamma=1.5, max_depth=3, min_child_weight=5, subsample=0.8;, score=0.739 total time=   4.3s\n",
            "[CV 1/3] END colsample_bytree=1.0, gamma=1.5, max_depth=3, min_child_weight=5, subsample=1.0;, score=0.751 total time=   3.0s\n",
            "[CV 2/3] END colsample_bytree=1.0, gamma=1.5, max_depth=3, min_child_weight=5, subsample=1.0;, score=0.761 total time=   3.0s\n",
            "[CV 3/3] END colsample_bytree=1.0, gamma=1.5, max_depth=3, min_child_weight=5, subsample=1.0;, score=0.735 total time=   3.0s\n",
            "[CV 1/3] END colsample_bytree=1.0, gamma=1.5, max_depth=3, min_child_weight=10, subsample=0.6;, score=0.719 total time=   3.1s\n",
            "[CV 2/3] END colsample_bytree=1.0, gamma=1.5, max_depth=3, min_child_weight=10, subsample=0.6;, score=0.719 total time=   3.2s\n",
            "[CV 3/3] END colsample_bytree=1.0, gamma=1.5, max_depth=3, min_child_weight=10, subsample=0.6;, score=0.714 total time=   3.2s\n",
            "[CV 1/3] END colsample_bytree=1.0, gamma=1.5, max_depth=3, min_child_weight=10, subsample=0.8;, score=0.729 total time=   3.1s\n",
            "[CV 2/3] END colsample_bytree=1.0, gamma=1.5, max_depth=3, min_child_weight=10, subsample=0.8;, score=0.737 total time=   3.1s\n",
            "[CV 3/3] END colsample_bytree=1.0, gamma=1.5, max_depth=3, min_child_weight=10, subsample=0.8;, score=0.720 total time=   3.1s\n",
            "[CV 1/3] END colsample_bytree=1.0, gamma=1.5, max_depth=3, min_child_weight=10, subsample=1.0;, score=0.736 total time=   3.0s\n",
            "[CV 2/3] END colsample_bytree=1.0, gamma=1.5, max_depth=3, min_child_weight=10, subsample=1.0;, score=0.741 total time=   3.0s\n",
            "[CV 3/3] END colsample_bytree=1.0, gamma=1.5, max_depth=3, min_child_weight=10, subsample=1.0;, score=0.723 total time=   3.0s\n",
            "[CV 1/3] END colsample_bytree=1.0, gamma=1.5, max_depth=4, min_child_weight=1, subsample=0.6;, score=0.766 total time=   4.2s\n",
            "[CV 2/3] END colsample_bytree=1.0, gamma=1.5, max_depth=4, min_child_weight=1, subsample=0.6;, score=0.775 total time=   4.2s\n",
            "[CV 3/3] END colsample_bytree=1.0, gamma=1.5, max_depth=4, min_child_weight=1, subsample=0.6;, score=0.757 total time=   4.2s\n",
            "[CV 1/3] END colsample_bytree=1.0, gamma=1.5, max_depth=4, min_child_weight=1, subsample=0.8;, score=0.766 total time=   4.1s\n",
            "[CV 2/3] END colsample_bytree=1.0, gamma=1.5, max_depth=4, min_child_weight=1, subsample=0.8;, score=0.781 total time=   4.1s\n",
            "[CV 3/3] END colsample_bytree=1.0, gamma=1.5, max_depth=4, min_child_weight=1, subsample=0.8;, score=0.759 total time=   4.1s\n",
            "[CV 1/3] END colsample_bytree=1.0, gamma=1.5, max_depth=4, min_child_weight=1, subsample=1.0;, score=0.762 total time=   4.0s\n",
            "[CV 2/3] END colsample_bytree=1.0, gamma=1.5, max_depth=4, min_child_weight=1, subsample=1.0;, score=0.779 total time=   4.0s\n",
            "[CV 3/3] END colsample_bytree=1.0, gamma=1.5, max_depth=4, min_child_weight=1, subsample=1.0;, score=0.757 total time=   4.0s\n",
            "[CV 1/3] END colsample_bytree=1.0, gamma=1.5, max_depth=4, min_child_weight=5, subsample=0.6;, score=0.754 total time=   4.2s\n",
            "[CV 2/3] END colsample_bytree=1.0, gamma=1.5, max_depth=4, min_child_weight=5, subsample=0.6;, score=0.762 total time=   4.2s\n",
            "[CV 3/3] END colsample_bytree=1.0, gamma=1.5, max_depth=4, min_child_weight=5, subsample=0.6;, score=0.742 total time=   4.2s\n",
            "[CV 1/3] END colsample_bytree=1.0, gamma=1.5, max_depth=4, min_child_weight=5, subsample=0.8;, score=0.759 total time=   4.1s\n",
            "[CV 2/3] END colsample_bytree=1.0, gamma=1.5, max_depth=4, min_child_weight=5, subsample=0.8;, score=0.761 total time=   4.1s\n",
            "[CV 3/3] END colsample_bytree=1.0, gamma=1.5, max_depth=4, min_child_weight=5, subsample=0.8;, score=0.751 total time=   4.1s\n",
            "[CV 1/3] END colsample_bytree=1.0, gamma=1.5, max_depth=4, min_child_weight=5, subsample=1.0;, score=0.758 total time=   3.9s\n",
            "[CV 2/3] END colsample_bytree=1.0, gamma=1.5, max_depth=4, min_child_weight=5, subsample=1.0;, score=0.765 total time=   4.0s\n",
            "[CV 3/3] END colsample_bytree=1.0, gamma=1.5, max_depth=4, min_child_weight=5, subsample=1.0;, score=0.744 total time=   3.9s\n",
            "[CV 1/3] END colsample_bytree=1.0, gamma=1.5, max_depth=4, min_child_weight=10, subsample=0.6;, score=0.724 total time=   4.2s\n",
            "[CV 2/3] END colsample_bytree=1.0, gamma=1.5, max_depth=4, min_child_weight=10, subsample=0.6;, score=0.721 total time=   4.2s\n",
            "[CV 3/3] END colsample_bytree=1.0, gamma=1.5, max_depth=4, min_child_weight=10, subsample=0.6;, score=0.718 total time=   4.2s\n",
            "[CV 1/3] END colsample_bytree=1.0, gamma=1.5, max_depth=4, min_child_weight=10, subsample=0.8;, score=0.729 total time=   4.1s\n",
            "[CV 2/3] END colsample_bytree=1.0, gamma=1.5, max_depth=4, min_child_weight=10, subsample=0.8;, score=0.736 total time=   4.1s\n",
            "[CV 3/3] END colsample_bytree=1.0, gamma=1.5, max_depth=4, min_child_weight=10, subsample=0.8;, score=0.723 total time=   4.1s\n",
            "[CV 1/3] END colsample_bytree=1.0, gamma=1.5, max_depth=4, min_child_weight=10, subsample=1.0;, score=0.739 total time=   4.0s\n",
            "[CV 2/3] END colsample_bytree=1.0, gamma=1.5, max_depth=4, min_child_weight=10, subsample=1.0;, score=0.744 total time=   4.0s\n",
            "[CV 3/3] END colsample_bytree=1.0, gamma=1.5, max_depth=4, min_child_weight=10, subsample=1.0;, score=0.726 total time=   4.0s\n",
            "[CV 1/3] END colsample_bytree=1.0, gamma=1.5, max_depth=5, min_child_weight=1, subsample=0.6;, score=0.771 total time=   5.3s\n",
            "[CV 2/3] END colsample_bytree=1.0, gamma=1.5, max_depth=5, min_child_weight=1, subsample=0.6;, score=0.783 total time=   5.3s\n",
            "[CV 3/3] END colsample_bytree=1.0, gamma=1.5, max_depth=5, min_child_weight=1, subsample=0.6;, score=0.767 total time=   5.2s\n",
            "[CV 1/3] END colsample_bytree=1.0, gamma=1.5, max_depth=5, min_child_weight=1, subsample=0.8;, score=0.776 total time=   5.2s\n",
            "[CV 2/3] END colsample_bytree=1.0, gamma=1.5, max_depth=5, min_child_weight=1, subsample=0.8;, score=0.787 total time=   5.1s\n",
            "[CV 3/3] END colsample_bytree=1.0, gamma=1.5, max_depth=5, min_child_weight=1, subsample=0.8;, score=0.768 total time=   6.3s\n",
            "[CV 1/3] END colsample_bytree=1.0, gamma=1.5, max_depth=5, min_child_weight=1, subsample=1.0;, score=0.776 total time=   5.0s\n",
            "[CV 2/3] END colsample_bytree=1.0, gamma=1.5, max_depth=5, min_child_weight=1, subsample=1.0;, score=0.783 total time=   5.0s\n",
            "[CV 3/3] END colsample_bytree=1.0, gamma=1.5, max_depth=5, min_child_weight=1, subsample=1.0;, score=0.762 total time=   5.0s\n",
            "[CV 1/3] END colsample_bytree=1.0, gamma=1.5, max_depth=5, min_child_weight=5, subsample=0.6;, score=0.755 total time=   5.1s\n",
            "[CV 2/3] END colsample_bytree=1.0, gamma=1.5, max_depth=5, min_child_weight=5, subsample=0.6;, score=0.760 total time=   5.2s\n",
            "[CV 3/3] END colsample_bytree=1.0, gamma=1.5, max_depth=5, min_child_weight=5, subsample=0.6;, score=0.746 total time=   5.2s\n",
            "[CV 1/3] END colsample_bytree=1.0, gamma=1.5, max_depth=5, min_child_weight=5, subsample=0.8;, score=0.764 total time=   5.1s\n",
            "[CV 2/3] END colsample_bytree=1.0, gamma=1.5, max_depth=5, min_child_weight=5, subsample=0.8;, score=0.768 total time=   5.1s\n",
            "[CV 3/3] END colsample_bytree=1.0, gamma=1.5, max_depth=5, min_child_weight=5, subsample=0.8;, score=0.756 total time=   5.1s\n",
            "[CV 1/3] END colsample_bytree=1.0, gamma=1.5, max_depth=5, min_child_weight=5, subsample=1.0;, score=0.764 total time=   4.9s\n",
            "[CV 2/3] END colsample_bytree=1.0, gamma=1.5, max_depth=5, min_child_weight=5, subsample=1.0;, score=0.771 total time=   5.0s\n",
            "[CV 3/3] END colsample_bytree=1.0, gamma=1.5, max_depth=5, min_child_weight=5, subsample=1.0;, score=0.756 total time=   4.9s\n",
            "[CV 1/3] END colsample_bytree=1.0, gamma=1.5, max_depth=5, min_child_weight=10, subsample=0.6;, score=0.722 total time=   5.2s\n",
            "[CV 2/3] END colsample_bytree=1.0, gamma=1.5, max_depth=5, min_child_weight=10, subsample=0.6;, score=0.719 total time=   5.2s\n",
            "[CV 3/3] END colsample_bytree=1.0, gamma=1.5, max_depth=5, min_child_weight=10, subsample=0.6;, score=0.718 total time=   5.1s\n",
            "[CV 1/3] END colsample_bytree=1.0, gamma=1.5, max_depth=5, min_child_weight=10, subsample=0.8;, score=0.736 total time=   5.1s\n",
            "[CV 2/3] END colsample_bytree=1.0, gamma=1.5, max_depth=5, min_child_weight=10, subsample=0.8;, score=0.736 total time=   5.1s\n",
            "[CV 3/3] END colsample_bytree=1.0, gamma=1.5, max_depth=5, min_child_weight=10, subsample=0.8;, score=0.727 total time=   5.1s\n",
            "[CV 1/3] END colsample_bytree=1.0, gamma=1.5, max_depth=5, min_child_weight=10, subsample=1.0;, score=0.742 total time=   5.0s\n",
            "[CV 2/3] END colsample_bytree=1.0, gamma=1.5, max_depth=5, min_child_weight=10, subsample=1.0;, score=0.741 total time=   5.0s\n",
            "[CV 3/3] END colsample_bytree=1.0, gamma=1.5, max_depth=5, min_child_weight=10, subsample=1.0;, score=0.729 total time=   4.9s\n",
            "[CV 1/3] END colsample_bytree=1.0, gamma=2, max_depth=3, min_child_weight=1, subsample=0.6;, score=0.754 total time=   3.2s\n",
            "[CV 2/3] END colsample_bytree=1.0, gamma=2, max_depth=3, min_child_weight=1, subsample=0.6;, score=0.767 total time=   3.2s\n",
            "[CV 3/3] END colsample_bytree=1.0, gamma=2, max_depth=3, min_child_weight=1, subsample=0.6;, score=0.749 total time=   3.2s\n",
            "[CV 1/3] END colsample_bytree=1.0, gamma=2, max_depth=3, min_child_weight=1, subsample=0.8;, score=0.753 total time=   3.2s\n",
            "[CV 2/3] END colsample_bytree=1.0, gamma=2, max_depth=3, min_child_weight=1, subsample=0.8;, score=0.763 total time=   3.1s\n",
            "[CV 3/3] END colsample_bytree=1.0, gamma=2, max_depth=3, min_child_weight=1, subsample=0.8;, score=0.745 total time=   3.1s\n",
            "[CV 1/3] END colsample_bytree=1.0, gamma=2, max_depth=3, min_child_weight=1, subsample=1.0;, score=0.751 total time=   3.1s\n",
            "[CV 2/3] END colsample_bytree=1.0, gamma=2, max_depth=3, min_child_weight=1, subsample=1.0;, score=0.766 total time=   3.1s\n",
            "[CV 3/3] END colsample_bytree=1.0, gamma=2, max_depth=3, min_child_weight=1, subsample=1.0;, score=0.744 total time=   3.1s\n",
            "[CV 1/3] END colsample_bytree=1.0, gamma=2, max_depth=3, min_child_weight=5, subsample=0.6;, score=0.751 total time=   3.1s\n",
            "[CV 2/3] END colsample_bytree=1.0, gamma=2, max_depth=3, min_child_weight=5, subsample=0.6;, score=0.757 total time=   3.2s\n",
            "[CV 3/3] END colsample_bytree=1.0, gamma=2, max_depth=3, min_child_weight=5, subsample=0.6;, score=0.737 total time=   3.2s\n",
            "[CV 1/3] END colsample_bytree=1.0, gamma=2, max_depth=3, min_child_weight=5, subsample=0.8;, score=0.752 total time=   3.1s\n",
            "[CV 2/3] END colsample_bytree=1.0, gamma=2, max_depth=3, min_child_weight=5, subsample=0.8;, score=0.756 total time=   3.1s\n",
            "[CV 3/3] END colsample_bytree=1.0, gamma=2, max_depth=3, min_child_weight=5, subsample=0.8;, score=0.742 total time=   3.1s\n",
            "[CV 1/3] END colsample_bytree=1.0, gamma=2, max_depth=3, min_child_weight=5, subsample=1.0;, score=0.751 total time=   3.0s\n",
            "[CV 2/3] END colsample_bytree=1.0, gamma=2, max_depth=3, min_child_weight=5, subsample=1.0;, score=0.761 total time=   3.0s\n",
            "[CV 3/3] END colsample_bytree=1.0, gamma=2, max_depth=3, min_child_weight=5, subsample=1.0;, score=0.735 total time=   3.0s\n",
            "[CV 1/3] END colsample_bytree=1.0, gamma=2, max_depth=3, min_child_weight=10, subsample=0.6;, score=0.719 total time=   3.2s\n",
            "[CV 2/3] END colsample_bytree=1.0, gamma=2, max_depth=3, min_child_weight=10, subsample=0.6;, score=0.718 total time=   3.1s\n",
            "[CV 3/3] END colsample_bytree=1.0, gamma=2, max_depth=3, min_child_weight=10, subsample=0.6;, score=0.715 total time=   3.2s\n",
            "[CV 1/3] END colsample_bytree=1.0, gamma=2, max_depth=3, min_child_weight=10, subsample=0.8;, score=0.729 total time=   3.1s\n",
            "[CV 2/3] END colsample_bytree=1.0, gamma=2, max_depth=3, min_child_weight=10, subsample=0.8;, score=0.736 total time=   3.2s\n",
            "[CV 3/3] END colsample_bytree=1.0, gamma=2, max_depth=3, min_child_weight=10, subsample=0.8;, score=0.721 total time=   4.2s\n",
            "[CV 1/3] END colsample_bytree=1.0, gamma=2, max_depth=3, min_child_weight=10, subsample=1.0;, score=0.736 total time=   3.0s\n",
            "[CV 2/3] END colsample_bytree=1.0, gamma=2, max_depth=3, min_child_weight=10, subsample=1.0;, score=0.740 total time=   3.0s\n",
            "[CV 3/3] END colsample_bytree=1.0, gamma=2, max_depth=3, min_child_weight=10, subsample=1.0;, score=0.724 total time=   3.0s\n",
            "[CV 1/3] END colsample_bytree=1.0, gamma=2, max_depth=4, min_child_weight=1, subsample=0.6;, score=0.766 total time=   4.2s\n",
            "[CV 2/3] END colsample_bytree=1.0, gamma=2, max_depth=4, min_child_weight=1, subsample=0.6;, score=0.778 total time=   4.2s\n",
            "[CV 3/3] END colsample_bytree=1.0, gamma=2, max_depth=4, min_child_weight=1, subsample=0.6;, score=0.755 total time=   4.2s\n",
            "[CV 1/3] END colsample_bytree=1.0, gamma=2, max_depth=4, min_child_weight=1, subsample=0.8;, score=0.765 total time=   4.2s\n",
            "[CV 2/3] END colsample_bytree=1.0, gamma=2, max_depth=4, min_child_weight=1, subsample=0.8;, score=0.779 total time=   4.1s\n",
            "[CV 3/3] END colsample_bytree=1.0, gamma=2, max_depth=4, min_child_weight=1, subsample=0.8;, score=0.758 total time=   4.1s\n",
            "[CV 1/3] END colsample_bytree=1.0, gamma=2, max_depth=4, min_child_weight=1, subsample=1.0;, score=0.765 total time=   4.0s\n",
            "[CV 2/3] END colsample_bytree=1.0, gamma=2, max_depth=4, min_child_weight=1, subsample=1.0;, score=0.777 total time=   4.0s\n",
            "[CV 3/3] END colsample_bytree=1.0, gamma=2, max_depth=4, min_child_weight=1, subsample=1.0;, score=0.755 total time=   4.1s\n",
            "[CV 1/3] END colsample_bytree=1.0, gamma=2, max_depth=4, min_child_weight=5, subsample=0.6;, score=0.751 total time=   4.2s\n",
            "[CV 2/3] END colsample_bytree=1.0, gamma=2, max_depth=4, min_child_weight=5, subsample=0.6;, score=0.761 total time=   4.2s\n",
            "[CV 3/3] END colsample_bytree=1.0, gamma=2, max_depth=4, min_child_weight=5, subsample=0.6;, score=0.744 total time=   4.2s\n",
            "[CV 1/3] END colsample_bytree=1.0, gamma=2, max_depth=4, min_child_weight=5, subsample=0.8;, score=0.759 total time=   4.1s\n",
            "[CV 2/3] END colsample_bytree=1.0, gamma=2, max_depth=4, min_child_weight=5, subsample=0.8;, score=0.762 total time=   4.1s\n",
            "[CV 3/3] END colsample_bytree=1.0, gamma=2, max_depth=4, min_child_weight=5, subsample=0.8;, score=0.751 total time=   4.1s\n",
            "[CV 1/3] END colsample_bytree=1.0, gamma=2, max_depth=4, min_child_weight=5, subsample=1.0;, score=0.758 total time=   4.0s\n",
            "[CV 2/3] END colsample_bytree=1.0, gamma=2, max_depth=4, min_child_weight=5, subsample=1.0;, score=0.766 total time=   4.0s\n",
            "[CV 3/3] END colsample_bytree=1.0, gamma=2, max_depth=4, min_child_weight=5, subsample=1.0;, score=0.746 total time=   3.9s\n",
            "[CV 1/3] END colsample_bytree=1.0, gamma=2, max_depth=4, min_child_weight=10, subsample=0.6;, score=0.723 total time=   4.2s\n",
            "[CV 2/3] END colsample_bytree=1.0, gamma=2, max_depth=4, min_child_weight=10, subsample=0.6;, score=0.720 total time=   4.2s\n",
            "[CV 3/3] END colsample_bytree=1.0, gamma=2, max_depth=4, min_child_weight=10, subsample=0.6;, score=0.718 total time=   4.2s\n",
            "[CV 1/3] END colsample_bytree=1.0, gamma=2, max_depth=4, min_child_weight=10, subsample=0.8;, score=0.730 total time=   4.0s\n",
            "[CV 2/3] END colsample_bytree=1.0, gamma=2, max_depth=4, min_child_weight=10, subsample=0.8;, score=0.734 total time=   4.1s\n",
            "[CV 3/3] END colsample_bytree=1.0, gamma=2, max_depth=4, min_child_weight=10, subsample=0.8;, score=0.721 total time=   4.1s\n",
            "[CV 1/3] END colsample_bytree=1.0, gamma=2, max_depth=4, min_child_weight=10, subsample=1.0;, score=0.738 total time=   4.0s\n",
            "[CV 2/3] END colsample_bytree=1.0, gamma=2, max_depth=4, min_child_weight=10, subsample=1.0;, score=0.743 total time=   3.9s\n",
            "[CV 3/3] END colsample_bytree=1.0, gamma=2, max_depth=4, min_child_weight=10, subsample=1.0;, score=0.724 total time=   4.0s\n",
            "[CV 1/3] END colsample_bytree=1.0, gamma=2, max_depth=5, min_child_weight=1, subsample=0.6;, score=0.772 total time=   5.2s\n",
            "[CV 2/3] END colsample_bytree=1.0, gamma=2, max_depth=5, min_child_weight=1, subsample=0.6;, score=0.784 total time=   5.2s\n",
            "[CV 3/3] END colsample_bytree=1.0, gamma=2, max_depth=5, min_child_weight=1, subsample=0.6;, score=0.767 total time=   5.2s\n",
            "[CV 1/3] END colsample_bytree=1.0, gamma=2, max_depth=5, min_child_weight=1, subsample=0.8;, score=0.773 total time=   5.1s\n",
            "[CV 2/3] END colsample_bytree=1.0, gamma=2, max_depth=5, min_child_weight=1, subsample=0.8;, score=0.782 total time=   5.2s\n",
            "[CV 3/3] END colsample_bytree=1.0, gamma=2, max_depth=5, min_child_weight=1, subsample=0.8;, score=0.768 total time=   5.2s\n",
            "[CV 1/3] END colsample_bytree=1.0, gamma=2, max_depth=5, min_child_weight=1, subsample=1.0;, score=0.773 total time=   5.0s\n",
            "[CV 2/3] END colsample_bytree=1.0, gamma=2, max_depth=5, min_child_weight=1, subsample=1.0;, score=0.782 total time=   5.0s\n",
            "[CV 3/3] END colsample_bytree=1.0, gamma=2, max_depth=5, min_child_weight=1, subsample=1.0;, score=0.760 total time=   5.0s\n",
            "[CV 1/3] END colsample_bytree=1.0, gamma=2, max_depth=5, min_child_weight=5, subsample=0.6;, score=0.753 total time=   5.2s\n",
            "[CV 2/3] END colsample_bytree=1.0, gamma=2, max_depth=5, min_child_weight=5, subsample=0.6;, score=0.762 total time=   5.2s\n",
            "[CV 3/3] END colsample_bytree=1.0, gamma=2, max_depth=5, min_child_weight=5, subsample=0.6;, score=0.745 total time=   6.3s\n",
            "[CV 1/3] END colsample_bytree=1.0, gamma=2, max_depth=5, min_child_weight=5, subsample=0.8;, score=0.764 total time=   5.1s\n",
            "[CV 2/3] END colsample_bytree=1.0, gamma=2, max_depth=5, min_child_weight=5, subsample=0.8;, score=0.769 total time=   5.1s\n",
            "[CV 3/3] END colsample_bytree=1.0, gamma=2, max_depth=5, min_child_weight=5, subsample=0.8;, score=0.754 total time=   5.1s\n",
            "[CV 1/3] END colsample_bytree=1.0, gamma=2, max_depth=5, min_child_weight=5, subsample=1.0;, score=0.765 total time=   4.9s\n",
            "[CV 2/3] END colsample_bytree=1.0, gamma=2, max_depth=5, min_child_weight=5, subsample=1.0;, score=0.772 total time=   5.0s\n",
            "[CV 3/3] END colsample_bytree=1.0, gamma=2, max_depth=5, min_child_weight=5, subsample=1.0;, score=0.755 total time=   4.9s\n",
            "[CV 1/3] END colsample_bytree=1.0, gamma=2, max_depth=5, min_child_weight=10, subsample=0.6;, score=0.722 total time=   5.2s\n",
            "[CV 2/3] END colsample_bytree=1.0, gamma=2, max_depth=5, min_child_weight=10, subsample=0.6;, score=0.719 total time=   5.1s\n",
            "[CV 3/3] END colsample_bytree=1.0, gamma=2, max_depth=5, min_child_weight=10, subsample=0.6;, score=0.716 total time=   5.2s\n",
            "[CV 1/3] END colsample_bytree=1.0, gamma=2, max_depth=5, min_child_weight=10, subsample=0.8;, score=0.737 total time=   5.1s\n",
            "[CV 2/3] END colsample_bytree=1.0, gamma=2, max_depth=5, min_child_weight=10, subsample=0.8;, score=0.737 total time=   5.1s\n",
            "[CV 3/3] END colsample_bytree=1.0, gamma=2, max_depth=5, min_child_weight=10, subsample=0.8;, score=0.726 total time=   5.0s\n",
            "[CV 1/3] END colsample_bytree=1.0, gamma=2, max_depth=5, min_child_weight=10, subsample=1.0;, score=0.740 total time=   4.9s\n",
            "[CV 2/3] END colsample_bytree=1.0, gamma=2, max_depth=5, min_child_weight=10, subsample=1.0;, score=0.741 total time=   5.0s\n",
            "[CV 3/3] END colsample_bytree=1.0, gamma=2, max_depth=5, min_child_weight=10, subsample=1.0;, score=0.729 total time=   4.9s\n",
            "[CV 1/3] END colsample_bytree=1.0, gamma=5, max_depth=3, min_child_weight=1, subsample=0.6;, score=0.755 total time=   3.2s\n",
            "[CV 2/3] END colsample_bytree=1.0, gamma=5, max_depth=3, min_child_weight=1, subsample=0.6;, score=0.767 total time=   3.2s\n",
            "[CV 3/3] END colsample_bytree=1.0, gamma=5, max_depth=3, min_child_weight=1, subsample=0.6;, score=0.748 total time=   3.2s\n",
            "[CV 1/3] END colsample_bytree=1.0, gamma=5, max_depth=3, min_child_weight=1, subsample=0.8;, score=0.758 total time=   3.2s\n",
            "[CV 2/3] END colsample_bytree=1.0, gamma=5, max_depth=3, min_child_weight=1, subsample=0.8;, score=0.761 total time=   3.1s\n",
            "[CV 3/3] END colsample_bytree=1.0, gamma=5, max_depth=3, min_child_weight=1, subsample=0.8;, score=0.747 total time=   3.2s\n",
            "[CV 1/3] END colsample_bytree=1.0, gamma=5, max_depth=3, min_child_weight=1, subsample=1.0;, score=0.751 total time=   3.1s\n",
            "[CV 2/3] END colsample_bytree=1.0, gamma=5, max_depth=3, min_child_weight=1, subsample=1.0;, score=0.767 total time=   3.0s\n",
            "[CV 3/3] END colsample_bytree=1.0, gamma=5, max_depth=3, min_child_weight=1, subsample=1.0;, score=0.744 total time=   3.0s\n",
            "[CV 1/3] END colsample_bytree=1.0, gamma=5, max_depth=3, min_child_weight=5, subsample=0.6;, score=0.751 total time=   3.2s\n",
            "[CV 2/3] END colsample_bytree=1.0, gamma=5, max_depth=3, min_child_weight=5, subsample=0.6;, score=0.756 total time=   3.2s\n",
            "[CV 3/3] END colsample_bytree=1.0, gamma=5, max_depth=3, min_child_weight=5, subsample=0.6;, score=0.734 total time=   3.1s\n",
            "[CV 1/3] END colsample_bytree=1.0, gamma=5, max_depth=3, min_child_weight=5, subsample=0.8;, score=0.751 total time=   3.1s\n",
            "[CV 2/3] END colsample_bytree=1.0, gamma=5, max_depth=3, min_child_weight=5, subsample=0.8;, score=0.757 total time=   3.1s\n",
            "[CV 3/3] END colsample_bytree=1.0, gamma=5, max_depth=3, min_child_weight=5, subsample=0.8;, score=0.741 total time=   3.1s\n",
            "[CV 1/3] END colsample_bytree=1.0, gamma=5, max_depth=3, min_child_weight=5, subsample=1.0;, score=0.748 total time=   3.0s\n",
            "[CV 2/3] END colsample_bytree=1.0, gamma=5, max_depth=3, min_child_weight=5, subsample=1.0;, score=0.762 total time=   3.0s\n",
            "[CV 3/3] END colsample_bytree=1.0, gamma=5, max_depth=3, min_child_weight=5, subsample=1.0;, score=0.738 total time=   3.0s\n",
            "[CV 1/3] END colsample_bytree=1.0, gamma=5, max_depth=3, min_child_weight=10, subsample=0.6;, score=0.720 total time=   3.1s\n",
            "[CV 2/3] END colsample_bytree=1.0, gamma=5, max_depth=3, min_child_weight=10, subsample=0.6;, score=0.717 total time=   3.2s\n",
            "[CV 3/3] END colsample_bytree=1.0, gamma=5, max_depth=3, min_child_weight=10, subsample=0.6;, score=0.715 total time=   3.2s\n",
            "[CV 1/3] END colsample_bytree=1.0, gamma=5, max_depth=3, min_child_weight=10, subsample=0.8;, score=0.731 total time=   3.1s\n",
            "[CV 2/3] END colsample_bytree=1.0, gamma=5, max_depth=3, min_child_weight=10, subsample=0.8;, score=0.735 total time=   3.1s\n",
            "[CV 3/3] END colsample_bytree=1.0, gamma=5, max_depth=3, min_child_weight=10, subsample=0.8;, score=0.720 total time=   3.1s\n",
            "[CV 1/3] END colsample_bytree=1.0, gamma=5, max_depth=3, min_child_weight=10, subsample=1.0;, score=0.736 total time=   3.0s\n",
            "[CV 2/3] END colsample_bytree=1.0, gamma=5, max_depth=3, min_child_weight=10, subsample=1.0;, score=0.739 total time=   3.1s\n",
            "[CV 3/3] END colsample_bytree=1.0, gamma=5, max_depth=3, min_child_weight=10, subsample=1.0;, score=0.722 total time=   3.0s\n",
            "[CV 1/3] END colsample_bytree=1.0, gamma=5, max_depth=4, min_child_weight=1, subsample=0.6;, score=0.764 total time=   4.3s\n",
            "[CV 2/3] END colsample_bytree=1.0, gamma=5, max_depth=4, min_child_weight=1, subsample=0.6;, score=0.777 total time=   4.2s\n",
            "[CV 3/3] END colsample_bytree=1.0, gamma=5, max_depth=4, min_child_weight=1, subsample=0.6;, score=0.756 total time=   4.2s\n",
            "[CV 1/3] END colsample_bytree=1.0, gamma=5, max_depth=4, min_child_weight=1, subsample=0.8;, score=0.764 total time=   4.2s\n",
            "[CV 2/3] END colsample_bytree=1.0, gamma=5, max_depth=4, min_child_weight=1, subsample=0.8;, score=0.775 total time=   4.8s\n",
            "[CV 3/3] END colsample_bytree=1.0, gamma=5, max_depth=4, min_child_weight=1, subsample=0.8;, score=0.756 total time=   4.7s\n",
            "[CV 1/3] END colsample_bytree=1.0, gamma=5, max_depth=4, min_child_weight=1, subsample=1.0;, score=0.764 total time=   4.0s\n",
            "[CV 2/3] END colsample_bytree=1.0, gamma=5, max_depth=4, min_child_weight=1, subsample=1.0;, score=0.777 total time=   4.0s\n",
            "[CV 3/3] END colsample_bytree=1.0, gamma=5, max_depth=4, min_child_weight=1, subsample=1.0;, score=0.753 total time=   4.0s\n",
            "[CV 1/3] END colsample_bytree=1.0, gamma=5, max_depth=4, min_child_weight=5, subsample=0.6;, score=0.753 total time=   4.2s\n",
            "[CV 2/3] END colsample_bytree=1.0, gamma=5, max_depth=4, min_child_weight=5, subsample=0.6;, score=0.759 total time=   4.2s\n",
            "[CV 3/3] END colsample_bytree=1.0, gamma=5, max_depth=4, min_child_weight=5, subsample=0.6;, score=0.742 total time=   4.2s\n",
            "[CV 1/3] END colsample_bytree=1.0, gamma=5, max_depth=4, min_child_weight=5, subsample=0.8;, score=0.757 total time=   4.1s\n",
            "[CV 2/3] END colsample_bytree=1.0, gamma=5, max_depth=4, min_child_weight=5, subsample=0.8;, score=0.762 total time=   4.1s\n",
            "[CV 3/3] END colsample_bytree=1.0, gamma=5, max_depth=4, min_child_weight=5, subsample=0.8;, score=0.750 total time=   4.1s\n",
            "[CV 1/3] END colsample_bytree=1.0, gamma=5, max_depth=4, min_child_weight=5, subsample=1.0;, score=0.754 total time=   4.0s\n",
            "[CV 2/3] END colsample_bytree=1.0, gamma=5, max_depth=4, min_child_weight=5, subsample=1.0;, score=0.766 total time=   3.9s\n",
            "[CV 3/3] END colsample_bytree=1.0, gamma=5, max_depth=4, min_child_weight=5, subsample=1.0;, score=0.744 total time=   3.9s\n",
            "[CV 1/3] END colsample_bytree=1.0, gamma=5, max_depth=4, min_child_weight=10, subsample=0.6;, score=0.724 total time=   4.2s\n",
            "[CV 2/3] END colsample_bytree=1.0, gamma=5, max_depth=4, min_child_weight=10, subsample=0.6;, score=0.718 total time=   4.2s\n",
            "[CV 3/3] END colsample_bytree=1.0, gamma=5, max_depth=4, min_child_weight=10, subsample=0.6;, score=0.714 total time=   4.2s\n",
            "[CV 1/3] END colsample_bytree=1.0, gamma=5, max_depth=4, min_child_weight=10, subsample=0.8;, score=0.728 total time=   4.1s\n",
            "[CV 2/3] END colsample_bytree=1.0, gamma=5, max_depth=4, min_child_weight=10, subsample=0.8;, score=0.736 total time=   4.1s\n",
            "[CV 3/3] END colsample_bytree=1.0, gamma=5, max_depth=4, min_child_weight=10, subsample=0.8;, score=0.720 total time=   4.1s\n",
            "[CV 1/3] END colsample_bytree=1.0, gamma=5, max_depth=4, min_child_weight=10, subsample=1.0;, score=0.739 total time=   4.0s\n",
            "[CV 2/3] END colsample_bytree=1.0, gamma=5, max_depth=4, min_child_weight=10, subsample=1.0;, score=0.743 total time=   4.0s\n",
            "[CV 3/3] END colsample_bytree=1.0, gamma=5, max_depth=4, min_child_weight=10, subsample=1.0;, score=0.725 total time=   4.0s\n",
            "[CV 1/3] END colsample_bytree=1.0, gamma=5, max_depth=5, min_child_weight=1, subsample=0.6;, score=0.771 total time=   5.3s\n",
            "[CV 2/3] END colsample_bytree=1.0, gamma=5, max_depth=5, min_child_weight=1, subsample=0.6;, score=0.783 total time=   5.2s\n",
            "[CV 3/3] END colsample_bytree=1.0, gamma=5, max_depth=5, min_child_weight=1, subsample=0.6;, score=0.766 total time=   5.2s\n",
            "[CV 1/3] END colsample_bytree=1.0, gamma=5, max_depth=5, min_child_weight=1, subsample=0.8;, score=0.774 total time=   5.2s\n",
            "[CV 2/3] END colsample_bytree=1.0, gamma=5, max_depth=5, min_child_weight=1, subsample=0.8;, score=0.779 total time=   5.2s\n",
            "[CV 3/3] END colsample_bytree=1.0, gamma=5, max_depth=5, min_child_weight=1, subsample=0.8;, score=0.767 total time=   5.1s\n",
            "[CV 1/3] END colsample_bytree=1.0, gamma=5, max_depth=5, min_child_weight=1, subsample=1.0;, score=0.772 total time=   5.0s\n",
            "[CV 2/3] END colsample_bytree=1.0, gamma=5, max_depth=5, min_child_weight=1, subsample=1.0;, score=0.782 total time=   5.0s\n",
            "[CV 3/3] END colsample_bytree=1.0, gamma=5, max_depth=5, min_child_weight=1, subsample=1.0;, score=0.764 total time=   5.3s\n",
            "[CV 1/3] END colsample_bytree=1.0, gamma=5, max_depth=5, min_child_weight=5, subsample=0.6;, score=0.756 total time=   5.2s\n",
            "[CV 2/3] END colsample_bytree=1.0, gamma=5, max_depth=5, min_child_weight=5, subsample=0.6;, score=0.761 total time=   5.2s\n",
            "[CV 3/3] END colsample_bytree=1.0, gamma=5, max_depth=5, min_child_weight=5, subsample=0.6;, score=0.746 total time=   5.2s\n",
            "[CV 1/3] END colsample_bytree=1.0, gamma=5, max_depth=5, min_child_weight=5, subsample=0.8;, score=0.761 total time=   5.1s\n",
            "[CV 2/3] END colsample_bytree=1.0, gamma=5, max_depth=5, min_child_weight=5, subsample=0.8;, score=0.768 total time=   5.0s\n",
            "[CV 3/3] END colsample_bytree=1.0, gamma=5, max_depth=5, min_child_weight=5, subsample=0.8;, score=0.755 total time=   5.1s\n",
            "[CV 1/3] END colsample_bytree=1.0, gamma=5, max_depth=5, min_child_weight=5, subsample=1.0;, score=0.764 total time=   5.0s\n",
            "[CV 2/3] END colsample_bytree=1.0, gamma=5, max_depth=5, min_child_weight=5, subsample=1.0;, score=0.769 total time=   5.0s\n",
            "[CV 3/3] END colsample_bytree=1.0, gamma=5, max_depth=5, min_child_weight=5, subsample=1.0;, score=0.759 total time=   5.0s\n",
            "[CV 1/3] END colsample_bytree=1.0, gamma=5, max_depth=5, min_child_weight=10, subsample=0.6;, score=0.724 total time=   6.3s\n",
            "[CV 2/3] END colsample_bytree=1.0, gamma=5, max_depth=5, min_child_weight=10, subsample=0.6;, score=0.721 total time=   5.1s\n",
            "[CV 3/3] END colsample_bytree=1.0, gamma=5, max_depth=5, min_child_weight=10, subsample=0.6;, score=0.714 total time=   5.2s\n",
            "[CV 1/3] END colsample_bytree=1.0, gamma=5, max_depth=5, min_child_weight=10, subsample=0.8;, score=0.729 total time=   5.1s\n",
            "[CV 2/3] END colsample_bytree=1.0, gamma=5, max_depth=5, min_child_weight=10, subsample=0.8;, score=0.733 total time=   5.1s\n",
            "[CV 3/3] END colsample_bytree=1.0, gamma=5, max_depth=5, min_child_weight=10, subsample=0.8;, score=0.723 total time=   5.1s\n",
            "[CV 1/3] END colsample_bytree=1.0, gamma=5, max_depth=5, min_child_weight=10, subsample=1.0;, score=0.739 total time=   4.9s\n",
            "[CV 2/3] END colsample_bytree=1.0, gamma=5, max_depth=5, min_child_weight=10, subsample=1.0;, score=0.741 total time=   4.9s\n",
            "[CV 3/3] END colsample_bytree=1.0, gamma=5, max_depth=5, min_child_weight=10, subsample=1.0;, score=0.726 total time=   4.9s\n"
          ]
        },
        {
          "output_type": "execute_result",
          "data": {
            "text/plain": [
              "Pipeline(steps=[('vectorizer',\n",
              "                 CountVectorizer(tokenizer=<function <lambda> at 0x7f071fdb7050>)),\n",
              "                ('model',\n",
              "                 GridSearchCV(cv=3, estimator=XGBClassifier(),\n",
              "                              param_grid={'colsample_bytree': [0.6, 0.8, 1.0],\n",
              "                                          'gamma': [0.5, 1, 1.5, 2, 5],\n",
              "                                          'max_depth': [3, 4, 5],\n",
              "                                          'min_child_weight': [1, 5, 10],\n",
              "                                          'subsample': [0.6, 0.8, 1.0]},\n",
              "                              verbose=4))])"
            ]
          },
          "metadata": {},
          "execution_count": 57
        }
      ]
    },
    {
      "cell_type": "code",
      "source": [
        "grid_pipeline = Pipeline([\n",
        "    ('vectorizer', CountVectorizer(tokenizer=lambda x: tokenize_sentence(x))),\n",
        "    ('model', XGBClassifier(random_state=0, colsample_bytree=1.0, gamma=1.5, max_depth=5, min_child_weight=1, subsample=0.8))         \n",
        "])\n",
        "#colsample_bytree=1.0, gamma=1.5, max_depth=5, min_child_weight=1, subsample=0.8;, score=0.787"
      ],
      "metadata": {
        "id": "oGi495_H088a"
      },
      "execution_count": 47,
      "outputs": []
    },
    {
      "cell_type": "code",
      "source": [
        "grid_pipeline.fit(df_train['comment'], df_train['toxic'])"
      ],
      "metadata": {
        "colab": {
          "base_uri": "https://localhost:8080/"
        },
        "id": "CKxqvU0Z2CoC",
        "outputId": "1e68913e-b7d8-4b86-a8fc-827b389c17aa"
      },
      "execution_count": 48,
      "outputs": [
        {
          "output_type": "execute_result",
          "data": {
            "text/plain": [
              "Pipeline(steps=[('vectorizer',\n",
              "                 CountVectorizer(tokenizer=<function <lambda> at 0x7fcf8f2729e0>)),\n",
              "                ('model',\n",
              "                 XGBClassifier(colsample_bytree=1.0, gamma=1.5, max_depth=5,\n",
              "                               subsample=0.8))])"
            ]
          },
          "metadata": {},
          "execution_count": 48
        }
      ]
    },
    {
      "cell_type": "code",
      "source": [
        "precision_score(y_true=df_test['toxic'], y_pred=grid_pipeline.predict(df_test['comment']))"
      ],
      "metadata": {
        "colab": {
          "base_uri": "https://localhost:8080/"
        },
        "id": "lnREfy4c2_rD",
        "outputId": "95d925dd-d9e4-4bb1-bf74-8592e02633f7"
      },
      "execution_count": null,
      "outputs": [
        {
          "output_type": "execute_result",
          "data": {
            "text/plain": [
              "0.8821603927986906"
            ]
          },
          "metadata": {},
          "execution_count": 73
        }
      ]
    },
    {
      "cell_type": "code",
      "source": [
        "grid_pipeline.predict(['бля'])"
      ],
      "metadata": {
        "colab": {
          "base_uri": "https://localhost:8080/"
        },
        "id": "oFUM_Iqy4ayT",
        "outputId": "20f1179e-0332-4b7c-c5b1-b006f41e0d30"
      },
      "execution_count": null,
      "outputs": [
        {
          "output_type": "execute_result",
          "data": {
            "text/plain": [
              "array([1.])"
            ]
          },
          "metadata": {},
          "execution_count": 87
        }
      ]
    },
    {
      "cell_type": "code",
      "source": [
        "import joblib"
      ],
      "metadata": {
        "id": "hjp6kfy07DOY"
      },
      "execution_count": 38,
      "outputs": []
    },
    {
      "cell_type": "code",
      "source": [
        "import dill"
      ],
      "metadata": {
        "id": "SAwIWoy68AkJ"
      },
      "execution_count": 49,
      "outputs": []
    },
    {
      "cell_type": "code",
      "source": [
        "dill.dump (grid_pipeline, open('model_grid_pipeline.pkl', 'wb'))"
      ],
      "metadata": {
        "id": "7d7s-p7Z7vNe"
      },
      "execution_count": 51,
      "outputs": []
    },
    {
      "cell_type": "code",
      "source": [
        "with open('/content/model_grid_pipeline.pkl', 'rb') as f:\n",
        "\tmodel = dill.load(f)"
      ],
      "metadata": {
        "id": "4sV8KkMpO1da"
      },
      "execution_count": 53,
      "outputs": []
    },
    {
      "cell_type": "code",
      "source": [
        "model.predict([\"\"])"
      ],
      "metadata": {
        "colab": {
          "base_uri": "https://localhost:8080/"
        },
        "id": "r-FNh3eaO_5c",
        "outputId": "cd9be09d-d010-4dfe-d628-6342a447f30d"
      },
      "execution_count": 77,
      "outputs": [
        {
          "output_type": "execute_result",
          "data": {
            "text/plain": [
              "array([0.])"
            ]
          },
          "metadata": {},
          "execution_count": 77
        }
      ]
    }
  ]
}